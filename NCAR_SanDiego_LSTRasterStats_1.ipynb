{
 "cells": [
  {
   "cell_type": "code",
   "execution_count": 2,
   "id": "89381cdb-6464-48bb-ba3f-161ae0a6abb1",
   "metadata": {},
   "outputs": [],
   "source": [
    "# Data & geospatial packages\n",
    "import os\n",
    "import glob\n",
    "import pandas as pd\n",
    "import geopandas as gpd\n",
    "import rasterio\n",
    "from rasterio.mask import mask\n",
    "from shapely.geometry import box\n",
    "import numpy as np\n",
    "\n",
    "# Progress bar\n",
    "from tqdm import tqdm\n",
    "\n",
    "# For datetime parsing\n",
    "from datetime import datetime\n"
   ]
  },
  {
   "cell_type": "code",
   "execution_count": 4,
   "id": "407cc382-13e7-4727-a80c-7101ed5d77f9",
   "metadata": {},
   "outputs": [],
   "source": [
    "# File paths\n",
    "shapefile_path = r\"C:\\Users\\jbros\\OneDrive\\Documents\\SanDiego_RemoteSensing\\Agricultural_Commodity_2020_shapefile\\Agricultural_Commodity_2020.shp\"\n",
    "csv_path = r\"C:\\Users\\jbros\\OneDrive\\Documents\\SanDiego_RemoteSensing\\AFoster_data_merged.csv\"\n",
    "raster_dir = r\"C:\\Users\\jbros\\OneDrive\\Documents\\SanDiego_RemoteSensing\\San_LST_20182025_cloudmasked_PST\"\n",
    "output_dir = r\"C:\\Users\\jbros\\OneDrive\\Documents\\SanDiego_RemoteSensing\\raster_stats\"\n"
   ]
  },
  {
   "cell_type": "code",
   "execution_count": 6,
   "id": "762fa4ff-ea9c-4835-b015-4f3ce7e39419",
   "metadata": {},
   "outputs": [
    {
     "name": "stdout",
     "output_type": "stream",
     "text": [
      " Shapefile loaded with 2394 records.\n",
      "Columns: ['objectid', 'site_id', 'permit_num', 'permittee', 'site_name', 'loc_narr', 'quantity', 'units', 'commodity', 'calc_acres', 'mtrs', 'globalid', 'shape_Leng', 'shape_Area', 'geometry']\n",
      " CSV loaded with 10254 records.\n",
      "Columns: ['site_id', 'mean_height', 'max_height', 'z_bin_hgtcateg', 'tree_ct', 'total_trees', 'calc_acres', 'calc_hectares', 'dens_ha_total', 'dens_ha_binned', 'binned_percent']\n"
     ]
    }
   ],
   "source": [
    "# Load the shapefile as a GeoDataFrame\n",
    "gdf = gpd.read_file(shapefile_path)\n",
    "print(f\" Shapefile loaded with {len(gdf)} records.\")\n",
    "print(\"Columns:\", gdf.columns.tolist())\n",
    "\n",
    "# Load the AFoster merged data\n",
    "df = pd.read_csv(csv_path)\n",
    "print(f\" CSV loaded with {len(df)} records.\")\n",
    "print(\"Columns:\", df.columns.tolist())\n"
   ]
  },
  {
   "cell_type": "code",
   "execution_count": 8,
   "id": "d6124b13-606a-40cd-bacf-89736f11f012",
   "metadata": {},
   "outputs": [
    {
     "name": "stdout",
     "output_type": "stream",
     "text": [
      " Merge successful. Resulting GeoDataFrame has 16774 rows and 25 columns.\n"
     ]
    }
   ],
   "source": [
    "# Merge GeoDataFrame and DataFrame on 'site_id'\n",
    "if 'site_id' in gdf.columns and 'site_id' in df.columns:\n",
    "    gdf = gdf.merge(df, on='site_id')\n",
    "    print(f\" Merge successful. Resulting GeoDataFrame has {gdf.shape[0]} rows and {gdf.shape[1]} columns.\")\n",
    "else:\n",
    "    raise ValueError(\" 'site_id' column missing in either the shapefile or the CSV.\")\n"
   ]
  },
  {
   "cell_type": "code",
   "execution_count": 10,
   "id": "9d2d97d9-3d20-41d8-90ed-5d67eadcd1ef",
   "metadata": {},
   "outputs": [
    {
     "name": "stdout",
     "output_type": "stream",
     "text": [
      " Found 295 raster files in: C:\\Users\\jbros\\OneDrive\\Documents\\SanDiego_RemoteSensing\\San_LST_20182025_cloudmasked_PST\n"
     ]
    },
    {
     "data": {
      "text/plain": [
       "['C:\\\\Users\\\\jbros\\\\OneDrive\\\\Documents\\\\SanDiego_RemoteSensing\\\\San_LST_20182025_cloudmasked_PST\\\\2018.07.13.16.43.42_ST.tif',\n",
       " 'C:\\\\Users\\\\jbros\\\\OneDrive\\\\Documents\\\\SanDiego_RemoteSensing\\\\San_LST_20182025_cloudmasked_PST\\\\2018.07.14.23.59.20_ST.tif',\n",
       " 'C:\\\\Users\\\\jbros\\\\OneDrive\\\\Documents\\\\SanDiego_RemoteSensing\\\\San_LST_20182025_cloudmasked_PST\\\\2018.07.24.20.07.39_ST.tif',\n",
       " 'C:\\\\Users\\\\jbros\\\\OneDrive\\\\Documents\\\\SanDiego_RemoteSensing\\\\San_LST_20182025_cloudmasked_PST\\\\2018.07.30.10.01.45_ST.tif',\n",
       " 'C:\\\\Users\\\\jbros\\\\OneDrive\\\\Documents\\\\SanDiego_RemoteSensing\\\\San_LST_20182025_cloudmasked_PST\\\\2018.08.06.07.10.46_ST.tif']"
      ]
     },
     "execution_count": 10,
     "metadata": {},
     "output_type": "execute_result"
    }
   ],
   "source": [
    "# Get list of all .tif raster files in the ECOSTRESS directory (recursively)\n",
    "raster_files = glob.glob(os.path.join(raster_dir, \"**\", \"*.tif\"), recursive=True)\n",
    "\n",
    "# Report how many files were found\n",
    "print(f\" Found {len(raster_files)} raster files in: {raster_dir}\")\n",
    "\n",
    "# Show the first few file names for verification\n",
    "raster_files[:5]\n"
   ]
  },
  {
   "cell_type": "code",
   "execution_count": 12,
   "id": "97504816-141a-48e7-9161-4dbde34360c1",
   "metadata": {},
   "outputs": [],
   "source": [
    "def extract_datetime_from_filename(filepath):\n",
    "    \"\"\"\n",
    "    Extracts a datetime object from a raster filename like:\n",
    "    '2018.07.13.16.43.42_ST.tif'\n",
    "    \"\"\"\n",
    "    try:\n",
    "        basename = os.path.basename(filepath)\n",
    "        date_str = basename.split(\"_\")[0]  # '2018.07.13.16.43.42'\n",
    "        dt = datetime.strptime(date_str, \"%Y.%m.%d.%H.%M.%S\")\n",
    "        return dt\n",
    "    except Exception as e:\n",
    "        print(f\" Could not parse datetime from {filepath}: {e}\")\n",
    "        return None\n"
   ]
  },
  {
   "cell_type": "code",
   "execution_count": 14,
   "id": "2882c0b1-eef0-4bef-8774-2810147ce945",
   "metadata": {},
   "outputs": [],
   "source": [
    "def compute_zonal_stats(raster_path, gdf, output_dir=None):\n",
    "    \"\"\"\n",
    "    Compute zonal statistics (mean and std) for each polygon in gdf\n",
    "    from the given raster. Includes datetime extracted from filename.\n",
    "    \"\"\"\n",
    "    stats = []\n",
    "    dt = extract_datetime_from_filename(raster_path)\n",
    "\n",
    "    try:\n",
    "        with rasterio.open(raster_path) as src:\n",
    "            for i, geom in enumerate(gdf.geometry):\n",
    "                try:\n",
    "                    out_image, out_transform = mask(src, [geom], crop=True)\n",
    "                    data = out_image[0]\n",
    "                    data = data[data != src.nodata]  # Remove no-data\n",
    "\n",
    "                    if data.size > 0:\n",
    "                        stats.append({\n",
    "                            \"site_id\": gdf.iloc[i][\"site_id\"],\n",
    "                            \"mean_LST\": np.mean(data),\n",
    "                            \"std_LST\": np.std(data),\n",
    "                            \"datetime\": dt\n",
    "                        })\n",
    "                except Exception as geom_err:\n",
    "                    print(f\" Skipping geometry {i}: {geom_err}\")\n",
    "    except Exception as raster_err:\n",
    "        print(f\" Error reading raster {raster_path}: {raster_err}\")\n",
    "\n",
    "    df_stats = pd.DataFrame(stats)\n",
    "\n",
    "    # Optionally save individual file output\n",
    "    if output_dir and not df_stats.empty:\n",
    "        out_name = os.path.basename(raster_path).replace(\".tif\", \"_zonal.csv\")\n",
    "        out_path = os.path.join(output_dir, out_name)\n",
    "        df_stats.to_csv(out_path, index=False)\n",
    "\n",
    "    return df_stats\n"
   ]
  },
  {
   "cell_type": "code",
   "execution_count": 16,
   "id": "6e3cd28a-4c95-465a-9c7e-18533258b318",
   "metadata": {},
   "outputs": [
    {
     "name": "stdout",
     "output_type": "stream",
     "text": [
      " Raster CRS: EPSG:4326\n",
      "📐 Shapefile CRS: EPSG:2230\n",
      "Reprojected GeoDataFrame to match raster CRS.\n"
     ]
    }
   ],
   "source": [
    "# Check CRS of first raster\n",
    "with rasterio.open(raster_files[0]) as src:\n",
    "    raster_crs = src.crs\n",
    "    print(f\" Raster CRS: {raster_crs}\")\n",
    "\n",
    "# Check CRS of GeoDataFrame\n",
    "print(f\"📐 Shapefile CRS: {gdf.crs}\")\n",
    "\n",
    "# Reproject shapefile if needed\n",
    "if gdf.crs != raster_crs:\n",
    "    gdf = gdf.to_crs(raster_crs)\n",
    "    print(\"Reprojected GeoDataFrame to match raster CRS.\")\n",
    "else:\n",
    "    print(\" CRS already aligned. No reprojection needed.\")\n"
   ]
  },
  {
   "cell_type": "code",
   "execution_count": 18,
   "id": "01ca0452-1668-4aab-920d-f1813893be47",
   "metadata": {},
   "outputs": [
    {
     "name": "stderr",
     "output_type": "stream",
     "text": [
      "Computing zonal stats:   0%|          | 0/295 [00:00<?, ?it/s]"
     ]
    },
    {
     "name": "stdout",
     "output_type": "stream",
     "text": [
      " Skipping geometry 6920: Input shapes do not overlap raster.\n",
      " Skipping geometry 6921: Input shapes do not overlap raster.\n",
      " Skipping geometry 6922: Input shapes do not overlap raster.\n",
      " Skipping geometry 9528: Input shapes do not overlap raster.\n",
      " Skipping geometry 14921: Input shapes do not overlap raster.\n",
      " Skipping geometry 14922: Input shapes do not overlap raster.\n",
      " Skipping geometry 14923: Input shapes do not overlap raster.\n"
     ]
    },
    {
     "name": "stderr",
     "output_type": "stream",
     "text": [
      "Computing zonal stats:   0%|          | 1/295 [01:03<5:11:25, 63.56s/it]"
     ]
    },
    {
     "name": "stdout",
     "output_type": "stream",
     "text": [
      " Skipping geometry 6920: Input shapes do not overlap raster.\n",
      " Skipping geometry 6921: Input shapes do not overlap raster.\n",
      " Skipping geometry 6922: Input shapes do not overlap raster.\n",
      " Skipping geometry 9528: Input shapes do not overlap raster.\n",
      " Skipping geometry 14921: Input shapes do not overlap raster.\n",
      " Skipping geometry 14922: Input shapes do not overlap raster.\n",
      " Skipping geometry 14923: Input shapes do not overlap raster.\n"
     ]
    },
    {
     "name": "stderr",
     "output_type": "stream",
     "text": [
      "Computing zonal stats:   1%|          | 2/295 [02:06<5:08:05, 63.09s/it]"
     ]
    },
    {
     "name": "stdout",
     "output_type": "stream",
     "text": [
      " Skipping geometry 6920: Input shapes do not overlap raster.\n",
      " Skipping geometry 6921: Input shapes do not overlap raster.\n",
      " Skipping geometry 6922: Input shapes do not overlap raster.\n",
      " Skipping geometry 9528: Input shapes do not overlap raster.\n",
      " Skipping geometry 14921: Input shapes do not overlap raster.\n",
      " Skipping geometry 14922: Input shapes do not overlap raster.\n",
      " Skipping geometry 14923: Input shapes do not overlap raster.\n"
     ]
    },
    {
     "name": "stderr",
     "output_type": "stream",
     "text": [
      "Computing zonal stats:   1%|          | 3/295 [03:10<5:08:43, 63.44s/it]"
     ]
    },
    {
     "name": "stdout",
     "output_type": "stream",
     "text": [
      " Skipping geometry 6920: Input shapes do not overlap raster.\n",
      " Skipping geometry 6921: Input shapes do not overlap raster.\n",
      " Skipping geometry 6922: Input shapes do not overlap raster.\n",
      " Skipping geometry 9528: Input shapes do not overlap raster.\n",
      " Skipping geometry 14921: Input shapes do not overlap raster.\n",
      " Skipping geometry 14922: Input shapes do not overlap raster.\n",
      " Skipping geometry 14923: Input shapes do not overlap raster.\n"
     ]
    },
    {
     "name": "stderr",
     "output_type": "stream",
     "text": [
      "Computing zonal stats:   1%|▏         | 4/295 [04:12<5:06:30, 63.20s/it]"
     ]
    },
    {
     "name": "stdout",
     "output_type": "stream",
     "text": [
      " Skipping geometry 6920: Input shapes do not overlap raster.\n",
      " Skipping geometry 6921: Input shapes do not overlap raster.\n",
      " Skipping geometry 6922: Input shapes do not overlap raster.\n",
      " Skipping geometry 9528: Input shapes do not overlap raster.\n",
      " Skipping geometry 14921: Input shapes do not overlap raster.\n",
      " Skipping geometry 14922: Input shapes do not overlap raster.\n",
      " Skipping geometry 14923: Input shapes do not overlap raster.\n"
     ]
    },
    {
     "name": "stderr",
     "output_type": "stream",
     "text": [
      "Computing zonal stats:   2%|▏         | 5/295 [05:18<5:09:47, 64.09s/it]"
     ]
    },
    {
     "name": "stdout",
     "output_type": "stream",
     "text": [
      " Skipping geometry 6920: Input shapes do not overlap raster.\n",
      " Skipping geometry 6921: Input shapes do not overlap raster.\n",
      " Skipping geometry 6922: Input shapes do not overlap raster.\n",
      " Skipping geometry 9528: Input shapes do not overlap raster.\n",
      " Skipping geometry 14921: Input shapes do not overlap raster.\n",
      " Skipping geometry 14922: Input shapes do not overlap raster.\n",
      " Skipping geometry 14923: Input shapes do not overlap raster.\n"
     ]
    },
    {
     "name": "stderr",
     "output_type": "stream",
     "text": [
      "Computing zonal stats:   2%|▏         | 6/295 [06:23<5:10:19, 64.43s/it]"
     ]
    },
    {
     "name": "stdout",
     "output_type": "stream",
     "text": [
      " Skipping geometry 6920: Input shapes do not overlap raster.\n",
      " Skipping geometry 6921: Input shapes do not overlap raster.\n",
      " Skipping geometry 6922: Input shapes do not overlap raster.\n",
      " Skipping geometry 9528: Input shapes do not overlap raster.\n",
      " Skipping geometry 14921: Input shapes do not overlap raster.\n",
      " Skipping geometry 14922: Input shapes do not overlap raster.\n",
      " Skipping geometry 14923: Input shapes do not overlap raster.\n"
     ]
    },
    {
     "name": "stderr",
     "output_type": "stream",
     "text": [
      "Computing zonal stats:   2%|▏         | 7/295 [07:28<5:10:26, 64.68s/it]"
     ]
    },
    {
     "name": "stdout",
     "output_type": "stream",
     "text": [
      " Skipping geometry 6920: Input shapes do not overlap raster.\n",
      " Skipping geometry 6921: Input shapes do not overlap raster.\n",
      " Skipping geometry 6922: Input shapes do not overlap raster.\n",
      " Skipping geometry 9528: Input shapes do not overlap raster.\n",
      " Skipping geometry 14921: Input shapes do not overlap raster.\n",
      " Skipping geometry 14922: Input shapes do not overlap raster.\n",
      " Skipping geometry 14923: Input shapes do not overlap raster.\n"
     ]
    },
    {
     "name": "stderr",
     "output_type": "stream",
     "text": [
      "Computing zonal stats:   3%|▎         | 8/295 [08:14<4:40:55, 58.73s/it]"
     ]
    },
    {
     "name": "stdout",
     "output_type": "stream",
     "text": [
      " Skipping geometry 6920: Input shapes do not overlap raster.\n",
      " Skipping geometry 6921: Input shapes do not overlap raster.\n",
      " Skipping geometry 6922: Input shapes do not overlap raster.\n",
      " Skipping geometry 9528: Input shapes do not overlap raster.\n",
      " Skipping geometry 14921: Input shapes do not overlap raster.\n",
      " Skipping geometry 14922: Input shapes do not overlap raster.\n",
      " Skipping geometry 14923: Input shapes do not overlap raster.\n"
     ]
    },
    {
     "name": "stderr",
     "output_type": "stream",
     "text": [
      "Computing zonal stats:   3%|▎         | 9/295 [08:47<4:00:50, 50.53s/it]"
     ]
    },
    {
     "name": "stdout",
     "output_type": "stream",
     "text": [
      " Skipping geometry 6920: Input shapes do not overlap raster.\n",
      " Skipping geometry 6921: Input shapes do not overlap raster.\n",
      " Skipping geometry 6922: Input shapes do not overlap raster.\n",
      " Skipping geometry 9528: Input shapes do not overlap raster.\n",
      " Skipping geometry 14921: Input shapes do not overlap raster.\n",
      " Skipping geometry 14922: Input shapes do not overlap raster.\n",
      " Skipping geometry 14923: Input shapes do not overlap raster.\n"
     ]
    },
    {
     "name": "stderr",
     "output_type": "stream",
     "text": [
      "Computing zonal stats:   3%|▎         | 10/295 [09:17<3:30:43, 44.36s/it]"
     ]
    },
    {
     "name": "stdout",
     "output_type": "stream",
     "text": [
      " Skipping geometry 6920: Input shapes do not overlap raster.\n",
      " Skipping geometry 6921: Input shapes do not overlap raster.\n",
      " Skipping geometry 6922: Input shapes do not overlap raster.\n",
      " Skipping geometry 9528: Input shapes do not overlap raster.\n",
      " Skipping geometry 14921: Input shapes do not overlap raster.\n",
      " Skipping geometry 14922: Input shapes do not overlap raster.\n",
      " Skipping geometry 14923: Input shapes do not overlap raster.\n"
     ]
    },
    {
     "name": "stderr",
     "output_type": "stream",
     "text": [
      "Computing zonal stats:   4%|▎         | 11/295 [09:45<3:05:40, 39.23s/it]"
     ]
    },
    {
     "name": "stdout",
     "output_type": "stream",
     "text": [
      " Skipping geometry 6920: Input shapes do not overlap raster.\n",
      " Skipping geometry 6921: Input shapes do not overlap raster.\n",
      " Skipping geometry 6922: Input shapes do not overlap raster.\n",
      " Skipping geometry 9528: Input shapes do not overlap raster.\n",
      " Skipping geometry 14921: Input shapes do not overlap raster.\n",
      " Skipping geometry 14922: Input shapes do not overlap raster.\n",
      " Skipping geometry 14923: Input shapes do not overlap raster.\n"
     ]
    },
    {
     "name": "stderr",
     "output_type": "stream",
     "text": [
      "Computing zonal stats:   4%|▍         | 12/295 [10:19<2:57:54, 37.72s/it]"
     ]
    },
    {
     "name": "stdout",
     "output_type": "stream",
     "text": [
      " Skipping geometry 6920: Input shapes do not overlap raster.\n",
      " Skipping geometry 6921: Input shapes do not overlap raster.\n",
      " Skipping geometry 6922: Input shapes do not overlap raster.\n",
      " Skipping geometry 9528: Input shapes do not overlap raster.\n",
      " Skipping geometry 14921: Input shapes do not overlap raster.\n",
      " Skipping geometry 14922: Input shapes do not overlap raster.\n",
      " Skipping geometry 14923: Input shapes do not overlap raster.\n"
     ]
    },
    {
     "name": "stderr",
     "output_type": "stream",
     "text": [
      "Computing zonal stats:   4%|▍         | 13/295 [11:44<4:04:37, 52.05s/it]"
     ]
    },
    {
     "name": "stdout",
     "output_type": "stream",
     "text": [
      " Skipping geometry 6920: Input shapes do not overlap raster.\n",
      " Skipping geometry 6921: Input shapes do not overlap raster.\n",
      " Skipping geometry 6922: Input shapes do not overlap raster.\n",
      " Skipping geometry 9528: Input shapes do not overlap raster.\n",
      " Skipping geometry 14921: Input shapes do not overlap raster.\n",
      " Skipping geometry 14922: Input shapes do not overlap raster.\n",
      " Skipping geometry 14923: Input shapes do not overlap raster.\n"
     ]
    },
    {
     "name": "stderr",
     "output_type": "stream",
     "text": [
      "Computing zonal stats:   5%|▍         | 14/295 [13:08<4:49:03, 61.72s/it]"
     ]
    },
    {
     "name": "stdout",
     "output_type": "stream",
     "text": [
      " Skipping geometry 6920: Input shapes do not overlap raster.\n",
      " Skipping geometry 6921: Input shapes do not overlap raster.\n",
      " Skipping geometry 6922: Input shapes do not overlap raster.\n",
      " Skipping geometry 9528: Input shapes do not overlap raster.\n",
      " Skipping geometry 14921: Input shapes do not overlap raster.\n",
      " Skipping geometry 14922: Input shapes do not overlap raster.\n",
      " Skipping geometry 14923: Input shapes do not overlap raster.\n"
     ]
    },
    {
     "name": "stderr",
     "output_type": "stream",
     "text": [
      "Computing zonal stats:   5%|▌         | 15/295 [14:32<5:18:38, 68.28s/it]"
     ]
    },
    {
     "name": "stdout",
     "output_type": "stream",
     "text": [
      " Skipping geometry 6920: Input shapes do not overlap raster.\n",
      " Skipping geometry 6921: Input shapes do not overlap raster.\n",
      " Skipping geometry 6922: Input shapes do not overlap raster.\n",
      " Skipping geometry 9528: Input shapes do not overlap raster.\n",
      " Skipping geometry 14921: Input shapes do not overlap raster.\n",
      " Skipping geometry 14922: Input shapes do not overlap raster.\n",
      " Skipping geometry 14923: Input shapes do not overlap raster.\n"
     ]
    },
    {
     "name": "stderr",
     "output_type": "stream",
     "text": [
      "Computing zonal stats:   5%|▌         | 16/295 [15:56<5:38:59, 72.90s/it]"
     ]
    },
    {
     "name": "stdout",
     "output_type": "stream",
     "text": [
      " Skipping geometry 6920: Input shapes do not overlap raster.\n",
      " Skipping geometry 6921: Input shapes do not overlap raster.\n",
      " Skipping geometry 6922: Input shapes do not overlap raster.\n",
      " Skipping geometry 9528: Input shapes do not overlap raster.\n",
      " Skipping geometry 14921: Input shapes do not overlap raster.\n",
      " Skipping geometry 14922: Input shapes do not overlap raster.\n",
      " Skipping geometry 14923: Input shapes do not overlap raster.\n"
     ]
    },
    {
     "name": "stderr",
     "output_type": "stream",
     "text": [
      "Computing zonal stats:   6%|▌         | 17/295 [17:19<5:52:54, 76.17s/it]"
     ]
    },
    {
     "name": "stdout",
     "output_type": "stream",
     "text": [
      " Skipping geometry 6920: Input shapes do not overlap raster.\n",
      " Skipping geometry 6921: Input shapes do not overlap raster.\n",
      " Skipping geometry 6922: Input shapes do not overlap raster.\n",
      " Skipping geometry 9528: Input shapes do not overlap raster.\n",
      " Skipping geometry 14921: Input shapes do not overlap raster.\n",
      " Skipping geometry 14922: Input shapes do not overlap raster.\n",
      " Skipping geometry 14923: Input shapes do not overlap raster.\n"
     ]
    },
    {
     "name": "stderr",
     "output_type": "stream",
     "text": [
      "Computing zonal stats:   6%|▌         | 18/295 [18:42<6:00:51, 78.16s/it]"
     ]
    },
    {
     "name": "stdout",
     "output_type": "stream",
     "text": [
      " Skipping geometry 6920: Input shapes do not overlap raster.\n",
      " Skipping geometry 6921: Input shapes do not overlap raster.\n",
      " Skipping geometry 6922: Input shapes do not overlap raster.\n",
      " Skipping geometry 9528: Input shapes do not overlap raster.\n",
      " Skipping geometry 14921: Input shapes do not overlap raster.\n",
      " Skipping geometry 14922: Input shapes do not overlap raster.\n",
      " Skipping geometry 14923: Input shapes do not overlap raster.\n"
     ]
    },
    {
     "name": "stderr",
     "output_type": "stream",
     "text": [
      "Computing zonal stats:   6%|▋         | 19/295 [20:04<6:04:49, 79.31s/it]"
     ]
    },
    {
     "name": "stdout",
     "output_type": "stream",
     "text": [
      " Skipping geometry 6920: Input shapes do not overlap raster.\n",
      " Skipping geometry 6921: Input shapes do not overlap raster.\n",
      " Skipping geometry 6922: Input shapes do not overlap raster.\n",
      " Skipping geometry 9528: Input shapes do not overlap raster.\n",
      " Skipping geometry 14921: Input shapes do not overlap raster.\n",
      " Skipping geometry 14922: Input shapes do not overlap raster.\n",
      " Skipping geometry 14923: Input shapes do not overlap raster.\n"
     ]
    },
    {
     "name": "stderr",
     "output_type": "stream",
     "text": [
      "Computing zonal stats:   7%|▋         | 20/295 [21:27<6:08:16, 80.35s/it]"
     ]
    },
    {
     "name": "stdout",
     "output_type": "stream",
     "text": [
      " Skipping geometry 6920: Input shapes do not overlap raster.\n",
      " Skipping geometry 6921: Input shapes do not overlap raster.\n",
      " Skipping geometry 6922: Input shapes do not overlap raster.\n",
      " Skipping geometry 9528: Input shapes do not overlap raster.\n",
      " Skipping geometry 14921: Input shapes do not overlap raster.\n",
      " Skipping geometry 14922: Input shapes do not overlap raster.\n",
      " Skipping geometry 14923: Input shapes do not overlap raster.\n"
     ]
    },
    {
     "name": "stderr",
     "output_type": "stream",
     "text": [
      "Computing zonal stats:   7%|▋         | 21/295 [22:51<6:11:42, 81.39s/it]"
     ]
    },
    {
     "name": "stdout",
     "output_type": "stream",
     "text": [
      " Skipping geometry 6920: Input shapes do not overlap raster.\n",
      " Skipping geometry 6921: Input shapes do not overlap raster.\n",
      " Skipping geometry 6922: Input shapes do not overlap raster.\n",
      " Skipping geometry 9528: Input shapes do not overlap raster.\n",
      " Skipping geometry 14921: Input shapes do not overlap raster.\n",
      " Skipping geometry 14922: Input shapes do not overlap raster.\n",
      " Skipping geometry 14923: Input shapes do not overlap raster.\n"
     ]
    },
    {
     "name": "stderr",
     "output_type": "stream",
     "text": [
      "Computing zonal stats:   7%|▋         | 22/295 [24:15<6:13:46, 82.15s/it]"
     ]
    },
    {
     "name": "stdout",
     "output_type": "stream",
     "text": [
      " Skipping geometry 6920: Input shapes do not overlap raster.\n",
      " Skipping geometry 6921: Input shapes do not overlap raster.\n",
      " Skipping geometry 6922: Input shapes do not overlap raster.\n",
      " Skipping geometry 9528: Input shapes do not overlap raster.\n",
      " Skipping geometry 14921: Input shapes do not overlap raster.\n",
      " Skipping geometry 14922: Input shapes do not overlap raster.\n",
      " Skipping geometry 14923: Input shapes do not overlap raster.\n"
     ]
    },
    {
     "name": "stderr",
     "output_type": "stream",
     "text": [
      "Computing zonal stats:   8%|▊         | 23/295 [25:38<6:14:38, 82.64s/it]"
     ]
    },
    {
     "name": "stdout",
     "output_type": "stream",
     "text": [
      " Skipping geometry 6920: Input shapes do not overlap raster.\n",
      " Skipping geometry 6921: Input shapes do not overlap raster.\n",
      " Skipping geometry 6922: Input shapes do not overlap raster.\n",
      " Skipping geometry 9528: Input shapes do not overlap raster.\n",
      " Skipping geometry 14921: Input shapes do not overlap raster.\n",
      " Skipping geometry 14922: Input shapes do not overlap raster.\n",
      " Skipping geometry 14923: Input shapes do not overlap raster.\n"
     ]
    },
    {
     "name": "stderr",
     "output_type": "stream",
     "text": [
      "Computing zonal stats:   8%|▊         | 24/295 [27:02<6:14:16, 82.86s/it]"
     ]
    },
    {
     "name": "stdout",
     "output_type": "stream",
     "text": [
      " Skipping geometry 6920: Input shapes do not overlap raster.\n",
      " Skipping geometry 6921: Input shapes do not overlap raster.\n",
      " Skipping geometry 6922: Input shapes do not overlap raster.\n",
      " Skipping geometry 9528: Input shapes do not overlap raster.\n",
      " Skipping geometry 14921: Input shapes do not overlap raster.\n",
      " Skipping geometry 14922: Input shapes do not overlap raster.\n",
      " Skipping geometry 14923: Input shapes do not overlap raster.\n"
     ]
    },
    {
     "name": "stderr",
     "output_type": "stream",
     "text": [
      "Computing zonal stats:   8%|▊         | 25/295 [28:25<6:13:36, 83.02s/it]"
     ]
    },
    {
     "name": "stdout",
     "output_type": "stream",
     "text": [
      " Skipping geometry 6920: Input shapes do not overlap raster.\n",
      " Skipping geometry 6921: Input shapes do not overlap raster.\n",
      " Skipping geometry 6922: Input shapes do not overlap raster.\n",
      " Skipping geometry 9528: Input shapes do not overlap raster.\n",
      " Skipping geometry 14921: Input shapes do not overlap raster.\n",
      " Skipping geometry 14922: Input shapes do not overlap raster.\n",
      " Skipping geometry 14923: Input shapes do not overlap raster.\n"
     ]
    },
    {
     "name": "stderr",
     "output_type": "stream",
     "text": [
      "Computing zonal stats:   9%|▉         | 26/295 [29:48<6:12:05, 82.99s/it]"
     ]
    },
    {
     "name": "stdout",
     "output_type": "stream",
     "text": [
      " Skipping geometry 6920: Input shapes do not overlap raster.\n",
      " Skipping geometry 6921: Input shapes do not overlap raster.\n",
      " Skipping geometry 6922: Input shapes do not overlap raster.\n",
      " Skipping geometry 9528: Input shapes do not overlap raster.\n",
      " Skipping geometry 14921: Input shapes do not overlap raster.\n",
      " Skipping geometry 14922: Input shapes do not overlap raster.\n",
      " Skipping geometry 14923: Input shapes do not overlap raster.\n"
     ]
    },
    {
     "name": "stderr",
     "output_type": "stream",
     "text": [
      "Computing zonal stats:   9%|▉         | 27/295 [31:13<6:12:53, 83.48s/it]"
     ]
    },
    {
     "name": "stdout",
     "output_type": "stream",
     "text": [
      " Skipping geometry 6920: Input shapes do not overlap raster.\n",
      " Skipping geometry 6921: Input shapes do not overlap raster.\n",
      " Skipping geometry 6922: Input shapes do not overlap raster.\n",
      " Skipping geometry 9528: Input shapes do not overlap raster.\n",
      " Skipping geometry 14921: Input shapes do not overlap raster.\n",
      " Skipping geometry 14922: Input shapes do not overlap raster.\n",
      " Skipping geometry 14923: Input shapes do not overlap raster.\n"
     ]
    },
    {
     "name": "stderr",
     "output_type": "stream",
     "text": [
      "Computing zonal stats:   9%|▉         | 28/295 [32:39<6:14:47, 84.22s/it]"
     ]
    },
    {
     "name": "stdout",
     "output_type": "stream",
     "text": [
      " Skipping geometry 6920: Input shapes do not overlap raster.\n",
      " Skipping geometry 6921: Input shapes do not overlap raster.\n",
      " Skipping geometry 6922: Input shapes do not overlap raster.\n",
      " Skipping geometry 9528: Input shapes do not overlap raster.\n",
      " Skipping geometry 14921: Input shapes do not overlap raster.\n",
      " Skipping geometry 14922: Input shapes do not overlap raster.\n",
      " Skipping geometry 14923: Input shapes do not overlap raster.\n"
     ]
    },
    {
     "name": "stderr",
     "output_type": "stream",
     "text": [
      "Computing zonal stats:  10%|▉         | 29/295 [34:02<6:12:00, 83.91s/it]"
     ]
    },
    {
     "name": "stdout",
     "output_type": "stream",
     "text": [
      " Skipping geometry 6920: Input shapes do not overlap raster.\n",
      " Skipping geometry 6921: Input shapes do not overlap raster.\n",
      " Skipping geometry 6922: Input shapes do not overlap raster.\n",
      " Skipping geometry 9528: Input shapes do not overlap raster.\n",
      " Skipping geometry 14921: Input shapes do not overlap raster.\n",
      " Skipping geometry 14922: Input shapes do not overlap raster.\n",
      " Skipping geometry 14923: Input shapes do not overlap raster.\n"
     ]
    },
    {
     "name": "stderr",
     "output_type": "stream",
     "text": [
      "Computing zonal stats:  10%|█         | 30/295 [35:26<6:11:03, 84.01s/it]"
     ]
    },
    {
     "name": "stdout",
     "output_type": "stream",
     "text": [
      " Skipping geometry 6920: Input shapes do not overlap raster.\n",
      " Skipping geometry 6921: Input shapes do not overlap raster.\n",
      " Skipping geometry 6922: Input shapes do not overlap raster.\n",
      " Skipping geometry 9528: Input shapes do not overlap raster.\n",
      " Skipping geometry 14921: Input shapes do not overlap raster.\n",
      " Skipping geometry 14922: Input shapes do not overlap raster.\n",
      " Skipping geometry 14923: Input shapes do not overlap raster.\n"
     ]
    },
    {
     "name": "stderr",
     "output_type": "stream",
     "text": [
      "Computing zonal stats:  11%|█         | 31/295 [36:50<6:08:57, 83.85s/it]"
     ]
    },
    {
     "name": "stdout",
     "output_type": "stream",
     "text": [
      " Skipping geometry 6920: Input shapes do not overlap raster.\n",
      " Skipping geometry 6921: Input shapes do not overlap raster.\n",
      " Skipping geometry 6922: Input shapes do not overlap raster.\n",
      " Skipping geometry 9528: Input shapes do not overlap raster.\n",
      " Skipping geometry 14921: Input shapes do not overlap raster.\n",
      " Skipping geometry 14922: Input shapes do not overlap raster.\n",
      " Skipping geometry 14923: Input shapes do not overlap raster.\n"
     ]
    },
    {
     "name": "stderr",
     "output_type": "stream",
     "text": [
      "Computing zonal stats:  11%|█         | 32/295 [38:07<5:59:25, 82.00s/it]"
     ]
    },
    {
     "name": "stdout",
     "output_type": "stream",
     "text": [
      " Skipping geometry 6920: Input shapes do not overlap raster.\n",
      " Skipping geometry 6921: Input shapes do not overlap raster.\n",
      " Skipping geometry 6922: Input shapes do not overlap raster.\n",
      " Skipping geometry 9528: Input shapes do not overlap raster.\n",
      " Skipping geometry 14921: Input shapes do not overlap raster.\n",
      " Skipping geometry 14922: Input shapes do not overlap raster.\n",
      " Skipping geometry 14923: Input shapes do not overlap raster.\n"
     ]
    },
    {
     "name": "stderr",
     "output_type": "stream",
     "text": [
      "Computing zonal stats:  11%|█         | 33/295 [39:25<5:53:00, 80.84s/it]"
     ]
    },
    {
     "name": "stdout",
     "output_type": "stream",
     "text": [
      " Skipping geometry 6920: Input shapes do not overlap raster.\n",
      " Skipping geometry 6921: Input shapes do not overlap raster.\n",
      " Skipping geometry 6922: Input shapes do not overlap raster.\n",
      " Skipping geometry 9528: Input shapes do not overlap raster.\n",
      " Skipping geometry 14921: Input shapes do not overlap raster.\n",
      " Skipping geometry 14922: Input shapes do not overlap raster.\n",
      " Skipping geometry 14923: Input shapes do not overlap raster.\n"
     ]
    },
    {
     "name": "stderr",
     "output_type": "stream",
     "text": [
      "Computing zonal stats:  12%|█▏        | 34/295 [40:47<5:52:56, 81.14s/it]"
     ]
    },
    {
     "name": "stdout",
     "output_type": "stream",
     "text": [
      " Skipping geometry 6920: Input shapes do not overlap raster.\n",
      " Skipping geometry 6921: Input shapes do not overlap raster.\n",
      " Skipping geometry 6922: Input shapes do not overlap raster.\n",
      " Skipping geometry 9528: Input shapes do not overlap raster.\n",
      " Skipping geometry 14921: Input shapes do not overlap raster.\n",
      " Skipping geometry 14922: Input shapes do not overlap raster.\n",
      " Skipping geometry 14923: Input shapes do not overlap raster.\n"
     ]
    },
    {
     "name": "stderr",
     "output_type": "stream",
     "text": [
      "Computing zonal stats:  12%|█▏        | 35/295 [42:14<5:59:23, 82.94s/it]"
     ]
    },
    {
     "name": "stdout",
     "output_type": "stream",
     "text": [
      " Skipping geometry 6920: Input shapes do not overlap raster.\n",
      " Skipping geometry 6921: Input shapes do not overlap raster.\n",
      " Skipping geometry 6922: Input shapes do not overlap raster.\n",
      " Skipping geometry 9528: Input shapes do not overlap raster.\n",
      " Skipping geometry 14921: Input shapes do not overlap raster.\n",
      " Skipping geometry 14922: Input shapes do not overlap raster.\n",
      " Skipping geometry 14923: Input shapes do not overlap raster.\n"
     ]
    },
    {
     "name": "stderr",
     "output_type": "stream",
     "text": [
      "Computing zonal stats:  12%|█▏        | 36/295 [43:39<5:59:41, 83.33s/it]"
     ]
    },
    {
     "name": "stdout",
     "output_type": "stream",
     "text": [
      " Skipping geometry 6920: Input shapes do not overlap raster.\n",
      " Skipping geometry 6921: Input shapes do not overlap raster.\n",
      " Skipping geometry 6922: Input shapes do not overlap raster.\n",
      " Skipping geometry 9528: Input shapes do not overlap raster.\n",
      " Skipping geometry 14921: Input shapes do not overlap raster.\n",
      " Skipping geometry 14922: Input shapes do not overlap raster.\n",
      " Skipping geometry 14923: Input shapes do not overlap raster.\n"
     ]
    },
    {
     "name": "stderr",
     "output_type": "stream",
     "text": [
      "Computing zonal stats:  13%|█▎        | 37/295 [44:58<5:52:59, 82.09s/it]"
     ]
    },
    {
     "name": "stdout",
     "output_type": "stream",
     "text": [
      " Skipping geometry 6920: Input shapes do not overlap raster.\n",
      " Skipping geometry 6921: Input shapes do not overlap raster.\n",
      " Skipping geometry 6922: Input shapes do not overlap raster.\n",
      " Skipping geometry 9528: Input shapes do not overlap raster.\n",
      " Skipping geometry 14921: Input shapes do not overlap raster.\n",
      " Skipping geometry 14922: Input shapes do not overlap raster.\n",
      " Skipping geometry 14923: Input shapes do not overlap raster.\n"
     ]
    },
    {
     "name": "stderr",
     "output_type": "stream",
     "text": [
      "Computing zonal stats:  13%|█▎        | 38/295 [46:16<5:46:18, 80.85s/it]"
     ]
    },
    {
     "name": "stdout",
     "output_type": "stream",
     "text": [
      " Skipping geometry 6920: Input shapes do not overlap raster.\n",
      " Skipping geometry 6921: Input shapes do not overlap raster.\n",
      " Skipping geometry 6922: Input shapes do not overlap raster.\n",
      " Skipping geometry 9528: Input shapes do not overlap raster.\n",
      " Skipping geometry 14921: Input shapes do not overlap raster.\n",
      " Skipping geometry 14922: Input shapes do not overlap raster.\n",
      " Skipping geometry 14923: Input shapes do not overlap raster.\n"
     ]
    },
    {
     "name": "stderr",
     "output_type": "stream",
     "text": [
      "Computing zonal stats:  13%|█▎        | 39/295 [47:36<5:44:43, 80.79s/it]"
     ]
    },
    {
     "name": "stdout",
     "output_type": "stream",
     "text": [
      " Skipping geometry 6920: Input shapes do not overlap raster.\n",
      " Skipping geometry 6921: Input shapes do not overlap raster.\n",
      " Skipping geometry 6922: Input shapes do not overlap raster.\n",
      " Skipping geometry 9528: Input shapes do not overlap raster.\n",
      " Skipping geometry 14921: Input shapes do not overlap raster.\n",
      " Skipping geometry 14922: Input shapes do not overlap raster.\n",
      " Skipping geometry 14923: Input shapes do not overlap raster.\n"
     ]
    },
    {
     "name": "stderr",
     "output_type": "stream",
     "text": [
      "Computing zonal stats:  14%|█▎        | 40/295 [48:57<5:43:11, 80.75s/it]"
     ]
    },
    {
     "name": "stdout",
     "output_type": "stream",
     "text": [
      " Skipping geometry 6920: Input shapes do not overlap raster.\n",
      " Skipping geometry 6921: Input shapes do not overlap raster.\n",
      " Skipping geometry 6922: Input shapes do not overlap raster.\n",
      " Skipping geometry 9528: Input shapes do not overlap raster.\n",
      " Skipping geometry 14921: Input shapes do not overlap raster.\n",
      " Skipping geometry 14922: Input shapes do not overlap raster.\n",
      " Skipping geometry 14923: Input shapes do not overlap raster.\n"
     ]
    },
    {
     "name": "stderr",
     "output_type": "stream",
     "text": [
      "Computing zonal stats:  14%|█▍        | 41/295 [50:21<5:45:40, 81.65s/it]"
     ]
    },
    {
     "name": "stdout",
     "output_type": "stream",
     "text": [
      " Skipping geometry 6920: Input shapes do not overlap raster.\n",
      " Skipping geometry 6921: Input shapes do not overlap raster.\n",
      " Skipping geometry 6922: Input shapes do not overlap raster.\n",
      " Skipping geometry 9528: Input shapes do not overlap raster.\n",
      " Skipping geometry 14921: Input shapes do not overlap raster.\n",
      " Skipping geometry 14922: Input shapes do not overlap raster.\n",
      " Skipping geometry 14923: Input shapes do not overlap raster.\n"
     ]
    },
    {
     "name": "stderr",
     "output_type": "stream",
     "text": [
      "Computing zonal stats:  14%|█▍        | 42/295 [51:42<5:43:54, 81.56s/it]"
     ]
    },
    {
     "name": "stdout",
     "output_type": "stream",
     "text": [
      " Skipping geometry 6920: Input shapes do not overlap raster.\n",
      " Skipping geometry 6921: Input shapes do not overlap raster.\n",
      " Skipping geometry 6922: Input shapes do not overlap raster.\n",
      " Skipping geometry 9528: Input shapes do not overlap raster.\n",
      " Skipping geometry 14921: Input shapes do not overlap raster.\n",
      " Skipping geometry 14922: Input shapes do not overlap raster.\n",
      " Skipping geometry 14923: Input shapes do not overlap raster.\n"
     ]
    },
    {
     "name": "stderr",
     "output_type": "stream",
     "text": [
      "Computing zonal stats:  15%|█▍        | 43/295 [53:03<5:41:51, 81.40s/it]"
     ]
    },
    {
     "name": "stdout",
     "output_type": "stream",
     "text": [
      " Skipping geometry 6920: Input shapes do not overlap raster.\n",
      " Skipping geometry 6921: Input shapes do not overlap raster.\n",
      " Skipping geometry 6922: Input shapes do not overlap raster.\n",
      " Skipping geometry 9528: Input shapes do not overlap raster.\n",
      " Skipping geometry 14921: Input shapes do not overlap raster.\n",
      " Skipping geometry 14922: Input shapes do not overlap raster.\n",
      " Skipping geometry 14923: Input shapes do not overlap raster.\n"
     ]
    },
    {
     "name": "stderr",
     "output_type": "stream",
     "text": [
      "Computing zonal stats:  15%|█▍        | 44/295 [54:26<5:41:53, 81.73s/it]"
     ]
    },
    {
     "name": "stdout",
     "output_type": "stream",
     "text": [
      " Skipping geometry 6920: Input shapes do not overlap raster.\n",
      " Skipping geometry 6921: Input shapes do not overlap raster.\n",
      " Skipping geometry 6922: Input shapes do not overlap raster.\n",
      " Skipping geometry 9528: Input shapes do not overlap raster.\n",
      " Skipping geometry 14921: Input shapes do not overlap raster.\n",
      " Skipping geometry 14922: Input shapes do not overlap raster.\n",
      " Skipping geometry 14923: Input shapes do not overlap raster.\n"
     ]
    },
    {
     "name": "stderr",
     "output_type": "stream",
     "text": [
      "Computing zonal stats:  15%|█▌        | 45/295 [55:46<5:38:44, 81.30s/it]"
     ]
    },
    {
     "name": "stdout",
     "output_type": "stream",
     "text": [
      " Skipping geometry 6920: Input shapes do not overlap raster.\n",
      " Skipping geometry 6921: Input shapes do not overlap raster.\n",
      " Skipping geometry 6922: Input shapes do not overlap raster.\n",
      " Skipping geometry 9528: Input shapes do not overlap raster.\n",
      " Skipping geometry 14921: Input shapes do not overlap raster.\n",
      " Skipping geometry 14922: Input shapes do not overlap raster.\n",
      " Skipping geometry 14923: Input shapes do not overlap raster.\n"
     ]
    },
    {
     "name": "stderr",
     "output_type": "stream",
     "text": [
      "Computing zonal stats:  16%|█▌        | 46/295 [57:06<5:36:08, 81.00s/it]"
     ]
    },
    {
     "name": "stdout",
     "output_type": "stream",
     "text": [
      " Skipping geometry 6920: Input shapes do not overlap raster.\n",
      " Skipping geometry 6921: Input shapes do not overlap raster.\n",
      " Skipping geometry 6922: Input shapes do not overlap raster.\n",
      " Skipping geometry 9528: Input shapes do not overlap raster.\n",
      " Skipping geometry 14921: Input shapes do not overlap raster.\n",
      " Skipping geometry 14922: Input shapes do not overlap raster.\n",
      " Skipping geometry 14923: Input shapes do not overlap raster.\n"
     ]
    },
    {
     "name": "stderr",
     "output_type": "stream",
     "text": [
      "Computing zonal stats:  16%|█▌        | 47/295 [58:28<5:35:22, 81.14s/it]"
     ]
    },
    {
     "name": "stdout",
     "output_type": "stream",
     "text": [
      " Skipping geometry 6920: Input shapes do not overlap raster.\n",
      " Skipping geometry 6921: Input shapes do not overlap raster.\n",
      " Skipping geometry 6922: Input shapes do not overlap raster.\n",
      " Skipping geometry 9528: Input shapes do not overlap raster.\n",
      " Skipping geometry 14921: Input shapes do not overlap raster.\n",
      " Skipping geometry 14922: Input shapes do not overlap raster.\n",
      " Skipping geometry 14923: Input shapes do not overlap raster.\n"
     ]
    },
    {
     "name": "stderr",
     "output_type": "stream",
     "text": [
      "Computing zonal stats:  16%|█▋        | 48/295 [59:47<5:31:24, 80.51s/it]"
     ]
    },
    {
     "name": "stdout",
     "output_type": "stream",
     "text": [
      " Skipping geometry 6920: Input shapes do not overlap raster.\n",
      " Skipping geometry 6921: Input shapes do not overlap raster.\n",
      " Skipping geometry 6922: Input shapes do not overlap raster.\n",
      " Skipping geometry 9528: Input shapes do not overlap raster.\n",
      " Skipping geometry 14921: Input shapes do not overlap raster.\n",
      " Skipping geometry 14922: Input shapes do not overlap raster.\n",
      " Skipping geometry 14923: Input shapes do not overlap raster.\n"
     ]
    },
    {
     "name": "stderr",
     "output_type": "stream",
     "text": [
      "Computing zonal stats:  17%|█▋        | 49/295 [1:01:07<5:30:11, 80.53s/it]"
     ]
    },
    {
     "name": "stdout",
     "output_type": "stream",
     "text": [
      " Skipping geometry 6920: Input shapes do not overlap raster.\n",
      " Skipping geometry 6921: Input shapes do not overlap raster.\n",
      " Skipping geometry 6922: Input shapes do not overlap raster.\n",
      " Skipping geometry 9528: Input shapes do not overlap raster.\n",
      " Skipping geometry 14921: Input shapes do not overlap raster.\n",
      " Skipping geometry 14922: Input shapes do not overlap raster.\n",
      " Skipping geometry 14923: Input shapes do not overlap raster.\n"
     ]
    },
    {
     "name": "stderr",
     "output_type": "stream",
     "text": [
      "Computing zonal stats:  17%|█▋        | 50/295 [1:02:28<5:28:36, 80.48s/it]"
     ]
    },
    {
     "name": "stdout",
     "output_type": "stream",
     "text": [
      " Skipping geometry 6920: Input shapes do not overlap raster.\n",
      " Skipping geometry 6921: Input shapes do not overlap raster.\n",
      " Skipping geometry 6922: Input shapes do not overlap raster.\n",
      " Skipping geometry 9528: Input shapes do not overlap raster.\n",
      " Skipping geometry 14921: Input shapes do not overlap raster.\n",
      " Skipping geometry 14922: Input shapes do not overlap raster.\n",
      " Skipping geometry 14923: Input shapes do not overlap raster.\n"
     ]
    },
    {
     "name": "stderr",
     "output_type": "stream",
     "text": [
      "Computing zonal stats:  17%|█▋        | 51/295 [1:03:49<5:27:49, 80.61s/it]"
     ]
    },
    {
     "name": "stdout",
     "output_type": "stream",
     "text": [
      " Skipping geometry 6920: Input shapes do not overlap raster.\n",
      " Skipping geometry 6921: Input shapes do not overlap raster.\n",
      " Skipping geometry 6922: Input shapes do not overlap raster.\n",
      " Skipping geometry 9528: Input shapes do not overlap raster.\n",
      " Skipping geometry 14921: Input shapes do not overlap raster.\n",
      " Skipping geometry 14922: Input shapes do not overlap raster.\n",
      " Skipping geometry 14923: Input shapes do not overlap raster.\n"
     ]
    },
    {
     "name": "stderr",
     "output_type": "stream",
     "text": [
      "Computing zonal stats:  18%|█▊        | 52/295 [1:05:10<5:26:49, 80.70s/it]"
     ]
    },
    {
     "name": "stdout",
     "output_type": "stream",
     "text": [
      " Skipping geometry 6920: Input shapes do not overlap raster.\n",
      " Skipping geometry 6921: Input shapes do not overlap raster.\n",
      " Skipping geometry 6922: Input shapes do not overlap raster.\n",
      " Skipping geometry 9528: Input shapes do not overlap raster.\n",
      " Skipping geometry 14921: Input shapes do not overlap raster.\n",
      " Skipping geometry 14922: Input shapes do not overlap raster.\n",
      " Skipping geometry 14923: Input shapes do not overlap raster.\n"
     ]
    },
    {
     "name": "stderr",
     "output_type": "stream",
     "text": [
      "Computing zonal stats:  18%|█▊        | 53/295 [1:06:31<5:26:50, 81.03s/it]"
     ]
    },
    {
     "name": "stdout",
     "output_type": "stream",
     "text": [
      " Skipping geometry 6920: Input shapes do not overlap raster.\n",
      " Skipping geometry 6921: Input shapes do not overlap raster.\n",
      " Skipping geometry 6922: Input shapes do not overlap raster.\n",
      " Skipping geometry 9528: Input shapes do not overlap raster.\n",
      " Skipping geometry 14921: Input shapes do not overlap raster.\n",
      " Skipping geometry 14922: Input shapes do not overlap raster.\n",
      " Skipping geometry 14923: Input shapes do not overlap raster.\n"
     ]
    },
    {
     "name": "stderr",
     "output_type": "stream",
     "text": [
      "Computing zonal stats:  18%|█▊        | 54/295 [1:07:53<5:25:41, 81.08s/it]"
     ]
    },
    {
     "name": "stdout",
     "output_type": "stream",
     "text": [
      " Skipping geometry 6920: Input shapes do not overlap raster.\n",
      " Skipping geometry 6921: Input shapes do not overlap raster.\n",
      " Skipping geometry 6922: Input shapes do not overlap raster.\n",
      " Skipping geometry 9528: Input shapes do not overlap raster.\n",
      " Skipping geometry 14921: Input shapes do not overlap raster.\n",
      " Skipping geometry 14922: Input shapes do not overlap raster.\n",
      " Skipping geometry 14923: Input shapes do not overlap raster.\n"
     ]
    },
    {
     "name": "stderr",
     "output_type": "stream",
     "text": [
      "Computing zonal stats:  19%|█▊        | 55/295 [1:09:14<5:24:33, 81.14s/it]"
     ]
    },
    {
     "name": "stdout",
     "output_type": "stream",
     "text": [
      " Skipping geometry 6920: Input shapes do not overlap raster.\n",
      " Skipping geometry 6921: Input shapes do not overlap raster.\n",
      " Skipping geometry 6922: Input shapes do not overlap raster.\n",
      " Skipping geometry 9528: Input shapes do not overlap raster.\n",
      " Skipping geometry 14921: Input shapes do not overlap raster.\n",
      " Skipping geometry 14922: Input shapes do not overlap raster.\n",
      " Skipping geometry 14923: Input shapes do not overlap raster.\n"
     ]
    },
    {
     "name": "stderr",
     "output_type": "stream",
     "text": [
      "Computing zonal stats:  19%|█▉        | 56/295 [1:10:34<5:22:29, 80.96s/it]"
     ]
    },
    {
     "name": "stdout",
     "output_type": "stream",
     "text": [
      " Skipping geometry 6920: Input shapes do not overlap raster.\n",
      " Skipping geometry 6921: Input shapes do not overlap raster.\n",
      " Skipping geometry 6922: Input shapes do not overlap raster.\n",
      " Skipping geometry 9528: Input shapes do not overlap raster.\n",
      " Skipping geometry 14921: Input shapes do not overlap raster.\n",
      " Skipping geometry 14922: Input shapes do not overlap raster.\n",
      " Skipping geometry 14923: Input shapes do not overlap raster.\n"
     ]
    },
    {
     "name": "stderr",
     "output_type": "stream",
     "text": [
      "Computing zonal stats:  19%|█▉        | 57/295 [1:11:54<5:19:40, 80.59s/it]"
     ]
    },
    {
     "name": "stdout",
     "output_type": "stream",
     "text": [
      " Skipping geometry 6920: Input shapes do not overlap raster.\n",
      " Skipping geometry 6921: Input shapes do not overlap raster.\n",
      " Skipping geometry 6922: Input shapes do not overlap raster.\n",
      " Skipping geometry 9528: Input shapes do not overlap raster.\n",
      " Skipping geometry 14921: Input shapes do not overlap raster.\n",
      " Skipping geometry 14922: Input shapes do not overlap raster.\n",
      " Skipping geometry 14923: Input shapes do not overlap raster.\n"
     ]
    },
    {
     "name": "stderr",
     "output_type": "stream",
     "text": [
      "Computing zonal stats:  20%|█▉        | 58/295 [1:13:16<5:19:30, 80.89s/it]"
     ]
    },
    {
     "name": "stdout",
     "output_type": "stream",
     "text": [
      " Skipping geometry 6920: Input shapes do not overlap raster.\n",
      " Skipping geometry 6921: Input shapes do not overlap raster.\n",
      " Skipping geometry 6922: Input shapes do not overlap raster.\n",
      " Skipping geometry 9528: Input shapes do not overlap raster.\n",
      " Skipping geometry 14921: Input shapes do not overlap raster.\n",
      " Skipping geometry 14922: Input shapes do not overlap raster.\n",
      " Skipping geometry 14923: Input shapes do not overlap raster.\n"
     ]
    },
    {
     "name": "stderr",
     "output_type": "stream",
     "text": [
      "Computing zonal stats:  20%|██        | 59/295 [1:14:40<5:22:22, 81.96s/it]"
     ]
    },
    {
     "name": "stdout",
     "output_type": "stream",
     "text": [
      " Skipping geometry 6920: Input shapes do not overlap raster.\n",
      " Skipping geometry 6921: Input shapes do not overlap raster.\n",
      " Skipping geometry 6922: Input shapes do not overlap raster.\n",
      " Skipping geometry 9528: Input shapes do not overlap raster.\n",
      " Skipping geometry 14921: Input shapes do not overlap raster.\n",
      " Skipping geometry 14922: Input shapes do not overlap raster.\n",
      " Skipping geometry 14923: Input shapes do not overlap raster.\n"
     ]
    },
    {
     "name": "stderr",
     "output_type": "stream",
     "text": [
      "Computing zonal stats:  20%|██        | 60/295 [1:16:03<5:22:06, 82.24s/it]"
     ]
    },
    {
     "name": "stdout",
     "output_type": "stream",
     "text": [
      " Skipping geometry 6920: Input shapes do not overlap raster.\n",
      " Skipping geometry 6921: Input shapes do not overlap raster.\n",
      " Skipping geometry 6922: Input shapes do not overlap raster.\n",
      " Skipping geometry 9528: Input shapes do not overlap raster.\n",
      " Skipping geometry 14921: Input shapes do not overlap raster.\n",
      " Skipping geometry 14922: Input shapes do not overlap raster.\n",
      " Skipping geometry 14923: Input shapes do not overlap raster.\n"
     ]
    },
    {
     "name": "stderr",
     "output_type": "stream",
     "text": [
      "Computing zonal stats:  21%|██        | 61/295 [1:17:27<5:22:41, 82.74s/it]"
     ]
    },
    {
     "name": "stdout",
     "output_type": "stream",
     "text": [
      " Skipping geometry 6920: Input shapes do not overlap raster.\n",
      " Skipping geometry 6921: Input shapes do not overlap raster.\n",
      " Skipping geometry 6922: Input shapes do not overlap raster.\n",
      " Skipping geometry 9528: Input shapes do not overlap raster.\n",
      " Skipping geometry 14921: Input shapes do not overlap raster.\n",
      " Skipping geometry 14922: Input shapes do not overlap raster.\n",
      " Skipping geometry 14923: Input shapes do not overlap raster.\n"
     ]
    },
    {
     "name": "stderr",
     "output_type": "stream",
     "text": [
      "Computing zonal stats:  21%|██        | 62/295 [1:18:49<5:20:47, 82.61s/it]"
     ]
    },
    {
     "name": "stdout",
     "output_type": "stream",
     "text": [
      " Skipping geometry 6920: Input shapes do not overlap raster.\n",
      " Skipping geometry 6921: Input shapes do not overlap raster.\n",
      " Skipping geometry 6922: Input shapes do not overlap raster.\n",
      " Skipping geometry 9528: Input shapes do not overlap raster.\n",
      " Skipping geometry 14921: Input shapes do not overlap raster.\n",
      " Skipping geometry 14922: Input shapes do not overlap raster.\n",
      " Skipping geometry 14923: Input shapes do not overlap raster.\n"
     ]
    },
    {
     "name": "stderr",
     "output_type": "stream",
     "text": [
      "Computing zonal stats:  21%|██▏       | 63/295 [1:20:12<5:20:05, 82.78s/it]"
     ]
    },
    {
     "name": "stdout",
     "output_type": "stream",
     "text": [
      " Skipping geometry 6920: Input shapes do not overlap raster.\n",
      " Skipping geometry 6921: Input shapes do not overlap raster.\n",
      " Skipping geometry 6922: Input shapes do not overlap raster.\n",
      " Skipping geometry 9528: Input shapes do not overlap raster.\n",
      " Skipping geometry 14921: Input shapes do not overlap raster.\n",
      " Skipping geometry 14922: Input shapes do not overlap raster.\n",
      " Skipping geometry 14923: Input shapes do not overlap raster.\n"
     ]
    },
    {
     "name": "stderr",
     "output_type": "stream",
     "text": [
      "Computing zonal stats:  22%|██▏       | 64/295 [1:21:33<5:16:10, 82.12s/it]"
     ]
    },
    {
     "name": "stdout",
     "output_type": "stream",
     "text": [
      " Skipping geometry 6920: Input shapes do not overlap raster.\n",
      " Skipping geometry 6921: Input shapes do not overlap raster.\n",
      " Skipping geometry 6922: Input shapes do not overlap raster.\n",
      " Skipping geometry 9528: Input shapes do not overlap raster.\n",
      " Skipping geometry 14921: Input shapes do not overlap raster.\n",
      " Skipping geometry 14922: Input shapes do not overlap raster.\n",
      " Skipping geometry 14923: Input shapes do not overlap raster.\n"
     ]
    },
    {
     "name": "stderr",
     "output_type": "stream",
     "text": [
      "Computing zonal stats:  22%|██▏       | 65/295 [1:22:53<5:12:20, 81.48s/it]"
     ]
    },
    {
     "name": "stdout",
     "output_type": "stream",
     "text": [
      " Skipping geometry 6920: Input shapes do not overlap raster.\n",
      " Skipping geometry 6921: Input shapes do not overlap raster.\n",
      " Skipping geometry 6922: Input shapes do not overlap raster.\n",
      " Skipping geometry 9528: Input shapes do not overlap raster.\n",
      " Skipping geometry 14921: Input shapes do not overlap raster.\n",
      " Skipping geometry 14922: Input shapes do not overlap raster.\n",
      " Skipping geometry 14923: Input shapes do not overlap raster.\n"
     ]
    },
    {
     "name": "stderr",
     "output_type": "stream",
     "text": [
      "Computing zonal stats:  22%|██▏       | 66/295 [1:24:11<5:07:24, 80.54s/it]"
     ]
    },
    {
     "name": "stdout",
     "output_type": "stream",
     "text": [
      " Skipping geometry 6920: Input shapes do not overlap raster.\n",
      " Skipping geometry 6921: Input shapes do not overlap raster.\n",
      " Skipping geometry 6922: Input shapes do not overlap raster.\n",
      " Skipping geometry 9528: Input shapes do not overlap raster.\n",
      " Skipping geometry 14921: Input shapes do not overlap raster.\n",
      " Skipping geometry 14922: Input shapes do not overlap raster.\n",
      " Skipping geometry 14923: Input shapes do not overlap raster.\n"
     ]
    },
    {
     "name": "stderr",
     "output_type": "stream",
     "text": [
      "Computing zonal stats:  23%|██▎       | 67/295 [1:25:28<5:02:05, 79.50s/it]"
     ]
    },
    {
     "name": "stdout",
     "output_type": "stream",
     "text": [
      " Skipping geometry 6920: Input shapes do not overlap raster.\n",
      " Skipping geometry 6921: Input shapes do not overlap raster.\n",
      " Skipping geometry 6922: Input shapes do not overlap raster.\n",
      " Skipping geometry 9528: Input shapes do not overlap raster.\n",
      " Skipping geometry 14921: Input shapes do not overlap raster.\n",
      " Skipping geometry 14922: Input shapes do not overlap raster.\n",
      " Skipping geometry 14923: Input shapes do not overlap raster.\n"
     ]
    },
    {
     "name": "stderr",
     "output_type": "stream",
     "text": [
      "Computing zonal stats:  23%|██▎       | 68/295 [1:26:45<4:57:47, 78.71s/it]"
     ]
    },
    {
     "name": "stdout",
     "output_type": "stream",
     "text": [
      " Skipping geometry 6920: Input shapes do not overlap raster.\n",
      " Skipping geometry 6921: Input shapes do not overlap raster.\n",
      " Skipping geometry 6922: Input shapes do not overlap raster.\n",
      " Skipping geometry 9528: Input shapes do not overlap raster.\n",
      " Skipping geometry 14921: Input shapes do not overlap raster.\n",
      " Skipping geometry 14922: Input shapes do not overlap raster.\n",
      " Skipping geometry 14923: Input shapes do not overlap raster.\n"
     ]
    },
    {
     "name": "stderr",
     "output_type": "stream",
     "text": [
      "Computing zonal stats:  23%|██▎       | 69/295 [1:28:06<4:59:02, 79.39s/it]"
     ]
    },
    {
     "name": "stdout",
     "output_type": "stream",
     "text": [
      " Skipping geometry 6920: Input shapes do not overlap raster.\n",
      " Skipping geometry 6921: Input shapes do not overlap raster.\n",
      " Skipping geometry 6922: Input shapes do not overlap raster.\n",
      " Skipping geometry 9528: Input shapes do not overlap raster.\n",
      " Skipping geometry 14921: Input shapes do not overlap raster.\n",
      " Skipping geometry 14922: Input shapes do not overlap raster.\n",
      " Skipping geometry 14923: Input shapes do not overlap raster.\n"
     ]
    },
    {
     "name": "stderr",
     "output_type": "stream",
     "text": [
      "Computing zonal stats:  24%|██▎       | 70/295 [1:29:22<4:53:56, 78.38s/it]"
     ]
    },
    {
     "name": "stdout",
     "output_type": "stream",
     "text": [
      " Skipping geometry 6920: Input shapes do not overlap raster.\n",
      " Skipping geometry 6921: Input shapes do not overlap raster.\n",
      " Skipping geometry 6922: Input shapes do not overlap raster.\n",
      " Skipping geometry 9528: Input shapes do not overlap raster.\n",
      " Skipping geometry 14921: Input shapes do not overlap raster.\n",
      " Skipping geometry 14922: Input shapes do not overlap raster.\n",
      " Skipping geometry 14923: Input shapes do not overlap raster.\n"
     ]
    },
    {
     "name": "stderr",
     "output_type": "stream",
     "text": [
      "Computing zonal stats:  24%|██▍       | 71/295 [1:30:40<4:52:00, 78.22s/it]"
     ]
    },
    {
     "name": "stdout",
     "output_type": "stream",
     "text": [
      " Skipping geometry 6920: Input shapes do not overlap raster.\n",
      " Skipping geometry 6921: Input shapes do not overlap raster.\n",
      " Skipping geometry 6922: Input shapes do not overlap raster.\n",
      " Skipping geometry 9528: Input shapes do not overlap raster.\n",
      " Skipping geometry 14921: Input shapes do not overlap raster.\n",
      " Skipping geometry 14922: Input shapes do not overlap raster.\n",
      " Skipping geometry 14923: Input shapes do not overlap raster.\n"
     ]
    },
    {
     "name": "stderr",
     "output_type": "stream",
     "text": [
      "Computing zonal stats:  24%|██▍       | 72/295 [1:32:06<4:58:51, 80.41s/it]"
     ]
    },
    {
     "name": "stdout",
     "output_type": "stream",
     "text": [
      " Skipping geometry 6920: Input shapes do not overlap raster.\n",
      " Skipping geometry 6921: Input shapes do not overlap raster.\n",
      " Skipping geometry 6922: Input shapes do not overlap raster.\n",
      " Skipping geometry 9528: Input shapes do not overlap raster.\n",
      " Skipping geometry 14921: Input shapes do not overlap raster.\n",
      " Skipping geometry 14922: Input shapes do not overlap raster.\n",
      " Skipping geometry 14923: Input shapes do not overlap raster.\n"
     ]
    },
    {
     "name": "stderr",
     "output_type": "stream",
     "text": [
      "Computing zonal stats:  25%|██▍       | 73/295 [1:33:30<5:01:21, 81.45s/it]"
     ]
    },
    {
     "name": "stdout",
     "output_type": "stream",
     "text": [
      " Skipping geometry 6920: Input shapes do not overlap raster.\n",
      " Skipping geometry 6921: Input shapes do not overlap raster.\n",
      " Skipping geometry 6922: Input shapes do not overlap raster.\n",
      " Skipping geometry 9528: Input shapes do not overlap raster.\n",
      " Skipping geometry 14921: Input shapes do not overlap raster.\n",
      " Skipping geometry 14922: Input shapes do not overlap raster.\n",
      " Skipping geometry 14923: Input shapes do not overlap raster.\n"
     ]
    },
    {
     "name": "stderr",
     "output_type": "stream",
     "text": [
      "Computing zonal stats:  25%|██▌       | 74/295 [1:34:54<5:02:53, 82.23s/it]"
     ]
    },
    {
     "name": "stdout",
     "output_type": "stream",
     "text": [
      " Skipping geometry 6920: Input shapes do not overlap raster.\n",
      " Skipping geometry 6921: Input shapes do not overlap raster.\n",
      " Skipping geometry 6922: Input shapes do not overlap raster.\n",
      " Skipping geometry 9528: Input shapes do not overlap raster.\n",
      " Skipping geometry 14921: Input shapes do not overlap raster.\n",
      " Skipping geometry 14922: Input shapes do not overlap raster.\n",
      " Skipping geometry 14923: Input shapes do not overlap raster.\n"
     ]
    },
    {
     "name": "stderr",
     "output_type": "stream",
     "text": [
      "Computing zonal stats:  25%|██▌       | 75/295 [1:36:17<5:02:44, 82.56s/it]"
     ]
    },
    {
     "name": "stdout",
     "output_type": "stream",
     "text": [
      " Skipping geometry 6920: Input shapes do not overlap raster.\n",
      " Skipping geometry 6921: Input shapes do not overlap raster.\n",
      " Skipping geometry 6922: Input shapes do not overlap raster.\n",
      " Skipping geometry 9528: Input shapes do not overlap raster.\n",
      " Skipping geometry 14921: Input shapes do not overlap raster.\n",
      " Skipping geometry 14922: Input shapes do not overlap raster.\n",
      " Skipping geometry 14923: Input shapes do not overlap raster.\n"
     ]
    },
    {
     "name": "stderr",
     "output_type": "stream",
     "text": [
      "Computing zonal stats:  26%|██▌       | 76/295 [1:37:40<5:01:46, 82.68s/it]"
     ]
    },
    {
     "name": "stdout",
     "output_type": "stream",
     "text": [
      " Skipping geometry 6920: Input shapes do not overlap raster.\n",
      " Skipping geometry 6921: Input shapes do not overlap raster.\n",
      " Skipping geometry 6922: Input shapes do not overlap raster.\n",
      " Skipping geometry 9528: Input shapes do not overlap raster.\n",
      " Skipping geometry 14921: Input shapes do not overlap raster.\n",
      " Skipping geometry 14922: Input shapes do not overlap raster.\n",
      " Skipping geometry 14923: Input shapes do not overlap raster.\n"
     ]
    },
    {
     "name": "stderr",
     "output_type": "stream",
     "text": [
      "Computing zonal stats:  26%|██▌       | 77/295 [1:39:06<5:04:33, 83.83s/it]"
     ]
    },
    {
     "name": "stdout",
     "output_type": "stream",
     "text": [
      " Skipping geometry 6920: Input shapes do not overlap raster.\n",
      " Skipping geometry 6921: Input shapes do not overlap raster.\n",
      " Skipping geometry 6922: Input shapes do not overlap raster.\n",
      " Skipping geometry 9528: Input shapes do not overlap raster.\n",
      " Skipping geometry 14921: Input shapes do not overlap raster.\n",
      " Skipping geometry 14922: Input shapes do not overlap raster.\n",
      " Skipping geometry 14923: Input shapes do not overlap raster.\n"
     ]
    },
    {
     "name": "stderr",
     "output_type": "stream",
     "text": [
      "Computing zonal stats:  26%|██▋       | 78/295 [1:40:32<5:05:14, 84.40s/it]"
     ]
    },
    {
     "name": "stdout",
     "output_type": "stream",
     "text": [
      " Skipping geometry 6920: Input shapes do not overlap raster.\n",
      " Skipping geometry 6921: Input shapes do not overlap raster.\n",
      " Skipping geometry 6922: Input shapes do not overlap raster.\n",
      " Skipping geometry 9528: Input shapes do not overlap raster.\n",
      " Skipping geometry 14921: Input shapes do not overlap raster.\n",
      " Skipping geometry 14922: Input shapes do not overlap raster.\n",
      " Skipping geometry 14923: Input shapes do not overlap raster.\n"
     ]
    },
    {
     "name": "stderr",
     "output_type": "stream",
     "text": [
      "Computing zonal stats:  27%|██▋       | 79/295 [1:42:01<5:08:17, 85.64s/it]"
     ]
    },
    {
     "name": "stdout",
     "output_type": "stream",
     "text": [
      " Skipping geometry 6920: Input shapes do not overlap raster.\n",
      " Skipping geometry 6921: Input shapes do not overlap raster.\n",
      " Skipping geometry 6922: Input shapes do not overlap raster.\n",
      " Skipping geometry 9528: Input shapes do not overlap raster.\n",
      " Skipping geometry 14921: Input shapes do not overlap raster.\n",
      " Skipping geometry 14922: Input shapes do not overlap raster.\n",
      " Skipping geometry 14923: Input shapes do not overlap raster.\n"
     ]
    },
    {
     "name": "stderr",
     "output_type": "stream",
     "text": [
      "Computing zonal stats:  27%|██▋       | 80/295 [1:43:25<5:05:57, 85.38s/it]"
     ]
    },
    {
     "name": "stdout",
     "output_type": "stream",
     "text": [
      " Skipping geometry 6920: Input shapes do not overlap raster.\n",
      " Skipping geometry 6921: Input shapes do not overlap raster.\n",
      " Skipping geometry 6922: Input shapes do not overlap raster.\n",
      " Skipping geometry 9528: Input shapes do not overlap raster.\n",
      " Skipping geometry 14921: Input shapes do not overlap raster.\n",
      " Skipping geometry 14922: Input shapes do not overlap raster.\n",
      " Skipping geometry 14923: Input shapes do not overlap raster.\n"
     ]
    },
    {
     "name": "stderr",
     "output_type": "stream",
     "text": [
      "Computing zonal stats:  27%|██▋       | 81/295 [1:44:49<5:02:10, 84.72s/it]"
     ]
    },
    {
     "name": "stdout",
     "output_type": "stream",
     "text": [
      " Skipping geometry 6920: Input shapes do not overlap raster.\n",
      " Skipping geometry 6921: Input shapes do not overlap raster.\n",
      " Skipping geometry 6922: Input shapes do not overlap raster.\n",
      " Skipping geometry 9528: Input shapes do not overlap raster.\n",
      " Skipping geometry 14921: Input shapes do not overlap raster.\n",
      " Skipping geometry 14922: Input shapes do not overlap raster.\n",
      " Skipping geometry 14923: Input shapes do not overlap raster.\n"
     ]
    },
    {
     "name": "stderr",
     "output_type": "stream",
     "text": [
      "Computing zonal stats:  28%|██▊       | 82/295 [1:46:15<5:02:31, 85.22s/it]"
     ]
    },
    {
     "name": "stdout",
     "output_type": "stream",
     "text": [
      " Skipping geometry 6920: Input shapes do not overlap raster.\n",
      " Skipping geometry 6921: Input shapes do not overlap raster.\n",
      " Skipping geometry 6922: Input shapes do not overlap raster.\n",
      " Skipping geometry 9528: Input shapes do not overlap raster.\n",
      " Skipping geometry 14921: Input shapes do not overlap raster.\n",
      " Skipping geometry 14922: Input shapes do not overlap raster.\n",
      " Skipping geometry 14923: Input shapes do not overlap raster.\n"
     ]
    },
    {
     "name": "stderr",
     "output_type": "stream",
     "text": [
      "Computing zonal stats:  28%|██▊       | 83/295 [1:47:42<5:02:54, 85.73s/it]"
     ]
    },
    {
     "name": "stdout",
     "output_type": "stream",
     "text": [
      " Skipping geometry 6920: Input shapes do not overlap raster.\n",
      " Skipping geometry 6921: Input shapes do not overlap raster.\n",
      " Skipping geometry 6922: Input shapes do not overlap raster.\n",
      " Skipping geometry 9528: Input shapes do not overlap raster.\n",
      " Skipping geometry 14921: Input shapes do not overlap raster.\n",
      " Skipping geometry 14922: Input shapes do not overlap raster.\n",
      " Skipping geometry 14923: Input shapes do not overlap raster.\n"
     ]
    },
    {
     "name": "stderr",
     "output_type": "stream",
     "text": [
      "Computing zonal stats:  28%|██▊       | 84/295 [1:49:08<5:01:57, 85.86s/it]"
     ]
    },
    {
     "name": "stdout",
     "output_type": "stream",
     "text": [
      " Skipping geometry 6920: Input shapes do not overlap raster.\n",
      " Skipping geometry 6921: Input shapes do not overlap raster.\n",
      " Skipping geometry 6922: Input shapes do not overlap raster.\n",
      " Skipping geometry 9528: Input shapes do not overlap raster.\n",
      " Skipping geometry 14921: Input shapes do not overlap raster.\n",
      " Skipping geometry 14922: Input shapes do not overlap raster.\n",
      " Skipping geometry 14923: Input shapes do not overlap raster.\n"
     ]
    },
    {
     "name": "stderr",
     "output_type": "stream",
     "text": [
      "Computing zonal stats:  29%|██▉       | 85/295 [1:50:36<5:02:56, 86.55s/it]"
     ]
    },
    {
     "name": "stdout",
     "output_type": "stream",
     "text": [
      " Skipping geometry 6920: Input shapes do not overlap raster.\n",
      " Skipping geometry 6921: Input shapes do not overlap raster.\n",
      " Skipping geometry 6922: Input shapes do not overlap raster.\n",
      " Skipping geometry 9528: Input shapes do not overlap raster.\n",
      " Skipping geometry 14921: Input shapes do not overlap raster.\n",
      " Skipping geometry 14922: Input shapes do not overlap raster.\n",
      " Skipping geometry 14923: Input shapes do not overlap raster.\n"
     ]
    },
    {
     "name": "stderr",
     "output_type": "stream",
     "text": [
      "Computing zonal stats:  29%|██▉       | 86/295 [1:52:02<5:00:40, 86.32s/it]"
     ]
    },
    {
     "name": "stdout",
     "output_type": "stream",
     "text": [
      " Skipping geometry 6920: Input shapes do not overlap raster.\n",
      " Skipping geometry 6921: Input shapes do not overlap raster.\n",
      " Skipping geometry 6922: Input shapes do not overlap raster.\n",
      " Skipping geometry 9528: Input shapes do not overlap raster.\n",
      " Skipping geometry 14921: Input shapes do not overlap raster.\n",
      " Skipping geometry 14922: Input shapes do not overlap raster.\n",
      " Skipping geometry 14923: Input shapes do not overlap raster.\n"
     ]
    },
    {
     "name": "stderr",
     "output_type": "stream",
     "text": [
      "Computing zonal stats:  29%|██▉       | 87/295 [1:53:29<4:59:59, 86.54s/it]"
     ]
    },
    {
     "name": "stdout",
     "output_type": "stream",
     "text": [
      " Skipping geometry 6920: Input shapes do not overlap raster.\n",
      " Skipping geometry 6921: Input shapes do not overlap raster.\n",
      " Skipping geometry 6922: Input shapes do not overlap raster.\n",
      " Skipping geometry 9528: Input shapes do not overlap raster.\n",
      " Skipping geometry 14921: Input shapes do not overlap raster.\n",
      " Skipping geometry 14922: Input shapes do not overlap raster.\n",
      " Skipping geometry 14923: Input shapes do not overlap raster.\n"
     ]
    },
    {
     "name": "stderr",
     "output_type": "stream",
     "text": [
      "Computing zonal stats:  30%|██▉       | 88/295 [1:54:58<5:01:08, 87.29s/it]"
     ]
    },
    {
     "name": "stdout",
     "output_type": "stream",
     "text": [
      " Skipping geometry 6920: Input shapes do not overlap raster.\n",
      " Skipping geometry 6921: Input shapes do not overlap raster.\n",
      " Skipping geometry 6922: Input shapes do not overlap raster.\n",
      " Skipping geometry 9528: Input shapes do not overlap raster.\n",
      " Skipping geometry 14921: Input shapes do not overlap raster.\n",
      " Skipping geometry 14922: Input shapes do not overlap raster.\n",
      " Skipping geometry 14923: Input shapes do not overlap raster.\n"
     ]
    },
    {
     "name": "stderr",
     "output_type": "stream",
     "text": [
      "Computing zonal stats:  30%|███       | 89/295 [1:56:28<5:02:11, 88.02s/it]"
     ]
    },
    {
     "name": "stdout",
     "output_type": "stream",
     "text": [
      " Skipping geometry 6920: Input shapes do not overlap raster.\n",
      " Skipping geometry 6921: Input shapes do not overlap raster.\n",
      " Skipping geometry 6922: Input shapes do not overlap raster.\n",
      " Skipping geometry 9528: Input shapes do not overlap raster.\n",
      " Skipping geometry 14921: Input shapes do not overlap raster.\n",
      " Skipping geometry 14922: Input shapes do not overlap raster.\n",
      " Skipping geometry 14923: Input shapes do not overlap raster.\n"
     ]
    },
    {
     "name": "stderr",
     "output_type": "stream",
     "text": [
      "Computing zonal stats:  31%|███       | 90/295 [1:57:55<5:00:14, 87.88s/it]"
     ]
    },
    {
     "name": "stdout",
     "output_type": "stream",
     "text": [
      " Skipping geometry 6920: Input shapes do not overlap raster.\n",
      " Skipping geometry 6921: Input shapes do not overlap raster.\n",
      " Skipping geometry 6922: Input shapes do not overlap raster.\n",
      " Skipping geometry 9528: Input shapes do not overlap raster.\n",
      " Skipping geometry 14921: Input shapes do not overlap raster.\n",
      " Skipping geometry 14922: Input shapes do not overlap raster.\n",
      " Skipping geometry 14923: Input shapes do not overlap raster.\n"
     ]
    },
    {
     "name": "stderr",
     "output_type": "stream",
     "text": [
      "Computing zonal stats:  31%|███       | 91/295 [1:59:23<4:58:41, 87.85s/it]"
     ]
    },
    {
     "name": "stdout",
     "output_type": "stream",
     "text": [
      " Skipping geometry 6920: Input shapes do not overlap raster.\n",
      " Skipping geometry 6921: Input shapes do not overlap raster.\n",
      " Skipping geometry 6922: Input shapes do not overlap raster.\n",
      " Skipping geometry 9528: Input shapes do not overlap raster.\n",
      " Skipping geometry 14921: Input shapes do not overlap raster.\n",
      " Skipping geometry 14922: Input shapes do not overlap raster.\n",
      " Skipping geometry 14923: Input shapes do not overlap raster.\n"
     ]
    },
    {
     "name": "stderr",
     "output_type": "stream",
     "text": [
      "Computing zonal stats:  31%|███       | 92/295 [2:00:51<4:56:54, 87.76s/it]"
     ]
    },
    {
     "name": "stdout",
     "output_type": "stream",
     "text": [
      " Skipping geometry 6920: Input shapes do not overlap raster.\n",
      " Skipping geometry 6921: Input shapes do not overlap raster.\n",
      " Skipping geometry 6922: Input shapes do not overlap raster.\n",
      " Skipping geometry 9528: Input shapes do not overlap raster.\n",
      " Skipping geometry 14921: Input shapes do not overlap raster.\n",
      " Skipping geometry 14922: Input shapes do not overlap raster.\n",
      " Skipping geometry 14923: Input shapes do not overlap raster.\n"
     ]
    },
    {
     "name": "stderr",
     "output_type": "stream",
     "text": [
      "Computing zonal stats:  32%|███▏      | 93/295 [2:02:19<4:55:57, 87.91s/it]"
     ]
    },
    {
     "name": "stdout",
     "output_type": "stream",
     "text": [
      " Skipping geometry 6920: Input shapes do not overlap raster.\n",
      " Skipping geometry 6921: Input shapes do not overlap raster.\n",
      " Skipping geometry 6922: Input shapes do not overlap raster.\n",
      " Skipping geometry 9528: Input shapes do not overlap raster.\n",
      " Skipping geometry 14921: Input shapes do not overlap raster.\n",
      " Skipping geometry 14922: Input shapes do not overlap raster.\n",
      " Skipping geometry 14923: Input shapes do not overlap raster.\n"
     ]
    },
    {
     "name": "stderr",
     "output_type": "stream",
     "text": [
      "Computing zonal stats:  32%|███▏      | 94/295 [2:03:49<4:56:23, 88.47s/it]"
     ]
    },
    {
     "name": "stdout",
     "output_type": "stream",
     "text": [
      " Skipping geometry 6920: Input shapes do not overlap raster.\n",
      " Skipping geometry 6921: Input shapes do not overlap raster.\n",
      " Skipping geometry 6922: Input shapes do not overlap raster.\n",
      " Skipping geometry 9528: Input shapes do not overlap raster.\n",
      " Skipping geometry 14921: Input shapes do not overlap raster.\n",
      " Skipping geometry 14922: Input shapes do not overlap raster.\n",
      " Skipping geometry 14923: Input shapes do not overlap raster.\n"
     ]
    },
    {
     "name": "stderr",
     "output_type": "stream",
     "text": [
      "Computing zonal stats:  32%|███▏      | 95/295 [2:05:18<4:55:47, 88.74s/it]"
     ]
    },
    {
     "name": "stdout",
     "output_type": "stream",
     "text": [
      " Skipping geometry 6920: Input shapes do not overlap raster.\n",
      " Skipping geometry 6921: Input shapes do not overlap raster.\n",
      " Skipping geometry 6922: Input shapes do not overlap raster.\n",
      " Skipping geometry 9528: Input shapes do not overlap raster.\n",
      " Skipping geometry 14921: Input shapes do not overlap raster.\n",
      " Skipping geometry 14922: Input shapes do not overlap raster.\n",
      " Skipping geometry 14923: Input shapes do not overlap raster.\n"
     ]
    },
    {
     "name": "stderr",
     "output_type": "stream",
     "text": [
      "Computing zonal stats:  33%|███▎      | 96/295 [2:06:48<4:54:59, 88.94s/it]"
     ]
    },
    {
     "name": "stdout",
     "output_type": "stream",
     "text": [
      " Skipping geometry 6920: Input shapes do not overlap raster.\n",
      " Skipping geometry 6921: Input shapes do not overlap raster.\n",
      " Skipping geometry 6922: Input shapes do not overlap raster.\n",
      " Skipping geometry 9528: Input shapes do not overlap raster.\n",
      " Skipping geometry 14921: Input shapes do not overlap raster.\n",
      " Skipping geometry 14922: Input shapes do not overlap raster.\n",
      " Skipping geometry 14923: Input shapes do not overlap raster.\n"
     ]
    },
    {
     "name": "stderr",
     "output_type": "stream",
     "text": [
      "Computing zonal stats:  33%|███▎      | 97/295 [2:08:17<4:54:04, 89.11s/it]"
     ]
    },
    {
     "name": "stdout",
     "output_type": "stream",
     "text": [
      " Skipping geometry 6920: Input shapes do not overlap raster.\n",
      " Skipping geometry 6921: Input shapes do not overlap raster.\n",
      " Skipping geometry 6922: Input shapes do not overlap raster.\n",
      " Skipping geometry 9528: Input shapes do not overlap raster.\n",
      " Skipping geometry 14921: Input shapes do not overlap raster.\n",
      " Skipping geometry 14922: Input shapes do not overlap raster.\n",
      " Skipping geometry 14923: Input shapes do not overlap raster.\n"
     ]
    },
    {
     "name": "stderr",
     "output_type": "stream",
     "text": [
      "Computing zonal stats:  33%|███▎      | 98/295 [2:09:45<4:51:24, 88.75s/it]"
     ]
    },
    {
     "name": "stdout",
     "output_type": "stream",
     "text": [
      " Skipping geometry 6920: Input shapes do not overlap raster.\n",
      " Skipping geometry 6921: Input shapes do not overlap raster.\n",
      " Skipping geometry 6922: Input shapes do not overlap raster.\n",
      " Skipping geometry 9528: Input shapes do not overlap raster.\n",
      " Skipping geometry 14921: Input shapes do not overlap raster.\n",
      " Skipping geometry 14922: Input shapes do not overlap raster.\n",
      " Skipping geometry 14923: Input shapes do not overlap raster.\n"
     ]
    },
    {
     "name": "stderr",
     "output_type": "stream",
     "text": [
      "Computing zonal stats:  34%|███▎      | 99/295 [2:11:12<4:48:17, 88.25s/it]"
     ]
    },
    {
     "name": "stdout",
     "output_type": "stream",
     "text": [
      " Skipping geometry 6920: Input shapes do not overlap raster.\n",
      " Skipping geometry 6921: Input shapes do not overlap raster.\n",
      " Skipping geometry 6922: Input shapes do not overlap raster.\n",
      " Skipping geometry 9528: Input shapes do not overlap raster.\n",
      " Skipping geometry 14921: Input shapes do not overlap raster.\n",
      " Skipping geometry 14922: Input shapes do not overlap raster.\n",
      " Skipping geometry 14923: Input shapes do not overlap raster.\n"
     ]
    },
    {
     "name": "stderr",
     "output_type": "stream",
     "text": [
      "Computing zonal stats:  34%|███▍      | 100/295 [2:12:35<4:41:19, 86.56s/it]"
     ]
    },
    {
     "name": "stdout",
     "output_type": "stream",
     "text": [
      " Skipping geometry 6920: Input shapes do not overlap raster.\n",
      " Skipping geometry 6921: Input shapes do not overlap raster.\n",
      " Skipping geometry 6922: Input shapes do not overlap raster.\n",
      " Skipping geometry 9528: Input shapes do not overlap raster.\n",
      " Skipping geometry 14921: Input shapes do not overlap raster.\n",
      " Skipping geometry 14922: Input shapes do not overlap raster.\n",
      " Skipping geometry 14923: Input shapes do not overlap raster.\n"
     ]
    },
    {
     "name": "stderr",
     "output_type": "stream",
     "text": [
      "Computing zonal stats:  34%|███▍      | 101/295 [2:13:55<4:33:26, 84.57s/it]"
     ]
    },
    {
     "name": "stdout",
     "output_type": "stream",
     "text": [
      " Skipping geometry 6920: Input shapes do not overlap raster.\n",
      " Skipping geometry 6921: Input shapes do not overlap raster.\n",
      " Skipping geometry 6922: Input shapes do not overlap raster.\n",
      " Skipping geometry 9528: Input shapes do not overlap raster.\n",
      " Skipping geometry 14921: Input shapes do not overlap raster.\n",
      " Skipping geometry 14922: Input shapes do not overlap raster.\n",
      " Skipping geometry 14923: Input shapes do not overlap raster.\n"
     ]
    },
    {
     "name": "stderr",
     "output_type": "stream",
     "text": [
      "Computing zonal stats:  35%|███▍      | 102/295 [2:15:19<4:31:35, 84.43s/it]"
     ]
    },
    {
     "name": "stdout",
     "output_type": "stream",
     "text": [
      " Skipping geometry 6920: Input shapes do not overlap raster.\n",
      " Skipping geometry 6921: Input shapes do not overlap raster.\n",
      " Skipping geometry 6922: Input shapes do not overlap raster.\n",
      " Skipping geometry 9528: Input shapes do not overlap raster.\n",
      " Skipping geometry 14921: Input shapes do not overlap raster.\n",
      " Skipping geometry 14922: Input shapes do not overlap raster.\n",
      " Skipping geometry 14923: Input shapes do not overlap raster.\n"
     ]
    },
    {
     "name": "stderr",
     "output_type": "stream",
     "text": [
      "Computing zonal stats:  35%|███▍      | 103/295 [2:16:38<4:25:23, 82.94s/it]"
     ]
    },
    {
     "name": "stdout",
     "output_type": "stream",
     "text": [
      " Skipping geometry 6920: Input shapes do not overlap raster.\n",
      " Skipping geometry 6921: Input shapes do not overlap raster.\n",
      " Skipping geometry 6922: Input shapes do not overlap raster.\n",
      " Skipping geometry 9528: Input shapes do not overlap raster.\n",
      " Skipping geometry 14921: Input shapes do not overlap raster.\n",
      " Skipping geometry 14922: Input shapes do not overlap raster.\n",
      " Skipping geometry 14923: Input shapes do not overlap raster.\n"
     ]
    },
    {
     "name": "stderr",
     "output_type": "stream",
     "text": [
      "Computing zonal stats:  35%|███▌      | 104/295 [2:18:00<4:22:52, 82.58s/it]"
     ]
    },
    {
     "name": "stdout",
     "output_type": "stream",
     "text": [
      " Skipping geometry 6920: Input shapes do not overlap raster.\n",
      " Skipping geometry 6921: Input shapes do not overlap raster.\n",
      " Skipping geometry 6922: Input shapes do not overlap raster.\n",
      " Skipping geometry 9528: Input shapes do not overlap raster.\n",
      " Skipping geometry 14921: Input shapes do not overlap raster.\n",
      " Skipping geometry 14922: Input shapes do not overlap raster.\n",
      " Skipping geometry 14923: Input shapes do not overlap raster.\n"
     ]
    },
    {
     "name": "stderr",
     "output_type": "stream",
     "text": [
      "Computing zonal stats:  36%|███▌      | 105/295 [2:19:22<4:20:53, 82.39s/it]"
     ]
    },
    {
     "name": "stdout",
     "output_type": "stream",
     "text": [
      " Skipping geometry 6920: Input shapes do not overlap raster.\n",
      " Skipping geometry 6921: Input shapes do not overlap raster.\n",
      " Skipping geometry 6922: Input shapes do not overlap raster.\n",
      " Skipping geometry 9528: Input shapes do not overlap raster.\n",
      " Skipping geometry 14921: Input shapes do not overlap raster.\n",
      " Skipping geometry 14922: Input shapes do not overlap raster.\n",
      " Skipping geometry 14923: Input shapes do not overlap raster.\n"
     ]
    },
    {
     "name": "stderr",
     "output_type": "stream",
     "text": [
      "Computing zonal stats:  36%|███▌      | 106/295 [2:20:44<4:19:38, 82.42s/it]"
     ]
    },
    {
     "name": "stdout",
     "output_type": "stream",
     "text": [
      " Skipping geometry 6920: Input shapes do not overlap raster.\n",
      " Skipping geometry 6921: Input shapes do not overlap raster.\n",
      " Skipping geometry 6922: Input shapes do not overlap raster.\n",
      " Skipping geometry 9528: Input shapes do not overlap raster.\n",
      " Skipping geometry 14921: Input shapes do not overlap raster.\n",
      " Skipping geometry 14922: Input shapes do not overlap raster.\n",
      " Skipping geometry 14923: Input shapes do not overlap raster.\n"
     ]
    },
    {
     "name": "stderr",
     "output_type": "stream",
     "text": [
      "Computing zonal stats:  36%|███▋      | 107/295 [2:22:07<4:18:48, 82.60s/it]"
     ]
    },
    {
     "name": "stdout",
     "output_type": "stream",
     "text": [
      " Skipping geometry 6920: Input shapes do not overlap raster.\n",
      " Skipping geometry 6921: Input shapes do not overlap raster.\n",
      " Skipping geometry 6922: Input shapes do not overlap raster.\n",
      " Skipping geometry 9528: Input shapes do not overlap raster.\n",
      " Skipping geometry 14921: Input shapes do not overlap raster.\n",
      " Skipping geometry 14922: Input shapes do not overlap raster.\n",
      " Skipping geometry 14923: Input shapes do not overlap raster.\n"
     ]
    },
    {
     "name": "stderr",
     "output_type": "stream",
     "text": [
      "Computing zonal stats:  37%|███▋      | 108/295 [2:23:30<4:17:43, 82.69s/it]"
     ]
    },
    {
     "name": "stdout",
     "output_type": "stream",
     "text": [
      " Skipping geometry 6920: Input shapes do not overlap raster.\n",
      " Skipping geometry 6921: Input shapes do not overlap raster.\n",
      " Skipping geometry 6922: Input shapes do not overlap raster.\n",
      " Skipping geometry 9528: Input shapes do not overlap raster.\n",
      " Skipping geometry 14921: Input shapes do not overlap raster.\n",
      " Skipping geometry 14922: Input shapes do not overlap raster.\n",
      " Skipping geometry 14923: Input shapes do not overlap raster.\n"
     ]
    },
    {
     "name": "stderr",
     "output_type": "stream",
     "text": [
      "Computing zonal stats:  37%|███▋      | 109/295 [2:24:53<4:16:10, 82.64s/it]"
     ]
    },
    {
     "name": "stdout",
     "output_type": "stream",
     "text": [
      " Skipping geometry 6920: Input shapes do not overlap raster.\n",
      " Skipping geometry 6921: Input shapes do not overlap raster.\n",
      " Skipping geometry 6922: Input shapes do not overlap raster.\n",
      " Skipping geometry 9528: Input shapes do not overlap raster.\n",
      " Skipping geometry 14921: Input shapes do not overlap raster.\n",
      " Skipping geometry 14922: Input shapes do not overlap raster.\n",
      " Skipping geometry 14923: Input shapes do not overlap raster.\n"
     ]
    },
    {
     "name": "stderr",
     "output_type": "stream",
     "text": [
      "Computing zonal stats:  37%|███▋      | 110/295 [2:26:16<4:15:16, 82.79s/it]"
     ]
    },
    {
     "name": "stdout",
     "output_type": "stream",
     "text": [
      " Skipping geometry 6920: Input shapes do not overlap raster.\n",
      " Skipping geometry 6921: Input shapes do not overlap raster.\n",
      " Skipping geometry 6922: Input shapes do not overlap raster.\n",
      " Skipping geometry 9528: Input shapes do not overlap raster.\n",
      " Skipping geometry 14921: Input shapes do not overlap raster.\n",
      " Skipping geometry 14922: Input shapes do not overlap raster.\n",
      " Skipping geometry 14923: Input shapes do not overlap raster.\n"
     ]
    },
    {
     "name": "stderr",
     "output_type": "stream",
     "text": [
      "Computing zonal stats:  38%|███▊      | 111/295 [2:27:39<4:13:42, 82.73s/it]"
     ]
    },
    {
     "name": "stdout",
     "output_type": "stream",
     "text": [
      " Skipping geometry 6920: Input shapes do not overlap raster.\n",
      " Skipping geometry 6921: Input shapes do not overlap raster.\n",
      " Skipping geometry 6922: Input shapes do not overlap raster.\n",
      " Skipping geometry 9528: Input shapes do not overlap raster.\n",
      " Skipping geometry 14921: Input shapes do not overlap raster.\n",
      " Skipping geometry 14922: Input shapes do not overlap raster.\n",
      " Skipping geometry 14923: Input shapes do not overlap raster.\n"
     ]
    },
    {
     "name": "stderr",
     "output_type": "stream",
     "text": [
      "Computing zonal stats:  38%|███▊      | 112/295 [2:29:02<4:12:47, 82.88s/it]"
     ]
    },
    {
     "name": "stdout",
     "output_type": "stream",
     "text": [
      " Skipping geometry 6920: Input shapes do not overlap raster.\n",
      " Skipping geometry 6921: Input shapes do not overlap raster.\n",
      " Skipping geometry 6922: Input shapes do not overlap raster.\n",
      " Skipping geometry 9528: Input shapes do not overlap raster.\n",
      " Skipping geometry 14921: Input shapes do not overlap raster.\n",
      " Skipping geometry 14922: Input shapes do not overlap raster.\n",
      " Skipping geometry 14923: Input shapes do not overlap raster.\n"
     ]
    },
    {
     "name": "stderr",
     "output_type": "stream",
     "text": [
      "Computing zonal stats:  38%|███▊      | 113/295 [2:30:25<4:11:25, 82.89s/it]"
     ]
    },
    {
     "name": "stdout",
     "output_type": "stream",
     "text": [
      " Skipping geometry 6920: Input shapes do not overlap raster.\n",
      " Skipping geometry 6921: Input shapes do not overlap raster.\n",
      " Skipping geometry 6922: Input shapes do not overlap raster.\n",
      " Skipping geometry 9528: Input shapes do not overlap raster.\n",
      " Skipping geometry 14921: Input shapes do not overlap raster.\n",
      " Skipping geometry 14922: Input shapes do not overlap raster.\n",
      " Skipping geometry 14923: Input shapes do not overlap raster.\n"
     ]
    },
    {
     "name": "stderr",
     "output_type": "stream",
     "text": [
      "Computing zonal stats:  39%|███▊      | 114/295 [2:31:48<4:10:41, 83.10s/it]"
     ]
    },
    {
     "name": "stdout",
     "output_type": "stream",
     "text": [
      " Skipping geometry 6920: Input shapes do not overlap raster.\n",
      " Skipping geometry 6921: Input shapes do not overlap raster.\n",
      " Skipping geometry 6922: Input shapes do not overlap raster.\n",
      " Skipping geometry 9528: Input shapes do not overlap raster.\n",
      " Skipping geometry 14921: Input shapes do not overlap raster.\n",
      " Skipping geometry 14922: Input shapes do not overlap raster.\n",
      " Skipping geometry 14923: Input shapes do not overlap raster.\n"
     ]
    },
    {
     "name": "stderr",
     "output_type": "stream",
     "text": [
      "Computing zonal stats:  39%|███▉      | 115/295 [2:33:13<4:10:34, 83.52s/it]"
     ]
    },
    {
     "name": "stdout",
     "output_type": "stream",
     "text": [
      " Skipping geometry 6920: Input shapes do not overlap raster.\n",
      " Skipping geometry 6921: Input shapes do not overlap raster.\n",
      " Skipping geometry 6922: Input shapes do not overlap raster.\n",
      " Skipping geometry 9528: Input shapes do not overlap raster.\n",
      " Skipping geometry 14921: Input shapes do not overlap raster.\n",
      " Skipping geometry 14922: Input shapes do not overlap raster.\n",
      " Skipping geometry 14923: Input shapes do not overlap raster.\n"
     ]
    },
    {
     "name": "stderr",
     "output_type": "stream",
     "text": [
      "Computing zonal stats:  39%|███▉      | 116/295 [2:34:36<4:08:58, 83.45s/it]"
     ]
    },
    {
     "name": "stdout",
     "output_type": "stream",
     "text": [
      " Skipping geometry 6920: Input shapes do not overlap raster.\n",
      " Skipping geometry 6921: Input shapes do not overlap raster.\n",
      " Skipping geometry 6922: Input shapes do not overlap raster.\n",
      " Skipping geometry 9528: Input shapes do not overlap raster.\n",
      " Skipping geometry 14921: Input shapes do not overlap raster.\n",
      " Skipping geometry 14922: Input shapes do not overlap raster.\n",
      " Skipping geometry 14923: Input shapes do not overlap raster.\n"
     ]
    },
    {
     "name": "stderr",
     "output_type": "stream",
     "text": [
      "Computing zonal stats:  40%|███▉      | 117/295 [2:36:00<4:07:56, 83.58s/it]"
     ]
    },
    {
     "name": "stdout",
     "output_type": "stream",
     "text": [
      " Skipping geometry 6920: Input shapes do not overlap raster.\n",
      " Skipping geometry 6921: Input shapes do not overlap raster.\n",
      " Skipping geometry 6922: Input shapes do not overlap raster.\n",
      " Skipping geometry 9528: Input shapes do not overlap raster.\n",
      " Skipping geometry 14921: Input shapes do not overlap raster.\n",
      " Skipping geometry 14922: Input shapes do not overlap raster.\n",
      " Skipping geometry 14923: Input shapes do not overlap raster.\n"
     ]
    },
    {
     "name": "stderr",
     "output_type": "stream",
     "text": [
      "Computing zonal stats:  40%|████      | 118/295 [2:37:19<4:02:47, 82.30s/it]"
     ]
    },
    {
     "name": "stdout",
     "output_type": "stream",
     "text": [
      " Skipping geometry 6920: Input shapes do not overlap raster.\n",
      " Skipping geometry 6921: Input shapes do not overlap raster.\n",
      " Skipping geometry 6922: Input shapes do not overlap raster.\n",
      " Skipping geometry 9528: Input shapes do not overlap raster.\n",
      " Skipping geometry 14921: Input shapes do not overlap raster.\n",
      " Skipping geometry 14922: Input shapes do not overlap raster.\n",
      " Skipping geometry 14923: Input shapes do not overlap raster.\n"
     ]
    },
    {
     "name": "stderr",
     "output_type": "stream",
     "text": [
      "Computing zonal stats:  40%|████      | 119/295 [2:38:41<4:00:47, 82.09s/it]"
     ]
    },
    {
     "name": "stdout",
     "output_type": "stream",
     "text": [
      " Skipping geometry 6920: Input shapes do not overlap raster.\n",
      " Skipping geometry 6921: Input shapes do not overlap raster.\n",
      " Skipping geometry 6922: Input shapes do not overlap raster.\n",
      " Skipping geometry 9528: Input shapes do not overlap raster.\n",
      " Skipping geometry 14921: Input shapes do not overlap raster.\n",
      " Skipping geometry 14922: Input shapes do not overlap raster.\n",
      " Skipping geometry 14923: Input shapes do not overlap raster.\n"
     ]
    },
    {
     "name": "stderr",
     "output_type": "stream",
     "text": [
      "Computing zonal stats:  41%|████      | 120/295 [2:40:01<3:57:31, 81.44s/it]"
     ]
    },
    {
     "name": "stdout",
     "output_type": "stream",
     "text": [
      " Skipping geometry 6920: Input shapes do not overlap raster.\n",
      " Skipping geometry 6921: Input shapes do not overlap raster.\n",
      " Skipping geometry 6922: Input shapes do not overlap raster.\n",
      " Skipping geometry 9528: Input shapes do not overlap raster.\n",
      " Skipping geometry 14921: Input shapes do not overlap raster.\n",
      " Skipping geometry 14922: Input shapes do not overlap raster.\n",
      " Skipping geometry 14923: Input shapes do not overlap raster.\n"
     ]
    },
    {
     "name": "stderr",
     "output_type": "stream",
     "text": [
      "Computing zonal stats:  41%|████      | 121/295 [2:41:21<3:54:52, 80.99s/it]"
     ]
    },
    {
     "name": "stdout",
     "output_type": "stream",
     "text": [
      " Skipping geometry 6920: Input shapes do not overlap raster.\n",
      " Skipping geometry 6921: Input shapes do not overlap raster.\n",
      " Skipping geometry 6922: Input shapes do not overlap raster.\n",
      " Skipping geometry 9528: Input shapes do not overlap raster.\n",
      " Skipping geometry 14921: Input shapes do not overlap raster.\n",
      " Skipping geometry 14922: Input shapes do not overlap raster.\n",
      " Skipping geometry 14923: Input shapes do not overlap raster.\n"
     ]
    },
    {
     "name": "stderr",
     "output_type": "stream",
     "text": [
      "Computing zonal stats:  41%|████▏     | 122/295 [2:42:40<3:52:13, 80.54s/it]"
     ]
    },
    {
     "name": "stdout",
     "output_type": "stream",
     "text": [
      " Skipping geometry 6920: Input shapes do not overlap raster.\n",
      " Skipping geometry 6921: Input shapes do not overlap raster.\n",
      " Skipping geometry 6922: Input shapes do not overlap raster.\n",
      " Skipping geometry 9528: Input shapes do not overlap raster.\n",
      " Skipping geometry 14921: Input shapes do not overlap raster.\n",
      " Skipping geometry 14922: Input shapes do not overlap raster.\n",
      " Skipping geometry 14923: Input shapes do not overlap raster.\n"
     ]
    },
    {
     "name": "stderr",
     "output_type": "stream",
     "text": [
      "Computing zonal stats:  42%|████▏     | 123/295 [2:43:59<3:49:30, 80.06s/it]"
     ]
    },
    {
     "name": "stdout",
     "output_type": "stream",
     "text": [
      " Skipping geometry 6920: Input shapes do not overlap raster.\n",
      " Skipping geometry 6921: Input shapes do not overlap raster.\n",
      " Skipping geometry 6922: Input shapes do not overlap raster.\n",
      " Skipping geometry 9528: Input shapes do not overlap raster.\n",
      " Skipping geometry 14921: Input shapes do not overlap raster.\n",
      " Skipping geometry 14922: Input shapes do not overlap raster.\n",
      " Skipping geometry 14923: Input shapes do not overlap raster.\n"
     ]
    },
    {
     "name": "stderr",
     "output_type": "stream",
     "text": [
      "Computing zonal stats:  42%|████▏     | 124/295 [2:45:17<3:46:42, 79.55s/it]"
     ]
    },
    {
     "name": "stdout",
     "output_type": "stream",
     "text": [
      " Skipping geometry 6920: Input shapes do not overlap raster.\n",
      " Skipping geometry 6921: Input shapes do not overlap raster.\n",
      " Skipping geometry 6922: Input shapes do not overlap raster.\n",
      " Skipping geometry 9528: Input shapes do not overlap raster.\n",
      " Skipping geometry 14921: Input shapes do not overlap raster.\n",
      " Skipping geometry 14922: Input shapes do not overlap raster.\n",
      " Skipping geometry 14923: Input shapes do not overlap raster.\n"
     ]
    },
    {
     "name": "stderr",
     "output_type": "stream",
     "text": [
      "Computing zonal stats:  42%|████▏     | 125/295 [2:46:35<3:43:20, 78.83s/it]"
     ]
    },
    {
     "name": "stdout",
     "output_type": "stream",
     "text": [
      " Skipping geometry 6920: Input shapes do not overlap raster.\n",
      " Skipping geometry 6921: Input shapes do not overlap raster.\n",
      " Skipping geometry 6922: Input shapes do not overlap raster.\n",
      " Skipping geometry 9528: Input shapes do not overlap raster.\n",
      " Skipping geometry 14921: Input shapes do not overlap raster.\n",
      " Skipping geometry 14922: Input shapes do not overlap raster.\n",
      " Skipping geometry 14923: Input shapes do not overlap raster.\n"
     ]
    },
    {
     "name": "stderr",
     "output_type": "stream",
     "text": [
      "Computing zonal stats:  43%|████▎     | 126/295 [2:47:53<3:41:42, 78.71s/it]"
     ]
    },
    {
     "name": "stdout",
     "output_type": "stream",
     "text": [
      " Skipping geometry 6920: Input shapes do not overlap raster.\n",
      " Skipping geometry 6921: Input shapes do not overlap raster.\n",
      " Skipping geometry 6922: Input shapes do not overlap raster.\n",
      " Skipping geometry 9528: Input shapes do not overlap raster.\n",
      " Skipping geometry 14921: Input shapes do not overlap raster.\n",
      " Skipping geometry 14922: Input shapes do not overlap raster.\n",
      " Skipping geometry 14923: Input shapes do not overlap raster.\n"
     ]
    },
    {
     "name": "stderr",
     "output_type": "stream",
     "text": [
      "Computing zonal stats:  43%|████▎     | 127/295 [2:49:23<3:49:36, 82.00s/it]"
     ]
    },
    {
     "name": "stdout",
     "output_type": "stream",
     "text": [
      " Skipping geometry 6920: Input shapes do not overlap raster.\n",
      " Skipping geometry 6921: Input shapes do not overlap raster.\n",
      " Skipping geometry 6922: Input shapes do not overlap raster.\n",
      " Skipping geometry 9528: Input shapes do not overlap raster.\n",
      " Skipping geometry 14921: Input shapes do not overlap raster.\n",
      " Skipping geometry 14922: Input shapes do not overlap raster.\n",
      " Skipping geometry 14923: Input shapes do not overlap raster.\n"
     ]
    },
    {
     "name": "stderr",
     "output_type": "stream",
     "text": [
      "Computing zonal stats:  43%|████▎     | 128/295 [2:51:12<4:11:17, 90.28s/it]"
     ]
    },
    {
     "name": "stdout",
     "output_type": "stream",
     "text": [
      " Skipping geometry 6920: Input shapes do not overlap raster.\n",
      " Skipping geometry 6921: Input shapes do not overlap raster.\n",
      " Skipping geometry 6922: Input shapes do not overlap raster.\n",
      " Skipping geometry 9528: Input shapes do not overlap raster.\n",
      " Skipping geometry 14921: Input shapes do not overlap raster.\n",
      " Skipping geometry 14922: Input shapes do not overlap raster.\n",
      " Skipping geometry 14923: Input shapes do not overlap raster.\n"
     ]
    },
    {
     "name": "stderr",
     "output_type": "stream",
     "text": [
      "Computing zonal stats:  44%|████▎     | 129/295 [2:52:37<4:05:21, 88.69s/it]"
     ]
    },
    {
     "name": "stdout",
     "output_type": "stream",
     "text": [
      " Skipping geometry 6920: Input shapes do not overlap raster.\n",
      " Skipping geometry 6921: Input shapes do not overlap raster.\n",
      " Skipping geometry 6922: Input shapes do not overlap raster.\n",
      " Skipping geometry 9528: Input shapes do not overlap raster.\n",
      " Skipping geometry 14921: Input shapes do not overlap raster.\n",
      " Skipping geometry 14922: Input shapes do not overlap raster.\n",
      " Skipping geometry 14923: Input shapes do not overlap raster.\n"
     ]
    },
    {
     "name": "stderr",
     "output_type": "stream",
     "text": [
      "Computing zonal stats:  44%|████▍     | 130/295 [2:54:04<4:02:12, 88.08s/it]"
     ]
    },
    {
     "name": "stdout",
     "output_type": "stream",
     "text": [
      " Skipping geometry 6920: Input shapes do not overlap raster.\n",
      " Skipping geometry 6921: Input shapes do not overlap raster.\n",
      " Skipping geometry 6922: Input shapes do not overlap raster.\n",
      " Skipping geometry 9528: Input shapes do not overlap raster.\n",
      " Skipping geometry 14921: Input shapes do not overlap raster.\n",
      " Skipping geometry 14922: Input shapes do not overlap raster.\n",
      " Skipping geometry 14923: Input shapes do not overlap raster.\n"
     ]
    },
    {
     "name": "stderr",
     "output_type": "stream",
     "text": [
      "Computing zonal stats:  44%|████▍     | 131/295 [2:55:28<3:57:39, 86.95s/it]"
     ]
    },
    {
     "name": "stdout",
     "output_type": "stream",
     "text": [
      " Skipping geometry 6920: Input shapes do not overlap raster.\n",
      " Skipping geometry 6921: Input shapes do not overlap raster.\n",
      " Skipping geometry 6922: Input shapes do not overlap raster.\n",
      " Skipping geometry 9528: Input shapes do not overlap raster.\n",
      " Skipping geometry 14921: Input shapes do not overlap raster.\n",
      " Skipping geometry 14922: Input shapes do not overlap raster.\n",
      " Skipping geometry 14923: Input shapes do not overlap raster.\n"
     ]
    },
    {
     "name": "stderr",
     "output_type": "stream",
     "text": [
      "Computing zonal stats:  45%|████▍     | 132/295 [2:56:50<3:51:42, 85.29s/it]"
     ]
    },
    {
     "name": "stdout",
     "output_type": "stream",
     "text": [
      " Skipping geometry 6920: Input shapes do not overlap raster.\n",
      " Skipping geometry 6921: Input shapes do not overlap raster.\n",
      " Skipping geometry 6922: Input shapes do not overlap raster.\n",
      " Skipping geometry 9528: Input shapes do not overlap raster.\n",
      " Skipping geometry 14921: Input shapes do not overlap raster.\n",
      " Skipping geometry 14922: Input shapes do not overlap raster.\n",
      " Skipping geometry 14923: Input shapes do not overlap raster.\n"
     ]
    },
    {
     "name": "stderr",
     "output_type": "stream",
     "text": [
      "Computing zonal stats:  45%|████▌     | 133/295 [2:58:13<3:48:24, 84.60s/it]"
     ]
    },
    {
     "name": "stdout",
     "output_type": "stream",
     "text": [
      " Skipping geometry 6920: Input shapes do not overlap raster.\n",
      " Skipping geometry 6921: Input shapes do not overlap raster.\n",
      " Skipping geometry 6922: Input shapes do not overlap raster.\n",
      " Skipping geometry 9528: Input shapes do not overlap raster.\n",
      " Skipping geometry 14921: Input shapes do not overlap raster.\n",
      " Skipping geometry 14922: Input shapes do not overlap raster.\n",
      " Skipping geometry 14923: Input shapes do not overlap raster.\n"
     ]
    },
    {
     "name": "stderr",
     "output_type": "stream",
     "text": [
      "Computing zonal stats:  45%|████▌     | 134/295 [2:59:40<3:49:34, 85.55s/it]"
     ]
    },
    {
     "name": "stdout",
     "output_type": "stream",
     "text": [
      " Skipping geometry 6920: Input shapes do not overlap raster.\n",
      " Skipping geometry 6921: Input shapes do not overlap raster.\n",
      " Skipping geometry 6922: Input shapes do not overlap raster.\n",
      " Skipping geometry 9528: Input shapes do not overlap raster.\n",
      " Skipping geometry 14921: Input shapes do not overlap raster.\n",
      " Skipping geometry 14922: Input shapes do not overlap raster.\n",
      " Skipping geometry 14923: Input shapes do not overlap raster.\n"
     ]
    },
    {
     "name": "stderr",
     "output_type": "stream",
     "text": [
      "Computing zonal stats:  46%|████▌     | 135/295 [3:01:23<4:01:39, 90.62s/it]"
     ]
    },
    {
     "name": "stdout",
     "output_type": "stream",
     "text": [
      " Skipping geometry 6920: Input shapes do not overlap raster.\n",
      " Skipping geometry 6921: Input shapes do not overlap raster.\n",
      " Skipping geometry 6922: Input shapes do not overlap raster.\n",
      " Skipping geometry 9528: Input shapes do not overlap raster.\n",
      " Skipping geometry 14921: Input shapes do not overlap raster.\n",
      " Skipping geometry 14922: Input shapes do not overlap raster.\n",
      " Skipping geometry 14923: Input shapes do not overlap raster.\n"
     ]
    },
    {
     "name": "stderr",
     "output_type": "stream",
     "text": [
      "Computing zonal stats:  46%|████▌     | 136/295 [3:02:51<3:58:24, 89.96s/it]"
     ]
    },
    {
     "name": "stdout",
     "output_type": "stream",
     "text": [
      " Skipping geometry 6920: Input shapes do not overlap raster.\n",
      " Skipping geometry 6921: Input shapes do not overlap raster.\n",
      " Skipping geometry 6922: Input shapes do not overlap raster.\n",
      " Skipping geometry 9528: Input shapes do not overlap raster.\n",
      " Skipping geometry 14921: Input shapes do not overlap raster.\n",
      " Skipping geometry 14922: Input shapes do not overlap raster.\n",
      " Skipping geometry 14923: Input shapes do not overlap raster.\n"
     ]
    },
    {
     "name": "stderr",
     "output_type": "stream",
     "text": [
      "Computing zonal stats:  46%|████▋     | 137/295 [3:04:21<3:56:27, 89.80s/it]"
     ]
    },
    {
     "name": "stdout",
     "output_type": "stream",
     "text": [
      " Skipping geometry 6920: Input shapes do not overlap raster.\n",
      " Skipping geometry 6921: Input shapes do not overlap raster.\n",
      " Skipping geometry 6922: Input shapes do not overlap raster.\n",
      " Skipping geometry 9528: Input shapes do not overlap raster.\n",
      " Skipping geometry 14921: Input shapes do not overlap raster.\n",
      " Skipping geometry 14922: Input shapes do not overlap raster.\n",
      " Skipping geometry 14923: Input shapes do not overlap raster.\n"
     ]
    },
    {
     "name": "stderr",
     "output_type": "stream",
     "text": [
      "Computing zonal stats:  47%|████▋     | 138/295 [3:05:41<3:47:21, 86.89s/it]"
     ]
    },
    {
     "name": "stdout",
     "output_type": "stream",
     "text": [
      " Skipping geometry 6920: Input shapes do not overlap raster.\n",
      " Skipping geometry 6921: Input shapes do not overlap raster.\n",
      " Skipping geometry 6922: Input shapes do not overlap raster.\n",
      " Skipping geometry 9528: Input shapes do not overlap raster.\n",
      " Skipping geometry 14921: Input shapes do not overlap raster.\n",
      " Skipping geometry 14922: Input shapes do not overlap raster.\n",
      " Skipping geometry 14923: Input shapes do not overlap raster.\n"
     ]
    },
    {
     "name": "stderr",
     "output_type": "stream",
     "text": [
      "Computing zonal stats:  47%|████▋     | 139/295 [3:07:00<3:39:32, 84.44s/it]"
     ]
    },
    {
     "name": "stdout",
     "output_type": "stream",
     "text": [
      " Skipping geometry 6920: Input shapes do not overlap raster.\n",
      " Skipping geometry 6921: Input shapes do not overlap raster.\n",
      " Skipping geometry 6922: Input shapes do not overlap raster.\n",
      " Skipping geometry 9528: Input shapes do not overlap raster.\n",
      " Skipping geometry 14921: Input shapes do not overlap raster.\n",
      " Skipping geometry 14922: Input shapes do not overlap raster.\n",
      " Skipping geometry 14923: Input shapes do not overlap raster.\n"
     ]
    },
    {
     "name": "stderr",
     "output_type": "stream",
     "text": [
      "Computing zonal stats:  47%|████▋     | 140/295 [3:08:19<3:34:36, 83.07s/it]"
     ]
    },
    {
     "name": "stdout",
     "output_type": "stream",
     "text": [
      " Skipping geometry 6920: Input shapes do not overlap raster.\n",
      " Skipping geometry 6921: Input shapes do not overlap raster.\n",
      " Skipping geometry 6922: Input shapes do not overlap raster.\n",
      " Skipping geometry 9528: Input shapes do not overlap raster.\n",
      " Skipping geometry 14921: Input shapes do not overlap raster.\n",
      " Skipping geometry 14922: Input shapes do not overlap raster.\n",
      " Skipping geometry 14923: Input shapes do not overlap raster.\n"
     ]
    },
    {
     "name": "stderr",
     "output_type": "stream",
     "text": [
      "Computing zonal stats:  48%|████▊     | 141/295 [3:09:59<3:45:35, 87.89s/it]"
     ]
    },
    {
     "name": "stdout",
     "output_type": "stream",
     "text": [
      " Skipping geometry 6920: Input shapes do not overlap raster.\n",
      " Skipping geometry 6921: Input shapes do not overlap raster.\n",
      " Skipping geometry 6922: Input shapes do not overlap raster.\n",
      " Skipping geometry 9528: Input shapes do not overlap raster.\n",
      " Skipping geometry 14921: Input shapes do not overlap raster.\n",
      " Skipping geometry 14922: Input shapes do not overlap raster.\n",
      " Skipping geometry 14923: Input shapes do not overlap raster.\n"
     ]
    },
    {
     "name": "stderr",
     "output_type": "stream",
     "text": [
      "Computing zonal stats:  48%|████▊     | 142/295 [3:11:19<3:38:38, 85.74s/it]"
     ]
    },
    {
     "name": "stdout",
     "output_type": "stream",
     "text": [
      " Skipping geometry 6920: Input shapes do not overlap raster.\n",
      " Skipping geometry 6921: Input shapes do not overlap raster.\n",
      " Skipping geometry 6922: Input shapes do not overlap raster.\n",
      " Skipping geometry 9528: Input shapes do not overlap raster.\n",
      " Skipping geometry 14921: Input shapes do not overlap raster.\n",
      " Skipping geometry 14922: Input shapes do not overlap raster.\n",
      " Skipping geometry 14923: Input shapes do not overlap raster.\n"
     ]
    },
    {
     "name": "stderr",
     "output_type": "stream",
     "text": [
      "Computing zonal stats:  48%|████▊     | 143/295 [3:12:41<3:33:53, 84.43s/it]"
     ]
    },
    {
     "name": "stdout",
     "output_type": "stream",
     "text": [
      " Skipping geometry 6920: Input shapes do not overlap raster.\n",
      " Skipping geometry 6921: Input shapes do not overlap raster.\n",
      " Skipping geometry 6922: Input shapes do not overlap raster.\n",
      " Skipping geometry 9528: Input shapes do not overlap raster.\n",
      " Skipping geometry 14921: Input shapes do not overlap raster.\n",
      " Skipping geometry 14922: Input shapes do not overlap raster.\n",
      " Skipping geometry 14923: Input shapes do not overlap raster.\n"
     ]
    },
    {
     "name": "stderr",
     "output_type": "stream",
     "text": [
      "Computing zonal stats:  49%|████▉     | 144/295 [3:14:00<3:28:58, 83.04s/it]"
     ]
    },
    {
     "name": "stdout",
     "output_type": "stream",
     "text": [
      " Skipping geometry 6920: Input shapes do not overlap raster.\n",
      " Skipping geometry 6921: Input shapes do not overlap raster.\n",
      " Skipping geometry 6922: Input shapes do not overlap raster.\n",
      " Skipping geometry 9528: Input shapes do not overlap raster.\n",
      " Skipping geometry 14921: Input shapes do not overlap raster.\n",
      " Skipping geometry 14922: Input shapes do not overlap raster.\n",
      " Skipping geometry 14923: Input shapes do not overlap raster.\n"
     ]
    },
    {
     "name": "stderr",
     "output_type": "stream",
     "text": [
      "Computing zonal stats:  49%|████▉     | 145/295 [3:15:23<3:27:13, 82.89s/it]"
     ]
    },
    {
     "name": "stdout",
     "output_type": "stream",
     "text": [
      " Skipping geometry 6920: Input shapes do not overlap raster.\n",
      " Skipping geometry 6921: Input shapes do not overlap raster.\n",
      " Skipping geometry 6922: Input shapes do not overlap raster.\n",
      " Skipping geometry 9528: Input shapes do not overlap raster.\n",
      " Skipping geometry 14921: Input shapes do not overlap raster.\n",
      " Skipping geometry 14922: Input shapes do not overlap raster.\n",
      " Skipping geometry 14923: Input shapes do not overlap raster.\n"
     ]
    },
    {
     "name": "stderr",
     "output_type": "stream",
     "text": [
      "Computing zonal stats:  49%|████▉     | 146/295 [3:16:44<3:24:38, 82.41s/it]"
     ]
    },
    {
     "name": "stdout",
     "output_type": "stream",
     "text": [
      " Skipping geometry 6920: Input shapes do not overlap raster.\n",
      " Skipping geometry 6921: Input shapes do not overlap raster.\n",
      " Skipping geometry 6922: Input shapes do not overlap raster.\n",
      " Skipping geometry 9528: Input shapes do not overlap raster.\n",
      " Skipping geometry 14921: Input shapes do not overlap raster.\n",
      " Skipping geometry 14922: Input shapes do not overlap raster.\n",
      " Skipping geometry 14923: Input shapes do not overlap raster.\n"
     ]
    },
    {
     "name": "stderr",
     "output_type": "stream",
     "text": [
      "Computing zonal stats:  50%|████▉     | 147/295 [3:18:07<3:23:20, 82.44s/it]"
     ]
    },
    {
     "name": "stdout",
     "output_type": "stream",
     "text": [
      " Skipping geometry 6920: Input shapes do not overlap raster.\n",
      " Skipping geometry 6921: Input shapes do not overlap raster.\n",
      " Skipping geometry 6922: Input shapes do not overlap raster.\n",
      " Skipping geometry 9528: Input shapes do not overlap raster.\n",
      " Skipping geometry 14921: Input shapes do not overlap raster.\n",
      " Skipping geometry 14922: Input shapes do not overlap raster.\n",
      " Skipping geometry 14923: Input shapes do not overlap raster.\n"
     ]
    },
    {
     "name": "stderr",
     "output_type": "stream",
     "text": [
      "Computing zonal stats:  50%|█████     | 148/295 [3:19:30<3:22:33, 82.68s/it]"
     ]
    },
    {
     "name": "stdout",
     "output_type": "stream",
     "text": [
      " Skipping geometry 6920: Input shapes do not overlap raster.\n",
      " Skipping geometry 6921: Input shapes do not overlap raster.\n",
      " Skipping geometry 6922: Input shapes do not overlap raster.\n",
      " Skipping geometry 9528: Input shapes do not overlap raster.\n",
      " Skipping geometry 14921: Input shapes do not overlap raster.\n",
      " Skipping geometry 14922: Input shapes do not overlap raster.\n",
      " Skipping geometry 14923: Input shapes do not overlap raster.\n"
     ]
    },
    {
     "name": "stderr",
     "output_type": "stream",
     "text": [
      "Computing zonal stats:  51%|█████     | 149/295 [3:20:51<3:19:46, 82.10s/it]"
     ]
    },
    {
     "name": "stdout",
     "output_type": "stream",
     "text": [
      " Skipping geometry 6920: Input shapes do not overlap raster.\n",
      " Skipping geometry 6921: Input shapes do not overlap raster.\n",
      " Skipping geometry 6922: Input shapes do not overlap raster.\n",
      " Skipping geometry 9528: Input shapes do not overlap raster.\n",
      " Skipping geometry 14921: Input shapes do not overlap raster.\n",
      " Skipping geometry 14922: Input shapes do not overlap raster.\n",
      " Skipping geometry 14923: Input shapes do not overlap raster.\n"
     ]
    },
    {
     "name": "stderr",
     "output_type": "stream",
     "text": [
      "Computing zonal stats:  51%|█████     | 150/295 [3:22:14<3:19:04, 82.38s/it]"
     ]
    },
    {
     "name": "stdout",
     "output_type": "stream",
     "text": [
      " Skipping geometry 6920: Input shapes do not overlap raster.\n",
      " Skipping geometry 6921: Input shapes do not overlap raster.\n",
      " Skipping geometry 6922: Input shapes do not overlap raster.\n",
      " Skipping geometry 9528: Input shapes do not overlap raster.\n",
      " Skipping geometry 14921: Input shapes do not overlap raster.\n",
      " Skipping geometry 14922: Input shapes do not overlap raster.\n",
      " Skipping geometry 14923: Input shapes do not overlap raster.\n"
     ]
    },
    {
     "name": "stderr",
     "output_type": "stream",
     "text": [
      "Computing zonal stats:  51%|█████     | 151/295 [3:23:35<3:17:00, 82.09s/it]"
     ]
    },
    {
     "name": "stdout",
     "output_type": "stream",
     "text": [
      " Skipping geometry 6920: Input shapes do not overlap raster.\n",
      " Skipping geometry 6921: Input shapes do not overlap raster.\n",
      " Skipping geometry 6922: Input shapes do not overlap raster.\n",
      " Skipping geometry 9528: Input shapes do not overlap raster.\n",
      " Skipping geometry 14921: Input shapes do not overlap raster.\n",
      " Skipping geometry 14922: Input shapes do not overlap raster.\n",
      " Skipping geometry 14923: Input shapes do not overlap raster.\n"
     ]
    },
    {
     "name": "stderr",
     "output_type": "stream",
     "text": [
      "Computing zonal stats:  52%|█████▏    | 152/295 [3:25:02<3:19:15, 83.61s/it]"
     ]
    },
    {
     "name": "stdout",
     "output_type": "stream",
     "text": [
      " Skipping geometry 6920: Input shapes do not overlap raster.\n",
      " Skipping geometry 6921: Input shapes do not overlap raster.\n",
      " Skipping geometry 6922: Input shapes do not overlap raster.\n",
      " Skipping geometry 9528: Input shapes do not overlap raster.\n",
      " Skipping geometry 14921: Input shapes do not overlap raster.\n",
      " Skipping geometry 14922: Input shapes do not overlap raster.\n",
      " Skipping geometry 14923: Input shapes do not overlap raster.\n"
     ]
    },
    {
     "name": "stderr",
     "output_type": "stream",
     "text": [
      "Computing zonal stats:  52%|█████▏    | 153/295 [3:26:19<3:12:51, 81.49s/it]"
     ]
    },
    {
     "name": "stdout",
     "output_type": "stream",
     "text": [
      " Skipping geometry 6920: Input shapes do not overlap raster.\n",
      " Skipping geometry 6921: Input shapes do not overlap raster.\n",
      " Skipping geometry 6922: Input shapes do not overlap raster.\n",
      " Skipping geometry 9528: Input shapes do not overlap raster.\n",
      " Skipping geometry 14921: Input shapes do not overlap raster.\n",
      " Skipping geometry 14922: Input shapes do not overlap raster.\n",
      " Skipping geometry 14923: Input shapes do not overlap raster.\n"
     ]
    },
    {
     "name": "stderr",
     "output_type": "stream",
     "text": [
      "Computing zonal stats:  52%|█████▏    | 154/295 [3:27:51<3:19:06, 84.73s/it]"
     ]
    },
    {
     "name": "stdout",
     "output_type": "stream",
     "text": [
      " Skipping geometry 6920: Input shapes do not overlap raster.\n",
      " Skipping geometry 6921: Input shapes do not overlap raster.\n",
      " Skipping geometry 6922: Input shapes do not overlap raster.\n",
      " Skipping geometry 9528: Input shapes do not overlap raster.\n",
      " Skipping geometry 14921: Input shapes do not overlap raster.\n",
      " Skipping geometry 14922: Input shapes do not overlap raster.\n",
      " Skipping geometry 14923: Input shapes do not overlap raster.\n"
     ]
    },
    {
     "name": "stderr",
     "output_type": "stream",
     "text": [
      "Computing zonal stats:  53%|█████▎    | 155/295 [3:29:15<3:17:21, 84.58s/it]"
     ]
    },
    {
     "name": "stdout",
     "output_type": "stream",
     "text": [
      " Skipping geometry 6920: Input shapes do not overlap raster.\n",
      " Skipping geometry 6921: Input shapes do not overlap raster.\n",
      " Skipping geometry 6922: Input shapes do not overlap raster.\n",
      " Skipping geometry 9528: Input shapes do not overlap raster.\n",
      " Skipping geometry 14921: Input shapes do not overlap raster.\n",
      " Skipping geometry 14922: Input shapes do not overlap raster.\n",
      " Skipping geometry 14923: Input shapes do not overlap raster.\n"
     ]
    },
    {
     "name": "stderr",
     "output_type": "stream",
     "text": [
      "Computing zonal stats:  53%|█████▎    | 156/295 [3:30:37<3:13:28, 83.52s/it]"
     ]
    },
    {
     "name": "stdout",
     "output_type": "stream",
     "text": [
      " Skipping geometry 6920: Input shapes do not overlap raster.\n",
      " Skipping geometry 6921: Input shapes do not overlap raster.\n",
      " Skipping geometry 6922: Input shapes do not overlap raster.\n",
      " Skipping geometry 9528: Input shapes do not overlap raster.\n",
      " Skipping geometry 14921: Input shapes do not overlap raster.\n",
      " Skipping geometry 14922: Input shapes do not overlap raster.\n",
      " Skipping geometry 14923: Input shapes do not overlap raster.\n"
     ]
    },
    {
     "name": "stderr",
     "output_type": "stream",
     "text": [
      "Computing zonal stats:  53%|█████▎    | 157/295 [3:31:54<3:08:01, 81.75s/it]"
     ]
    },
    {
     "name": "stdout",
     "output_type": "stream",
     "text": [
      " Skipping geometry 6920: Input shapes do not overlap raster.\n",
      " Skipping geometry 6921: Input shapes do not overlap raster.\n",
      " Skipping geometry 6922: Input shapes do not overlap raster.\n",
      " Skipping geometry 9528: Input shapes do not overlap raster.\n",
      " Skipping geometry 14921: Input shapes do not overlap raster.\n",
      " Skipping geometry 14922: Input shapes do not overlap raster.\n",
      " Skipping geometry 14923: Input shapes do not overlap raster.\n"
     ]
    },
    {
     "name": "stderr",
     "output_type": "stream",
     "text": [
      "Computing zonal stats:  54%|█████▎    | 158/295 [3:33:11<3:03:04, 80.18s/it]"
     ]
    },
    {
     "name": "stdout",
     "output_type": "stream",
     "text": [
      " Skipping geometry 6920: Input shapes do not overlap raster.\n",
      " Skipping geometry 6921: Input shapes do not overlap raster.\n",
      " Skipping geometry 6922: Input shapes do not overlap raster.\n",
      " Skipping geometry 9528: Input shapes do not overlap raster.\n",
      " Skipping geometry 14921: Input shapes do not overlap raster.\n",
      " Skipping geometry 14922: Input shapes do not overlap raster.\n",
      " Skipping geometry 14923: Input shapes do not overlap raster.\n"
     ]
    },
    {
     "name": "stderr",
     "output_type": "stream",
     "text": [
      "Computing zonal stats:  54%|█████▍    | 159/295 [3:34:28<2:59:33, 79.22s/it]"
     ]
    },
    {
     "name": "stdout",
     "output_type": "stream",
     "text": [
      " Skipping geometry 6920: Input shapes do not overlap raster.\n",
      " Skipping geometry 6921: Input shapes do not overlap raster.\n",
      " Skipping geometry 6922: Input shapes do not overlap raster.\n",
      " Skipping geometry 9528: Input shapes do not overlap raster.\n",
      " Skipping geometry 14921: Input shapes do not overlap raster.\n",
      " Skipping geometry 14922: Input shapes do not overlap raster.\n",
      " Skipping geometry 14923: Input shapes do not overlap raster.\n"
     ]
    },
    {
     "name": "stderr",
     "output_type": "stream",
     "text": [
      "Computing zonal stats:  54%|█████▍    | 160/295 [3:35:46<2:57:34, 78.92s/it]"
     ]
    },
    {
     "name": "stdout",
     "output_type": "stream",
     "text": [
      " Skipping geometry 6920: Input shapes do not overlap raster.\n",
      " Skipping geometry 6921: Input shapes do not overlap raster.\n",
      " Skipping geometry 6922: Input shapes do not overlap raster.\n",
      " Skipping geometry 9528: Input shapes do not overlap raster.\n",
      " Skipping geometry 14921: Input shapes do not overlap raster.\n",
      " Skipping geometry 14922: Input shapes do not overlap raster.\n",
      " Skipping geometry 14923: Input shapes do not overlap raster.\n"
     ]
    },
    {
     "name": "stderr",
     "output_type": "stream",
     "text": [
      "Computing zonal stats:  55%|█████▍    | 161/295 [3:37:06<2:57:15, 79.37s/it]"
     ]
    },
    {
     "name": "stdout",
     "output_type": "stream",
     "text": [
      " Skipping geometry 6920: Input shapes do not overlap raster.\n",
      " Skipping geometry 6921: Input shapes do not overlap raster.\n",
      " Skipping geometry 6922: Input shapes do not overlap raster.\n",
      " Skipping geometry 9528: Input shapes do not overlap raster.\n",
      " Skipping geometry 14921: Input shapes do not overlap raster.\n",
      " Skipping geometry 14922: Input shapes do not overlap raster.\n",
      " Skipping geometry 14923: Input shapes do not overlap raster.\n"
     ]
    },
    {
     "name": "stderr",
     "output_type": "stream",
     "text": [
      "Computing zonal stats:  55%|█████▍    | 162/295 [3:38:33<3:00:53, 81.61s/it]"
     ]
    },
    {
     "name": "stdout",
     "output_type": "stream",
     "text": [
      " Skipping geometry 6920: Input shapes do not overlap raster.\n",
      " Skipping geometry 6921: Input shapes do not overlap raster.\n",
      " Skipping geometry 6922: Input shapes do not overlap raster.\n",
      " Skipping geometry 9528: Input shapes do not overlap raster.\n",
      " Skipping geometry 14921: Input shapes do not overlap raster.\n",
      " Skipping geometry 14922: Input shapes do not overlap raster.\n",
      " Skipping geometry 14923: Input shapes do not overlap raster.\n"
     ]
    },
    {
     "name": "stderr",
     "output_type": "stream",
     "text": [
      "Computing zonal stats:  55%|█████▌    | 163/295 [3:40:48<3:34:35, 97.54s/it]"
     ]
    },
    {
     "name": "stdout",
     "output_type": "stream",
     "text": [
      " Skipping geometry 6920: Input shapes do not overlap raster.\n",
      " Skipping geometry 6921: Input shapes do not overlap raster.\n",
      " Skipping geometry 6922: Input shapes do not overlap raster.\n",
      " Skipping geometry 9528: Input shapes do not overlap raster.\n",
      " Skipping geometry 14921: Input shapes do not overlap raster.\n",
      " Skipping geometry 14922: Input shapes do not overlap raster.\n",
      " Skipping geometry 14923: Input shapes do not overlap raster.\n"
     ]
    },
    {
     "name": "stderr",
     "output_type": "stream",
     "text": [
      "Computing zonal stats:  56%|█████▌    | 164/295 [3:42:08<3:21:50, 92.45s/it]"
     ]
    },
    {
     "name": "stdout",
     "output_type": "stream",
     "text": [
      " Skipping geometry 6920: Input shapes do not overlap raster.\n",
      " Skipping geometry 6921: Input shapes do not overlap raster.\n",
      " Skipping geometry 6922: Input shapes do not overlap raster.\n",
      " Skipping geometry 9528: Input shapes do not overlap raster.\n",
      " Skipping geometry 14921: Input shapes do not overlap raster.\n",
      " Skipping geometry 14922: Input shapes do not overlap raster.\n",
      " Skipping geometry 14923: Input shapes do not overlap raster.\n"
     ]
    },
    {
     "name": "stderr",
     "output_type": "stream",
     "text": [
      "Computing zonal stats:  56%|█████▌    | 165/295 [3:43:29<3:12:55, 89.04s/it]"
     ]
    },
    {
     "name": "stdout",
     "output_type": "stream",
     "text": [
      " Skipping geometry 6920: Input shapes do not overlap raster.\n",
      " Skipping geometry 6921: Input shapes do not overlap raster.\n",
      " Skipping geometry 6922: Input shapes do not overlap raster.\n",
      " Skipping geometry 9528: Input shapes do not overlap raster.\n",
      " Skipping geometry 14921: Input shapes do not overlap raster.\n",
      " Skipping geometry 14922: Input shapes do not overlap raster.\n",
      " Skipping geometry 14923: Input shapes do not overlap raster.\n"
     ]
    },
    {
     "name": "stderr",
     "output_type": "stream",
     "text": [
      "Computing zonal stats:  56%|█████▋    | 166/295 [3:44:57<3:10:11, 88.46s/it]"
     ]
    },
    {
     "name": "stdout",
     "output_type": "stream",
     "text": [
      " Skipping geometry 6920: Input shapes do not overlap raster.\n",
      " Skipping geometry 6921: Input shapes do not overlap raster.\n",
      " Skipping geometry 6922: Input shapes do not overlap raster.\n",
      " Skipping geometry 9528: Input shapes do not overlap raster.\n",
      " Skipping geometry 14921: Input shapes do not overlap raster.\n",
      " Skipping geometry 14922: Input shapes do not overlap raster.\n",
      " Skipping geometry 14923: Input shapes do not overlap raster.\n"
     ]
    },
    {
     "name": "stderr",
     "output_type": "stream",
     "text": [
      "Computing zonal stats:  57%|█████▋    | 167/295 [3:46:20<3:05:39, 87.03s/it]"
     ]
    },
    {
     "name": "stdout",
     "output_type": "stream",
     "text": [
      " Skipping geometry 6920: Input shapes do not overlap raster.\n",
      " Skipping geometry 6921: Input shapes do not overlap raster.\n",
      " Skipping geometry 6922: Input shapes do not overlap raster.\n",
      " Skipping geometry 9528: Input shapes do not overlap raster.\n",
      " Skipping geometry 14921: Input shapes do not overlap raster.\n",
      " Skipping geometry 14922: Input shapes do not overlap raster.\n",
      " Skipping geometry 14923: Input shapes do not overlap raster.\n"
     ]
    },
    {
     "name": "stderr",
     "output_type": "stream",
     "text": [
      "Computing zonal stats:  57%|█████▋    | 168/295 [3:47:42<3:00:37, 85.33s/it]"
     ]
    },
    {
     "name": "stdout",
     "output_type": "stream",
     "text": [
      " Skipping geometry 6920: Input shapes do not overlap raster.\n",
      " Skipping geometry 6921: Input shapes do not overlap raster.\n",
      " Skipping geometry 6922: Input shapes do not overlap raster.\n",
      " Skipping geometry 9528: Input shapes do not overlap raster.\n",
      " Skipping geometry 14921: Input shapes do not overlap raster.\n",
      " Skipping geometry 14922: Input shapes do not overlap raster.\n",
      " Skipping geometry 14923: Input shapes do not overlap raster.\n"
     ]
    },
    {
     "name": "stderr",
     "output_type": "stream",
     "text": [
      "Computing zonal stats:  57%|█████▋    | 169/295 [3:49:04<2:57:05, 84.33s/it]"
     ]
    },
    {
     "name": "stdout",
     "output_type": "stream",
     "text": [
      " Skipping geometry 6920: Input shapes do not overlap raster.\n",
      " Skipping geometry 6921: Input shapes do not overlap raster.\n",
      " Skipping geometry 6922: Input shapes do not overlap raster.\n",
      " Skipping geometry 9528: Input shapes do not overlap raster.\n",
      " Skipping geometry 14921: Input shapes do not overlap raster.\n",
      " Skipping geometry 14922: Input shapes do not overlap raster.\n",
      " Skipping geometry 14923: Input shapes do not overlap raster.\n"
     ]
    },
    {
     "name": "stderr",
     "output_type": "stream",
     "text": [
      "Computing zonal stats:  58%|█████▊    | 170/295 [3:50:30<2:57:09, 85.03s/it]"
     ]
    },
    {
     "name": "stdout",
     "output_type": "stream",
     "text": [
      " Skipping geometry 6920: Input shapes do not overlap raster.\n",
      " Skipping geometry 6921: Input shapes do not overlap raster.\n",
      " Skipping geometry 6922: Input shapes do not overlap raster.\n",
      " Skipping geometry 9528: Input shapes do not overlap raster.\n",
      " Skipping geometry 14921: Input shapes do not overlap raster.\n",
      " Skipping geometry 14922: Input shapes do not overlap raster.\n",
      " Skipping geometry 14923: Input shapes do not overlap raster.\n"
     ]
    },
    {
     "name": "stderr",
     "output_type": "stream",
     "text": [
      "Computing zonal stats:  58%|█████▊    | 171/295 [3:51:51<2:52:50, 83.64s/it]"
     ]
    },
    {
     "name": "stdout",
     "output_type": "stream",
     "text": [
      " Skipping geometry 6920: Input shapes do not overlap raster.\n",
      " Skipping geometry 6921: Input shapes do not overlap raster.\n",
      " Skipping geometry 6922: Input shapes do not overlap raster.\n",
      " Skipping geometry 9528: Input shapes do not overlap raster.\n",
      " Skipping geometry 14921: Input shapes do not overlap raster.\n",
      " Skipping geometry 14922: Input shapes do not overlap raster.\n",
      " Skipping geometry 14923: Input shapes do not overlap raster.\n"
     ]
    },
    {
     "name": "stderr",
     "output_type": "stream",
     "text": [
      "Computing zonal stats:  58%|█████▊    | 172/295 [3:53:12<2:49:43, 82.79s/it]"
     ]
    },
    {
     "name": "stdout",
     "output_type": "stream",
     "text": [
      " Skipping geometry 6920: Input shapes do not overlap raster.\n",
      " Skipping geometry 6921: Input shapes do not overlap raster.\n",
      " Skipping geometry 6922: Input shapes do not overlap raster.\n",
      " Skipping geometry 9528: Input shapes do not overlap raster.\n",
      " Skipping geometry 14921: Input shapes do not overlap raster.\n",
      " Skipping geometry 14922: Input shapes do not overlap raster.\n",
      " Skipping geometry 14923: Input shapes do not overlap raster.\n"
     ]
    },
    {
     "name": "stderr",
     "output_type": "stream",
     "text": [
      "Computing zonal stats:  59%|█████▊    | 173/295 [3:54:34<2:48:11, 82.72s/it]"
     ]
    },
    {
     "name": "stdout",
     "output_type": "stream",
     "text": [
      " Skipping geometry 6920: Input shapes do not overlap raster.\n",
      " Skipping geometry 6921: Input shapes do not overlap raster.\n",
      " Skipping geometry 6922: Input shapes do not overlap raster.\n",
      " Skipping geometry 9528: Input shapes do not overlap raster.\n",
      " Skipping geometry 14921: Input shapes do not overlap raster.\n",
      " Skipping geometry 14922: Input shapes do not overlap raster.\n",
      " Skipping geometry 14923: Input shapes do not overlap raster.\n"
     ]
    },
    {
     "name": "stderr",
     "output_type": "stream",
     "text": [
      "Computing zonal stats:  59%|█████▉    | 174/295 [3:55:58<2:47:32, 83.08s/it]"
     ]
    },
    {
     "name": "stdout",
     "output_type": "stream",
     "text": [
      " Skipping geometry 6920: Input shapes do not overlap raster.\n",
      " Skipping geometry 6921: Input shapes do not overlap raster.\n",
      " Skipping geometry 6922: Input shapes do not overlap raster.\n",
      " Skipping geometry 9528: Input shapes do not overlap raster.\n",
      " Skipping geometry 14921: Input shapes do not overlap raster.\n",
      " Skipping geometry 14922: Input shapes do not overlap raster.\n",
      " Skipping geometry 14923: Input shapes do not overlap raster.\n"
     ]
    },
    {
     "name": "stderr",
     "output_type": "stream",
     "text": [
      "Computing zonal stats:  59%|█████▉    | 175/295 [3:57:20<2:45:45, 82.88s/it]"
     ]
    },
    {
     "name": "stdout",
     "output_type": "stream",
     "text": [
      " Skipping geometry 6920: Input shapes do not overlap raster.\n",
      " Skipping geometry 6921: Input shapes do not overlap raster.\n",
      " Skipping geometry 6922: Input shapes do not overlap raster.\n",
      " Skipping geometry 9528: Input shapes do not overlap raster.\n",
      " Skipping geometry 14921: Input shapes do not overlap raster.\n",
      " Skipping geometry 14922: Input shapes do not overlap raster.\n",
      " Skipping geometry 14923: Input shapes do not overlap raster.\n"
     ]
    },
    {
     "name": "stderr",
     "output_type": "stream",
     "text": [
      "Computing zonal stats:  60%|█████▉    | 176/295 [3:58:42<2:43:36, 82.49s/it]"
     ]
    },
    {
     "name": "stdout",
     "output_type": "stream",
     "text": [
      " Skipping geometry 6920: Input shapes do not overlap raster.\n",
      " Skipping geometry 6921: Input shapes do not overlap raster.\n",
      " Skipping geometry 6922: Input shapes do not overlap raster.\n",
      " Skipping geometry 9528: Input shapes do not overlap raster.\n",
      " Skipping geometry 14921: Input shapes do not overlap raster.\n",
      " Skipping geometry 14922: Input shapes do not overlap raster.\n",
      " Skipping geometry 14923: Input shapes do not overlap raster.\n"
     ]
    },
    {
     "name": "stderr",
     "output_type": "stream",
     "text": [
      "Computing zonal stats:  60%|██████    | 177/295 [4:00:08<2:44:15, 83.52s/it]"
     ]
    },
    {
     "name": "stdout",
     "output_type": "stream",
     "text": [
      " Skipping geometry 6920: Input shapes do not overlap raster.\n",
      " Skipping geometry 6921: Input shapes do not overlap raster.\n",
      " Skipping geometry 6922: Input shapes do not overlap raster.\n",
      " Skipping geometry 9528: Input shapes do not overlap raster.\n",
      " Skipping geometry 14921: Input shapes do not overlap raster.\n",
      " Skipping geometry 14922: Input shapes do not overlap raster.\n",
      " Skipping geometry 14923: Input shapes do not overlap raster.\n"
     ]
    },
    {
     "name": "stderr",
     "output_type": "stream",
     "text": [
      "Computing zonal stats:  60%|██████    | 178/295 [4:01:30<2:42:12, 83.19s/it]"
     ]
    },
    {
     "name": "stdout",
     "output_type": "stream",
     "text": [
      " Skipping geometry 6920: Input shapes do not overlap raster.\n",
      " Skipping geometry 6921: Input shapes do not overlap raster.\n",
      " Skipping geometry 6922: Input shapes do not overlap raster.\n",
      " Skipping geometry 9528: Input shapes do not overlap raster.\n",
      " Skipping geometry 14921: Input shapes do not overlap raster.\n",
      " Skipping geometry 14922: Input shapes do not overlap raster.\n",
      " Skipping geometry 14923: Input shapes do not overlap raster.\n"
     ]
    },
    {
     "name": "stderr",
     "output_type": "stream",
     "text": [
      "Computing zonal stats:  61%|██████    | 179/295 [4:02:57<2:43:03, 84.34s/it]"
     ]
    },
    {
     "name": "stdout",
     "output_type": "stream",
     "text": [
      " Skipping geometry 6920: Input shapes do not overlap raster.\n",
      " Skipping geometry 6921: Input shapes do not overlap raster.\n",
      " Skipping geometry 6922: Input shapes do not overlap raster.\n",
      " Skipping geometry 9528: Input shapes do not overlap raster.\n",
      " Skipping geometry 14921: Input shapes do not overlap raster.\n",
      " Skipping geometry 14922: Input shapes do not overlap raster.\n",
      " Skipping geometry 14923: Input shapes do not overlap raster.\n"
     ]
    },
    {
     "name": "stderr",
     "output_type": "stream",
     "text": [
      "Computing zonal stats:  61%|██████    | 180/295 [4:04:13<2:36:29, 81.64s/it]"
     ]
    },
    {
     "name": "stdout",
     "output_type": "stream",
     "text": [
      " Skipping geometry 6920: Input shapes do not overlap raster.\n",
      " Skipping geometry 6921: Input shapes do not overlap raster.\n",
      " Skipping geometry 6922: Input shapes do not overlap raster.\n",
      " Skipping geometry 9528: Input shapes do not overlap raster.\n",
      " Skipping geometry 14921: Input shapes do not overlap raster.\n",
      " Skipping geometry 14922: Input shapes do not overlap raster.\n",
      " Skipping geometry 14923: Input shapes do not overlap raster.\n"
     ]
    },
    {
     "name": "stderr",
     "output_type": "stream",
     "text": [
      "Computing zonal stats:  61%|██████▏   | 181/295 [4:05:33<2:34:10, 81.15s/it]"
     ]
    },
    {
     "name": "stdout",
     "output_type": "stream",
     "text": [
      " Skipping geometry 6920: Input shapes do not overlap raster.\n",
      " Skipping geometry 6921: Input shapes do not overlap raster.\n",
      " Skipping geometry 6922: Input shapes do not overlap raster.\n",
      " Skipping geometry 9528: Input shapes do not overlap raster.\n",
      " Skipping geometry 14921: Input shapes do not overlap raster.\n",
      " Skipping geometry 14922: Input shapes do not overlap raster.\n",
      " Skipping geometry 14923: Input shapes do not overlap raster.\n"
     ]
    },
    {
     "name": "stderr",
     "output_type": "stream",
     "text": [
      "Computing zonal stats:  62%|██████▏   | 182/295 [4:06:52<2:31:59, 80.70s/it]"
     ]
    },
    {
     "name": "stdout",
     "output_type": "stream",
     "text": [
      " Skipping geometry 6920: Input shapes do not overlap raster.\n",
      " Skipping geometry 6921: Input shapes do not overlap raster.\n",
      " Skipping geometry 6922: Input shapes do not overlap raster.\n",
      " Skipping geometry 9528: Input shapes do not overlap raster.\n",
      " Skipping geometry 14921: Input shapes do not overlap raster.\n",
      " Skipping geometry 14922: Input shapes do not overlap raster.\n",
      " Skipping geometry 14923: Input shapes do not overlap raster.\n"
     ]
    },
    {
     "name": "stderr",
     "output_type": "stream",
     "text": [
      "Computing zonal stats:  62%|██████▏   | 183/295 [4:08:12<2:29:53, 80.30s/it]"
     ]
    },
    {
     "name": "stdout",
     "output_type": "stream",
     "text": [
      " Skipping geometry 6920: Input shapes do not overlap raster.\n",
      " Skipping geometry 6921: Input shapes do not overlap raster.\n",
      " Skipping geometry 6922: Input shapes do not overlap raster.\n",
      " Skipping geometry 9528: Input shapes do not overlap raster.\n",
      " Skipping geometry 14921: Input shapes do not overlap raster.\n",
      " Skipping geometry 14922: Input shapes do not overlap raster.\n",
      " Skipping geometry 14923: Input shapes do not overlap raster.\n"
     ]
    },
    {
     "name": "stderr",
     "output_type": "stream",
     "text": [
      "Computing zonal stats:  62%|██████▏   | 184/295 [4:09:31<2:28:05, 80.05s/it]"
     ]
    },
    {
     "name": "stdout",
     "output_type": "stream",
     "text": [
      " Skipping geometry 6920: Input shapes do not overlap raster.\n",
      " Skipping geometry 6921: Input shapes do not overlap raster.\n",
      " Skipping geometry 6922: Input shapes do not overlap raster.\n",
      " Skipping geometry 9528: Input shapes do not overlap raster.\n",
      " Skipping geometry 14921: Input shapes do not overlap raster.\n",
      " Skipping geometry 14922: Input shapes do not overlap raster.\n",
      " Skipping geometry 14923: Input shapes do not overlap raster.\n"
     ]
    },
    {
     "name": "stderr",
     "output_type": "stream",
     "text": [
      "Computing zonal stats:  63%|██████▎   | 185/295 [4:10:53<2:27:37, 80.53s/it]"
     ]
    },
    {
     "name": "stdout",
     "output_type": "stream",
     "text": [
      " Skipping geometry 6920: Input shapes do not overlap raster.\n",
      " Skipping geometry 6921: Input shapes do not overlap raster.\n",
      " Skipping geometry 6922: Input shapes do not overlap raster.\n",
      " Skipping geometry 9528: Input shapes do not overlap raster.\n",
      " Skipping geometry 14921: Input shapes do not overlap raster.\n",
      " Skipping geometry 14922: Input shapes do not overlap raster.\n",
      " Skipping geometry 14923: Input shapes do not overlap raster.\n"
     ]
    },
    {
     "name": "stderr",
     "output_type": "stream",
     "text": [
      "Computing zonal stats:  63%|██████▎   | 186/295 [4:12:13<2:26:16, 80.52s/it]"
     ]
    },
    {
     "name": "stdout",
     "output_type": "stream",
     "text": [
      " Skipping geometry 6920: Input shapes do not overlap raster.\n",
      " Skipping geometry 6921: Input shapes do not overlap raster.\n",
      " Skipping geometry 6922: Input shapes do not overlap raster.\n",
      " Skipping geometry 9528: Input shapes do not overlap raster.\n",
      " Skipping geometry 14921: Input shapes do not overlap raster.\n",
      " Skipping geometry 14922: Input shapes do not overlap raster.\n",
      " Skipping geometry 14923: Input shapes do not overlap raster.\n"
     ]
    },
    {
     "name": "stderr",
     "output_type": "stream",
     "text": [
      "Computing zonal stats:  63%|██████▎   | 187/295 [4:13:33<2:24:43, 80.41s/it]"
     ]
    },
    {
     "name": "stdout",
     "output_type": "stream",
     "text": [
      " Skipping geometry 6920: Input shapes do not overlap raster.\n",
      " Skipping geometry 6921: Input shapes do not overlap raster.\n",
      " Skipping geometry 6922: Input shapes do not overlap raster.\n",
      " Skipping geometry 9528: Input shapes do not overlap raster.\n",
      " Skipping geometry 14921: Input shapes do not overlap raster.\n",
      " Skipping geometry 14922: Input shapes do not overlap raster.\n",
      " Skipping geometry 14923: Input shapes do not overlap raster.\n"
     ]
    },
    {
     "name": "stderr",
     "output_type": "stream",
     "text": [
      "Computing zonal stats:  64%|██████▎   | 188/295 [4:14:54<2:23:16, 80.34s/it]"
     ]
    },
    {
     "name": "stdout",
     "output_type": "stream",
     "text": [
      " Skipping geometry 6920: Input shapes do not overlap raster.\n",
      " Skipping geometry 6921: Input shapes do not overlap raster.\n",
      " Skipping geometry 6922: Input shapes do not overlap raster.\n",
      " Skipping geometry 9528: Input shapes do not overlap raster.\n",
      " Skipping geometry 14921: Input shapes do not overlap raster.\n",
      " Skipping geometry 14922: Input shapes do not overlap raster.\n",
      " Skipping geometry 14923: Input shapes do not overlap raster.\n"
     ]
    },
    {
     "name": "stderr",
     "output_type": "stream",
     "text": [
      "Computing zonal stats:  64%|██████▍   | 189/295 [4:16:13<2:21:32, 80.12s/it]"
     ]
    },
    {
     "name": "stdout",
     "output_type": "stream",
     "text": [
      " Skipping geometry 6920: Input shapes do not overlap raster.\n",
      " Skipping geometry 6921: Input shapes do not overlap raster.\n",
      " Skipping geometry 6922: Input shapes do not overlap raster.\n",
      " Skipping geometry 9528: Input shapes do not overlap raster.\n",
      " Skipping geometry 14921: Input shapes do not overlap raster.\n",
      " Skipping geometry 14922: Input shapes do not overlap raster.\n",
      " Skipping geometry 14923: Input shapes do not overlap raster.\n"
     ]
    },
    {
     "name": "stderr",
     "output_type": "stream",
     "text": [
      "Computing zonal stats:  64%|██████▍   | 190/295 [4:17:33<2:20:06, 80.06s/it]"
     ]
    },
    {
     "name": "stdout",
     "output_type": "stream",
     "text": [
      " Skipping geometry 6920: Input shapes do not overlap raster.\n",
      " Skipping geometry 6921: Input shapes do not overlap raster.\n",
      " Skipping geometry 6922: Input shapes do not overlap raster.\n",
      " Skipping geometry 9528: Input shapes do not overlap raster.\n",
      " Skipping geometry 14921: Input shapes do not overlap raster.\n",
      " Skipping geometry 14922: Input shapes do not overlap raster.\n",
      " Skipping geometry 14923: Input shapes do not overlap raster.\n"
     ]
    },
    {
     "name": "stderr",
     "output_type": "stream",
     "text": [
      "Computing zonal stats:  65%|██████▍   | 191/295 [4:18:53<2:18:44, 80.04s/it]"
     ]
    },
    {
     "name": "stdout",
     "output_type": "stream",
     "text": [
      " Skipping geometry 6920: Input shapes do not overlap raster.\n",
      " Skipping geometry 6921: Input shapes do not overlap raster.\n",
      " Skipping geometry 6922: Input shapes do not overlap raster.\n",
      " Skipping geometry 9528: Input shapes do not overlap raster.\n",
      " Skipping geometry 14921: Input shapes do not overlap raster.\n",
      " Skipping geometry 14922: Input shapes do not overlap raster.\n",
      " Skipping geometry 14923: Input shapes do not overlap raster.\n"
     ]
    },
    {
     "name": "stderr",
     "output_type": "stream",
     "text": [
      "Computing zonal stats:  65%|██████▌   | 192/295 [4:20:12<2:16:57, 79.78s/it]"
     ]
    },
    {
     "name": "stdout",
     "output_type": "stream",
     "text": [
      " Skipping geometry 6920: Input shapes do not overlap raster.\n",
      " Skipping geometry 6921: Input shapes do not overlap raster.\n",
      " Skipping geometry 6922: Input shapes do not overlap raster.\n",
      " Skipping geometry 9528: Input shapes do not overlap raster.\n",
      " Skipping geometry 14921: Input shapes do not overlap raster.\n",
      " Skipping geometry 14922: Input shapes do not overlap raster.\n",
      " Skipping geometry 14923: Input shapes do not overlap raster.\n"
     ]
    },
    {
     "name": "stderr",
     "output_type": "stream",
     "text": [
      "Computing zonal stats:  65%|██████▌   | 193/295 [4:21:34<2:16:23, 80.23s/it]"
     ]
    },
    {
     "name": "stdout",
     "output_type": "stream",
     "text": [
      " Skipping geometry 6920: Input shapes do not overlap raster.\n",
      " Skipping geometry 6921: Input shapes do not overlap raster.\n",
      " Skipping geometry 6922: Input shapes do not overlap raster.\n",
      " Skipping geometry 9528: Input shapes do not overlap raster.\n",
      " Skipping geometry 14921: Input shapes do not overlap raster.\n",
      " Skipping geometry 14922: Input shapes do not overlap raster.\n",
      " Skipping geometry 14923: Input shapes do not overlap raster.\n"
     ]
    },
    {
     "name": "stderr",
     "output_type": "stream",
     "text": [
      "Computing zonal stats:  66%|██████▌   | 194/295 [4:22:54<2:15:03, 80.23s/it]"
     ]
    },
    {
     "name": "stdout",
     "output_type": "stream",
     "text": [
      " Skipping geometry 6920: Input shapes do not overlap raster.\n",
      " Skipping geometry 6921: Input shapes do not overlap raster.\n",
      " Skipping geometry 6922: Input shapes do not overlap raster.\n",
      " Skipping geometry 9528: Input shapes do not overlap raster.\n",
      " Skipping geometry 14921: Input shapes do not overlap raster.\n",
      " Skipping geometry 14922: Input shapes do not overlap raster.\n",
      " Skipping geometry 14923: Input shapes do not overlap raster.\n"
     ]
    },
    {
     "name": "stderr",
     "output_type": "stream",
     "text": [
      "Computing zonal stats:  66%|██████▌   | 195/295 [4:24:15<2:13:57, 80.37s/it]"
     ]
    },
    {
     "name": "stdout",
     "output_type": "stream",
     "text": [
      " Skipping geometry 6920: Input shapes do not overlap raster.\n",
      " Skipping geometry 6921: Input shapes do not overlap raster.\n",
      " Skipping geometry 6922: Input shapes do not overlap raster.\n",
      " Skipping geometry 9528: Input shapes do not overlap raster.\n",
      " Skipping geometry 14921: Input shapes do not overlap raster.\n",
      " Skipping geometry 14922: Input shapes do not overlap raster.\n",
      " Skipping geometry 14923: Input shapes do not overlap raster.\n"
     ]
    },
    {
     "name": "stderr",
     "output_type": "stream",
     "text": [
      "Computing zonal stats:  66%|██████▋   | 196/295 [4:25:34<2:12:07, 80.08s/it]"
     ]
    },
    {
     "name": "stdout",
     "output_type": "stream",
     "text": [
      " Skipping geometry 6920: Input shapes do not overlap raster.\n",
      " Skipping geometry 6921: Input shapes do not overlap raster.\n",
      " Skipping geometry 6922: Input shapes do not overlap raster.\n",
      " Skipping geometry 9528: Input shapes do not overlap raster.\n",
      " Skipping geometry 14921: Input shapes do not overlap raster.\n",
      " Skipping geometry 14922: Input shapes do not overlap raster.\n",
      " Skipping geometry 14923: Input shapes do not overlap raster.\n"
     ]
    },
    {
     "name": "stderr",
     "output_type": "stream",
     "text": [
      "Computing zonal stats:  67%|██████▋   | 197/295 [4:26:53<2:10:30, 79.90s/it]"
     ]
    },
    {
     "name": "stdout",
     "output_type": "stream",
     "text": [
      " Skipping geometry 6920: Input shapes do not overlap raster.\n",
      " Skipping geometry 6921: Input shapes do not overlap raster.\n",
      " Skipping geometry 6922: Input shapes do not overlap raster.\n",
      " Skipping geometry 9528: Input shapes do not overlap raster.\n",
      " Skipping geometry 14921: Input shapes do not overlap raster.\n",
      " Skipping geometry 14922: Input shapes do not overlap raster.\n",
      " Skipping geometry 14923: Input shapes do not overlap raster.\n"
     ]
    },
    {
     "name": "stderr",
     "output_type": "stream",
     "text": [
      "Computing zonal stats:  67%|██████▋   | 198/295 [4:28:14<2:09:25, 80.05s/it]"
     ]
    },
    {
     "name": "stdout",
     "output_type": "stream",
     "text": [
      " Skipping geometry 6920: Input shapes do not overlap raster.\n",
      " Skipping geometry 6921: Input shapes do not overlap raster.\n",
      " Skipping geometry 6922: Input shapes do not overlap raster.\n",
      " Skipping geometry 9528: Input shapes do not overlap raster.\n",
      " Skipping geometry 14921: Input shapes do not overlap raster.\n",
      " Skipping geometry 14922: Input shapes do not overlap raster.\n",
      " Skipping geometry 14923: Input shapes do not overlap raster.\n"
     ]
    },
    {
     "name": "stderr",
     "output_type": "stream",
     "text": [
      "Computing zonal stats:  67%|██████▋   | 199/295 [4:29:34<2:08:13, 80.14s/it]"
     ]
    },
    {
     "name": "stdout",
     "output_type": "stream",
     "text": [
      " Skipping geometry 6920: Input shapes do not overlap raster.\n",
      " Skipping geometry 6921: Input shapes do not overlap raster.\n",
      " Skipping geometry 6922: Input shapes do not overlap raster.\n",
      " Skipping geometry 9528: Input shapes do not overlap raster.\n",
      " Skipping geometry 14921: Input shapes do not overlap raster.\n",
      " Skipping geometry 14922: Input shapes do not overlap raster.\n",
      " Skipping geometry 14923: Input shapes do not overlap raster.\n"
     ]
    },
    {
     "name": "stderr",
     "output_type": "stream",
     "text": [
      "Computing zonal stats:  68%|██████▊   | 200/295 [4:30:54<2:06:55, 80.16s/it]"
     ]
    },
    {
     "name": "stdout",
     "output_type": "stream",
     "text": [
      " Skipping geometry 6920: Input shapes do not overlap raster.\n",
      " Skipping geometry 6921: Input shapes do not overlap raster.\n",
      " Skipping geometry 6922: Input shapes do not overlap raster.\n",
      " Skipping geometry 9528: Input shapes do not overlap raster.\n",
      " Skipping geometry 14921: Input shapes do not overlap raster.\n",
      " Skipping geometry 14922: Input shapes do not overlap raster.\n",
      " Skipping geometry 14923: Input shapes do not overlap raster.\n"
     ]
    },
    {
     "name": "stderr",
     "output_type": "stream",
     "text": [
      "Computing zonal stats:  68%|██████▊   | 201/295 [4:32:15<2:05:37, 80.19s/it]"
     ]
    },
    {
     "name": "stdout",
     "output_type": "stream",
     "text": [
      " Skipping geometry 6920: Input shapes do not overlap raster.\n",
      " Skipping geometry 6921: Input shapes do not overlap raster.\n",
      " Skipping geometry 6922: Input shapes do not overlap raster.\n",
      " Skipping geometry 9528: Input shapes do not overlap raster.\n",
      " Skipping geometry 14921: Input shapes do not overlap raster.\n",
      " Skipping geometry 14922: Input shapes do not overlap raster.\n",
      " Skipping geometry 14923: Input shapes do not overlap raster.\n"
     ]
    },
    {
     "name": "stderr",
     "output_type": "stream",
     "text": [
      "Computing zonal stats:  68%|██████▊   | 202/295 [4:33:35<2:04:16, 80.18s/it]"
     ]
    },
    {
     "name": "stdout",
     "output_type": "stream",
     "text": [
      " Skipping geometry 6920: Input shapes do not overlap raster.\n",
      " Skipping geometry 6921: Input shapes do not overlap raster.\n",
      " Skipping geometry 6922: Input shapes do not overlap raster.\n",
      " Skipping geometry 9528: Input shapes do not overlap raster.\n",
      " Skipping geometry 14921: Input shapes do not overlap raster.\n",
      " Skipping geometry 14922: Input shapes do not overlap raster.\n",
      " Skipping geometry 14923: Input shapes do not overlap raster.\n"
     ]
    },
    {
     "name": "stderr",
     "output_type": "stream",
     "text": [
      "Computing zonal stats:  69%|██████▉   | 203/295 [4:34:56<2:03:16, 80.40s/it]"
     ]
    },
    {
     "name": "stdout",
     "output_type": "stream",
     "text": [
      " Skipping geometry 6920: Input shapes do not overlap raster.\n",
      " Skipping geometry 6921: Input shapes do not overlap raster.\n",
      " Skipping geometry 6922: Input shapes do not overlap raster.\n",
      " Skipping geometry 9528: Input shapes do not overlap raster.\n",
      " Skipping geometry 14921: Input shapes do not overlap raster.\n",
      " Skipping geometry 14922: Input shapes do not overlap raster.\n",
      " Skipping geometry 14923: Input shapes do not overlap raster.\n"
     ]
    },
    {
     "name": "stderr",
     "output_type": "stream",
     "text": [
      "Computing zonal stats:  69%|██████▉   | 204/295 [4:36:18<2:02:48, 80.97s/it]"
     ]
    },
    {
     "name": "stdout",
     "output_type": "stream",
     "text": [
      " Skipping geometry 6920: Input shapes do not overlap raster.\n",
      " Skipping geometry 6921: Input shapes do not overlap raster.\n",
      " Skipping geometry 6922: Input shapes do not overlap raster.\n",
      " Skipping geometry 9528: Input shapes do not overlap raster.\n",
      " Skipping geometry 14921: Input shapes do not overlap raster.\n",
      " Skipping geometry 14922: Input shapes do not overlap raster.\n",
      " Skipping geometry 14923: Input shapes do not overlap raster.\n"
     ]
    },
    {
     "name": "stderr",
     "output_type": "stream",
     "text": [
      "Computing zonal stats:  69%|██████▉   | 205/295 [4:37:38<2:01:02, 80.70s/it]"
     ]
    },
    {
     "name": "stdout",
     "output_type": "stream",
     "text": [
      " Skipping geometry 6920: Input shapes do not overlap raster.\n",
      " Skipping geometry 6921: Input shapes do not overlap raster.\n",
      " Skipping geometry 6922: Input shapes do not overlap raster.\n",
      " Skipping geometry 9528: Input shapes do not overlap raster.\n",
      " Skipping geometry 14921: Input shapes do not overlap raster.\n",
      " Skipping geometry 14922: Input shapes do not overlap raster.\n",
      " Skipping geometry 14923: Input shapes do not overlap raster.\n"
     ]
    },
    {
     "name": "stderr",
     "output_type": "stream",
     "text": [
      "Computing zonal stats:  70%|██████▉   | 206/295 [4:38:58<1:59:27, 80.53s/it]"
     ]
    },
    {
     "name": "stdout",
     "output_type": "stream",
     "text": [
      " Skipping geometry 6920: Input shapes do not overlap raster.\n",
      " Skipping geometry 6921: Input shapes do not overlap raster.\n",
      " Skipping geometry 6922: Input shapes do not overlap raster.\n",
      " Skipping geometry 9528: Input shapes do not overlap raster.\n",
      " Skipping geometry 14921: Input shapes do not overlap raster.\n",
      " Skipping geometry 14922: Input shapes do not overlap raster.\n",
      " Skipping geometry 14923: Input shapes do not overlap raster.\n"
     ]
    },
    {
     "name": "stderr",
     "output_type": "stream",
     "text": [
      "Computing zonal stats:  70%|███████   | 207/295 [4:40:18<1:57:57, 80.43s/it]"
     ]
    },
    {
     "name": "stdout",
     "output_type": "stream",
     "text": [
      " Skipping geometry 6920: Input shapes do not overlap raster.\n",
      " Skipping geometry 6921: Input shapes do not overlap raster.\n",
      " Skipping geometry 6922: Input shapes do not overlap raster.\n",
      " Skipping geometry 9528: Input shapes do not overlap raster.\n",
      " Skipping geometry 14921: Input shapes do not overlap raster.\n",
      " Skipping geometry 14922: Input shapes do not overlap raster.\n",
      " Skipping geometry 14923: Input shapes do not overlap raster.\n"
     ]
    },
    {
     "name": "stderr",
     "output_type": "stream",
     "text": [
      "Computing zonal stats:  71%|███████   | 208/295 [4:41:38<1:56:16, 80.19s/it]"
     ]
    },
    {
     "name": "stdout",
     "output_type": "stream",
     "text": [
      " Skipping geometry 6920: Input shapes do not overlap raster.\n",
      " Skipping geometry 6921: Input shapes do not overlap raster.\n",
      " Skipping geometry 6922: Input shapes do not overlap raster.\n",
      " Skipping geometry 9528: Input shapes do not overlap raster.\n",
      " Skipping geometry 14921: Input shapes do not overlap raster.\n",
      " Skipping geometry 14922: Input shapes do not overlap raster.\n",
      " Skipping geometry 14923: Input shapes do not overlap raster.\n"
     ]
    },
    {
     "name": "stderr",
     "output_type": "stream",
     "text": [
      "Computing zonal stats:  71%|███████   | 209/295 [4:42:58<1:54:43, 80.04s/it]"
     ]
    },
    {
     "name": "stdout",
     "output_type": "stream",
     "text": [
      " Skipping geometry 6920: Input shapes do not overlap raster.\n",
      " Skipping geometry 6921: Input shapes do not overlap raster.\n",
      " Skipping geometry 6922: Input shapes do not overlap raster.\n",
      " Skipping geometry 9528: Input shapes do not overlap raster.\n",
      " Skipping geometry 14921: Input shapes do not overlap raster.\n",
      " Skipping geometry 14922: Input shapes do not overlap raster.\n",
      " Skipping geometry 14923: Input shapes do not overlap raster.\n"
     ]
    },
    {
     "name": "stderr",
     "output_type": "stream",
     "text": [
      "Computing zonal stats:  71%|███████   | 210/295 [4:44:19<1:53:46, 80.31s/it]"
     ]
    },
    {
     "name": "stdout",
     "output_type": "stream",
     "text": [
      " Skipping geometry 6920: Input shapes do not overlap raster.\n",
      " Skipping geometry 6921: Input shapes do not overlap raster.\n",
      " Skipping geometry 6922: Input shapes do not overlap raster.\n",
      " Skipping geometry 9528: Input shapes do not overlap raster.\n",
      " Skipping geometry 14921: Input shapes do not overlap raster.\n",
      " Skipping geometry 14922: Input shapes do not overlap raster.\n",
      " Skipping geometry 14923: Input shapes do not overlap raster.\n"
     ]
    },
    {
     "name": "stderr",
     "output_type": "stream",
     "text": [
      "Computing zonal stats:  72%|███████▏  | 211/295 [4:45:38<1:51:59, 80.00s/it]"
     ]
    },
    {
     "name": "stdout",
     "output_type": "stream",
     "text": [
      " Skipping geometry 6920: Input shapes do not overlap raster.\n",
      " Skipping geometry 6921: Input shapes do not overlap raster.\n",
      " Skipping geometry 6922: Input shapes do not overlap raster.\n",
      " Skipping geometry 9528: Input shapes do not overlap raster.\n",
      " Skipping geometry 14921: Input shapes do not overlap raster.\n",
      " Skipping geometry 14922: Input shapes do not overlap raster.\n",
      " Skipping geometry 14923: Input shapes do not overlap raster.\n"
     ]
    },
    {
     "name": "stderr",
     "output_type": "stream",
     "text": [
      "Computing zonal stats:  72%|███████▏  | 212/295 [4:46:57<1:50:25, 79.82s/it]"
     ]
    },
    {
     "name": "stdout",
     "output_type": "stream",
     "text": [
      " Skipping geometry 6920: Input shapes do not overlap raster.\n",
      " Skipping geometry 6921: Input shapes do not overlap raster.\n",
      " Skipping geometry 6922: Input shapes do not overlap raster.\n",
      " Skipping geometry 9528: Input shapes do not overlap raster.\n",
      " Skipping geometry 14921: Input shapes do not overlap raster.\n",
      " Skipping geometry 14922: Input shapes do not overlap raster.\n",
      " Skipping geometry 14923: Input shapes do not overlap raster.\n"
     ]
    },
    {
     "name": "stderr",
     "output_type": "stream",
     "text": [
      "Computing zonal stats:  72%|███████▏  | 213/295 [4:48:16<1:48:46, 79.60s/it]"
     ]
    },
    {
     "name": "stdout",
     "output_type": "stream",
     "text": [
      " Skipping geometry 6920: Input shapes do not overlap raster.\n",
      " Skipping geometry 6921: Input shapes do not overlap raster.\n",
      " Skipping geometry 6922: Input shapes do not overlap raster.\n",
      " Skipping geometry 9528: Input shapes do not overlap raster.\n",
      " Skipping geometry 14921: Input shapes do not overlap raster.\n",
      " Skipping geometry 14922: Input shapes do not overlap raster.\n",
      " Skipping geometry 14923: Input shapes do not overlap raster.\n"
     ]
    },
    {
     "name": "stderr",
     "output_type": "stream",
     "text": [
      "Computing zonal stats:  73%|███████▎  | 214/295 [4:49:36<1:47:29, 79.63s/it]"
     ]
    },
    {
     "name": "stdout",
     "output_type": "stream",
     "text": [
      " Skipping geometry 6920: Input shapes do not overlap raster.\n",
      " Skipping geometry 6921: Input shapes do not overlap raster.\n",
      " Skipping geometry 6922: Input shapes do not overlap raster.\n",
      " Skipping geometry 9528: Input shapes do not overlap raster.\n",
      " Skipping geometry 14921: Input shapes do not overlap raster.\n",
      " Skipping geometry 14922: Input shapes do not overlap raster.\n",
      " Skipping geometry 14923: Input shapes do not overlap raster.\n"
     ]
    },
    {
     "name": "stderr",
     "output_type": "stream",
     "text": [
      "Computing zonal stats:  73%|███████▎  | 215/295 [4:50:57<1:46:28, 79.86s/it]"
     ]
    },
    {
     "name": "stdout",
     "output_type": "stream",
     "text": [
      " Skipping geometry 6920: Input shapes do not overlap raster.\n",
      " Skipping geometry 6921: Input shapes do not overlap raster.\n",
      " Skipping geometry 6922: Input shapes do not overlap raster.\n",
      " Skipping geometry 9528: Input shapes do not overlap raster.\n",
      " Skipping geometry 14921: Input shapes do not overlap raster.\n",
      " Skipping geometry 14922: Input shapes do not overlap raster.\n",
      " Skipping geometry 14923: Input shapes do not overlap raster.\n"
     ]
    },
    {
     "name": "stderr",
     "output_type": "stream",
     "text": [
      "Computing zonal stats:  73%|███████▎  | 216/295 [4:52:16<1:45:01, 79.77s/it]"
     ]
    },
    {
     "name": "stdout",
     "output_type": "stream",
     "text": [
      " Skipping geometry 6920: Input shapes do not overlap raster.\n",
      " Skipping geometry 6921: Input shapes do not overlap raster.\n",
      " Skipping geometry 6922: Input shapes do not overlap raster.\n",
      " Skipping geometry 9528: Input shapes do not overlap raster.\n",
      " Skipping geometry 14921: Input shapes do not overlap raster.\n",
      " Skipping geometry 14922: Input shapes do not overlap raster.\n",
      " Skipping geometry 14923: Input shapes do not overlap raster.\n"
     ]
    },
    {
     "name": "stderr",
     "output_type": "stream",
     "text": [
      "Computing zonal stats:  74%|███████▎  | 217/295 [4:53:35<1:43:27, 79.58s/it]"
     ]
    },
    {
     "name": "stdout",
     "output_type": "stream",
     "text": [
      " Skipping geometry 6920: Input shapes do not overlap raster.\n",
      " Skipping geometry 6921: Input shapes do not overlap raster.\n",
      " Skipping geometry 6922: Input shapes do not overlap raster.\n",
      " Skipping geometry 9528: Input shapes do not overlap raster.\n",
      " Skipping geometry 14921: Input shapes do not overlap raster.\n",
      " Skipping geometry 14922: Input shapes do not overlap raster.\n",
      " Skipping geometry 14923: Input shapes do not overlap raster.\n"
     ]
    },
    {
     "name": "stderr",
     "output_type": "stream",
     "text": [
      "Computing zonal stats:  74%|███████▍  | 218/295 [4:54:55<1:42:18, 79.72s/it]"
     ]
    },
    {
     "name": "stdout",
     "output_type": "stream",
     "text": [
      " Skipping geometry 6920: Input shapes do not overlap raster.\n",
      " Skipping geometry 6921: Input shapes do not overlap raster.\n",
      " Skipping geometry 6922: Input shapes do not overlap raster.\n",
      " Skipping geometry 9528: Input shapes do not overlap raster.\n",
      " Skipping geometry 14921: Input shapes do not overlap raster.\n",
      " Skipping geometry 14922: Input shapes do not overlap raster.\n",
      " Skipping geometry 14923: Input shapes do not overlap raster.\n"
     ]
    },
    {
     "name": "stderr",
     "output_type": "stream",
     "text": [
      "Computing zonal stats:  74%|███████▍  | 219/295 [4:56:16<1:41:13, 79.92s/it]"
     ]
    },
    {
     "name": "stdout",
     "output_type": "stream",
     "text": [
      " Skipping geometry 6920: Input shapes do not overlap raster.\n",
      " Skipping geometry 6921: Input shapes do not overlap raster.\n",
      " Skipping geometry 6922: Input shapes do not overlap raster.\n",
      " Skipping geometry 9528: Input shapes do not overlap raster.\n",
      " Skipping geometry 14921: Input shapes do not overlap raster.\n",
      " Skipping geometry 14922: Input shapes do not overlap raster.\n",
      " Skipping geometry 14923: Input shapes do not overlap raster.\n"
     ]
    },
    {
     "name": "stderr",
     "output_type": "stream",
     "text": [
      "Computing zonal stats:  75%|███████▍  | 220/295 [4:57:35<1:39:44, 79.80s/it]"
     ]
    },
    {
     "name": "stdout",
     "output_type": "stream",
     "text": [
      " Skipping geometry 6920: Input shapes do not overlap raster.\n",
      " Skipping geometry 6921: Input shapes do not overlap raster.\n",
      " Skipping geometry 6922: Input shapes do not overlap raster.\n",
      " Skipping geometry 9528: Input shapes do not overlap raster.\n",
      " Skipping geometry 14921: Input shapes do not overlap raster.\n",
      " Skipping geometry 14922: Input shapes do not overlap raster.\n",
      " Skipping geometry 14923: Input shapes do not overlap raster.\n"
     ]
    },
    {
     "name": "stderr",
     "output_type": "stream",
     "text": [
      "Computing zonal stats:  75%|███████▍  | 221/295 [4:58:55<1:38:15, 79.68s/it]"
     ]
    },
    {
     "name": "stdout",
     "output_type": "stream",
     "text": [
      " Skipping geometry 6920: Input shapes do not overlap raster.\n",
      " Skipping geometry 6921: Input shapes do not overlap raster.\n",
      " Skipping geometry 6922: Input shapes do not overlap raster.\n",
      " Skipping geometry 9528: Input shapes do not overlap raster.\n",
      " Skipping geometry 14921: Input shapes do not overlap raster.\n",
      " Skipping geometry 14922: Input shapes do not overlap raster.\n",
      " Skipping geometry 14923: Input shapes do not overlap raster.\n"
     ]
    },
    {
     "name": "stderr",
     "output_type": "stream",
     "text": [
      "Computing zonal stats:  75%|███████▌  | 222/295 [5:00:15<1:37:08, 79.85s/it]"
     ]
    },
    {
     "name": "stdout",
     "output_type": "stream",
     "text": [
      " Skipping geometry 6920: Input shapes do not overlap raster.\n",
      " Skipping geometry 6921: Input shapes do not overlap raster.\n",
      " Skipping geometry 6922: Input shapes do not overlap raster.\n",
      " Skipping geometry 9528: Input shapes do not overlap raster.\n",
      " Skipping geometry 14921: Input shapes do not overlap raster.\n",
      " Skipping geometry 14922: Input shapes do not overlap raster.\n",
      " Skipping geometry 14923: Input shapes do not overlap raster.\n"
     ]
    },
    {
     "name": "stderr",
     "output_type": "stream",
     "text": [
      "Computing zonal stats:  76%|███████▌  | 223/295 [5:01:35<1:35:49, 79.86s/it]"
     ]
    },
    {
     "name": "stdout",
     "output_type": "stream",
     "text": [
      " Skipping geometry 6920: Input shapes do not overlap raster.\n",
      " Skipping geometry 6921: Input shapes do not overlap raster.\n",
      " Skipping geometry 6922: Input shapes do not overlap raster.\n",
      " Skipping geometry 9528: Input shapes do not overlap raster.\n",
      " Skipping geometry 14921: Input shapes do not overlap raster.\n",
      " Skipping geometry 14922: Input shapes do not overlap raster.\n",
      " Skipping geometry 14923: Input shapes do not overlap raster.\n"
     ]
    },
    {
     "name": "stderr",
     "output_type": "stream",
     "text": [
      "Computing zonal stats:  76%|███████▌  | 224/295 [5:02:55<1:34:41, 80.02s/it]"
     ]
    },
    {
     "name": "stdout",
     "output_type": "stream",
     "text": [
      " Skipping geometry 6920: Input shapes do not overlap raster.\n",
      " Skipping geometry 6921: Input shapes do not overlap raster.\n",
      " Skipping geometry 6922: Input shapes do not overlap raster.\n",
      " Skipping geometry 9528: Input shapes do not overlap raster.\n",
      " Skipping geometry 14921: Input shapes do not overlap raster.\n",
      " Skipping geometry 14922: Input shapes do not overlap raster.\n",
      " Skipping geometry 14923: Input shapes do not overlap raster.\n"
     ]
    },
    {
     "name": "stderr",
     "output_type": "stream",
     "text": [
      "Computing zonal stats:  76%|███████▋  | 225/295 [5:04:15<1:33:26, 80.09s/it]"
     ]
    },
    {
     "name": "stdout",
     "output_type": "stream",
     "text": [
      " Skipping geometry 6920: Input shapes do not overlap raster.\n",
      " Skipping geometry 6921: Input shapes do not overlap raster.\n",
      " Skipping geometry 6922: Input shapes do not overlap raster.\n",
      " Skipping geometry 9528: Input shapes do not overlap raster.\n",
      " Skipping geometry 14921: Input shapes do not overlap raster.\n",
      " Skipping geometry 14922: Input shapes do not overlap raster.\n",
      " Skipping geometry 14923: Input shapes do not overlap raster.\n"
     ]
    },
    {
     "name": "stderr",
     "output_type": "stream",
     "text": [
      "Computing zonal stats:  77%|███████▋  | 226/295 [5:05:35<1:31:50, 79.86s/it]"
     ]
    },
    {
     "name": "stdout",
     "output_type": "stream",
     "text": [
      " Skipping geometry 6920: Input shapes do not overlap raster.\n",
      " Skipping geometry 6921: Input shapes do not overlap raster.\n",
      " Skipping geometry 6922: Input shapes do not overlap raster.\n",
      " Skipping geometry 9528: Input shapes do not overlap raster.\n",
      " Skipping geometry 14921: Input shapes do not overlap raster.\n",
      " Skipping geometry 14922: Input shapes do not overlap raster.\n",
      " Skipping geometry 14923: Input shapes do not overlap raster.\n"
     ]
    },
    {
     "name": "stderr",
     "output_type": "stream",
     "text": [
      "Computing zonal stats:  77%|███████▋  | 227/295 [5:06:54<1:30:22, 79.74s/it]"
     ]
    },
    {
     "name": "stdout",
     "output_type": "stream",
     "text": [
      " Skipping geometry 6920: Input shapes do not overlap raster.\n",
      " Skipping geometry 6921: Input shapes do not overlap raster.\n",
      " Skipping geometry 6922: Input shapes do not overlap raster.\n",
      " Skipping geometry 9528: Input shapes do not overlap raster.\n",
      " Skipping geometry 14921: Input shapes do not overlap raster.\n",
      " Skipping geometry 14922: Input shapes do not overlap raster.\n",
      " Skipping geometry 14923: Input shapes do not overlap raster.\n"
     ]
    },
    {
     "name": "stderr",
     "output_type": "stream",
     "text": [
      "Computing zonal stats:  77%|███████▋  | 228/295 [5:08:13<1:28:39, 79.40s/it]"
     ]
    },
    {
     "name": "stdout",
     "output_type": "stream",
     "text": [
      " Skipping geometry 6920: Input shapes do not overlap raster.\n",
      " Skipping geometry 6921: Input shapes do not overlap raster.\n",
      " Skipping geometry 6922: Input shapes do not overlap raster.\n",
      " Skipping geometry 9528: Input shapes do not overlap raster.\n",
      " Skipping geometry 14921: Input shapes do not overlap raster.\n",
      " Skipping geometry 14922: Input shapes do not overlap raster.\n",
      " Skipping geometry 14923: Input shapes do not overlap raster.\n"
     ]
    },
    {
     "name": "stderr",
     "output_type": "stream",
     "text": [
      "Computing zonal stats:  78%|███████▊  | 229/295 [5:09:32<1:27:16, 79.34s/it]"
     ]
    },
    {
     "name": "stdout",
     "output_type": "stream",
     "text": [
      " Skipping geometry 6920: Input shapes do not overlap raster.\n",
      " Skipping geometry 6921: Input shapes do not overlap raster.\n",
      " Skipping geometry 6922: Input shapes do not overlap raster.\n",
      " Skipping geometry 9528: Input shapes do not overlap raster.\n",
      " Skipping geometry 14921: Input shapes do not overlap raster.\n",
      " Skipping geometry 14922: Input shapes do not overlap raster.\n",
      " Skipping geometry 14923: Input shapes do not overlap raster.\n"
     ]
    },
    {
     "name": "stderr",
     "output_type": "stream",
     "text": [
      "Computing zonal stats:  78%|███████▊  | 230/295 [5:10:54<1:26:42, 80.03s/it]"
     ]
    },
    {
     "name": "stdout",
     "output_type": "stream",
     "text": [
      " Skipping geometry 6920: Input shapes do not overlap raster.\n",
      " Skipping geometry 6921: Input shapes do not overlap raster.\n",
      " Skipping geometry 6922: Input shapes do not overlap raster.\n",
      " Skipping geometry 9528: Input shapes do not overlap raster.\n",
      " Skipping geometry 14921: Input shapes do not overlap raster.\n",
      " Skipping geometry 14922: Input shapes do not overlap raster.\n",
      " Skipping geometry 14923: Input shapes do not overlap raster.\n"
     ]
    },
    {
     "name": "stderr",
     "output_type": "stream",
     "text": [
      "Computing zonal stats:  78%|███████▊  | 231/295 [5:12:13<1:25:03, 79.74s/it]"
     ]
    },
    {
     "name": "stdout",
     "output_type": "stream",
     "text": [
      " Skipping geometry 6920: Input shapes do not overlap raster.\n",
      " Skipping geometry 6921: Input shapes do not overlap raster.\n",
      " Skipping geometry 6922: Input shapes do not overlap raster.\n",
      " Skipping geometry 9528: Input shapes do not overlap raster.\n",
      " Skipping geometry 14921: Input shapes do not overlap raster.\n",
      " Skipping geometry 14922: Input shapes do not overlap raster.\n",
      " Skipping geometry 14923: Input shapes do not overlap raster.\n"
     ]
    },
    {
     "name": "stderr",
     "output_type": "stream",
     "text": [
      "Computing zonal stats:  79%|███████▊  | 232/295 [5:13:32<1:23:37, 79.64s/it]"
     ]
    },
    {
     "name": "stdout",
     "output_type": "stream",
     "text": [
      " Skipping geometry 6920: Input shapes do not overlap raster.\n",
      " Skipping geometry 6921: Input shapes do not overlap raster.\n",
      " Skipping geometry 6922: Input shapes do not overlap raster.\n",
      " Skipping geometry 9528: Input shapes do not overlap raster.\n",
      " Skipping geometry 14921: Input shapes do not overlap raster.\n",
      " Skipping geometry 14922: Input shapes do not overlap raster.\n",
      " Skipping geometry 14923: Input shapes do not overlap raster.\n"
     ]
    },
    {
     "name": "stderr",
     "output_type": "stream",
     "text": [
      "Computing zonal stats:  79%|███████▉  | 233/295 [5:14:53<1:22:40, 80.01s/it]"
     ]
    },
    {
     "name": "stdout",
     "output_type": "stream",
     "text": [
      " Skipping geometry 6920: Input shapes do not overlap raster.\n",
      " Skipping geometry 6921: Input shapes do not overlap raster.\n",
      " Skipping geometry 6922: Input shapes do not overlap raster.\n",
      " Skipping geometry 9528: Input shapes do not overlap raster.\n",
      " Skipping geometry 14921: Input shapes do not overlap raster.\n",
      " Skipping geometry 14922: Input shapes do not overlap raster.\n",
      " Skipping geometry 14923: Input shapes do not overlap raster.\n"
     ]
    },
    {
     "name": "stderr",
     "output_type": "stream",
     "text": [
      "Computing zonal stats:  79%|███████▉  | 234/295 [5:16:13<1:21:16, 79.94s/it]"
     ]
    },
    {
     "name": "stdout",
     "output_type": "stream",
     "text": [
      " Skipping geometry 6920: Input shapes do not overlap raster.\n",
      " Skipping geometry 6921: Input shapes do not overlap raster.\n",
      " Skipping geometry 6922: Input shapes do not overlap raster.\n",
      " Skipping geometry 9528: Input shapes do not overlap raster.\n",
      " Skipping geometry 14921: Input shapes do not overlap raster.\n",
      " Skipping geometry 14922: Input shapes do not overlap raster.\n",
      " Skipping geometry 14923: Input shapes do not overlap raster.\n"
     ]
    },
    {
     "name": "stderr",
     "output_type": "stream",
     "text": [
      "Computing zonal stats:  80%|███████▉  | 235/295 [5:17:32<1:19:52, 79.88s/it]"
     ]
    },
    {
     "name": "stdout",
     "output_type": "stream",
     "text": [
      " Skipping geometry 6920: Input shapes do not overlap raster.\n",
      " Skipping geometry 6921: Input shapes do not overlap raster.\n",
      " Skipping geometry 6922: Input shapes do not overlap raster.\n",
      " Skipping geometry 9528: Input shapes do not overlap raster.\n",
      " Skipping geometry 14921: Input shapes do not overlap raster.\n",
      " Skipping geometry 14922: Input shapes do not overlap raster.\n",
      " Skipping geometry 14923: Input shapes do not overlap raster.\n"
     ]
    },
    {
     "name": "stderr",
     "output_type": "stream",
     "text": [
      "Computing zonal stats:  80%|████████  | 236/295 [5:18:52<1:18:32, 79.87s/it]"
     ]
    },
    {
     "name": "stdout",
     "output_type": "stream",
     "text": [
      " Skipping geometry 6920: Input shapes do not overlap raster.\n",
      " Skipping geometry 6921: Input shapes do not overlap raster.\n",
      " Skipping geometry 6922: Input shapes do not overlap raster.\n",
      " Skipping geometry 9528: Input shapes do not overlap raster.\n",
      " Skipping geometry 14921: Input shapes do not overlap raster.\n",
      " Skipping geometry 14922: Input shapes do not overlap raster.\n",
      " Skipping geometry 14923: Input shapes do not overlap raster.\n"
     ]
    },
    {
     "name": "stderr",
     "output_type": "stream",
     "text": [
      "Computing zonal stats:  80%|████████  | 237/295 [5:20:12<1:17:10, 79.83s/it]"
     ]
    },
    {
     "name": "stdout",
     "output_type": "stream",
     "text": [
      " Skipping geometry 6920: Input shapes do not overlap raster.\n",
      " Skipping geometry 6921: Input shapes do not overlap raster.\n",
      " Skipping geometry 6922: Input shapes do not overlap raster.\n",
      " Skipping geometry 9528: Input shapes do not overlap raster.\n",
      " Skipping geometry 14921: Input shapes do not overlap raster.\n",
      " Skipping geometry 14922: Input shapes do not overlap raster.\n",
      " Skipping geometry 14923: Input shapes do not overlap raster.\n"
     ]
    },
    {
     "name": "stderr",
     "output_type": "stream",
     "text": [
      "Computing zonal stats:  81%|████████  | 238/295 [5:21:31<1:15:43, 79.71s/it]"
     ]
    },
    {
     "name": "stdout",
     "output_type": "stream",
     "text": [
      " Skipping geometry 6920: Input shapes do not overlap raster.\n",
      " Skipping geometry 6921: Input shapes do not overlap raster.\n",
      " Skipping geometry 6922: Input shapes do not overlap raster.\n",
      " Skipping geometry 9528: Input shapes do not overlap raster.\n",
      " Skipping geometry 14921: Input shapes do not overlap raster.\n",
      " Skipping geometry 14922: Input shapes do not overlap raster.\n",
      " Skipping geometry 14923: Input shapes do not overlap raster.\n"
     ]
    },
    {
     "name": "stderr",
     "output_type": "stream",
     "text": [
      "Computing zonal stats:  81%|████████  | 239/295 [5:22:51<1:14:16, 79.58s/it]"
     ]
    },
    {
     "name": "stdout",
     "output_type": "stream",
     "text": [
      " Skipping geometry 6920: Input shapes do not overlap raster.\n",
      " Skipping geometry 6921: Input shapes do not overlap raster.\n",
      " Skipping geometry 6922: Input shapes do not overlap raster.\n",
      " Skipping geometry 9528: Input shapes do not overlap raster.\n",
      " Skipping geometry 14921: Input shapes do not overlap raster.\n",
      " Skipping geometry 14922: Input shapes do not overlap raster.\n",
      " Skipping geometry 14923: Input shapes do not overlap raster.\n"
     ]
    },
    {
     "name": "stderr",
     "output_type": "stream",
     "text": [
      "Computing zonal stats:  81%|████████▏ | 240/295 [5:24:12<1:13:21, 80.03s/it]"
     ]
    },
    {
     "name": "stdout",
     "output_type": "stream",
     "text": [
      " Skipping geometry 6920: Input shapes do not overlap raster.\n",
      " Skipping geometry 6921: Input shapes do not overlap raster.\n",
      " Skipping geometry 6922: Input shapes do not overlap raster.\n",
      " Skipping geometry 9528: Input shapes do not overlap raster.\n",
      " Skipping geometry 14921: Input shapes do not overlap raster.\n",
      " Skipping geometry 14922: Input shapes do not overlap raster.\n",
      " Skipping geometry 14923: Input shapes do not overlap raster.\n"
     ]
    },
    {
     "name": "stderr",
     "output_type": "stream",
     "text": [
      "Computing zonal stats:  82%|████████▏ | 241/295 [5:25:31<1:11:50, 79.81s/it]"
     ]
    },
    {
     "name": "stdout",
     "output_type": "stream",
     "text": [
      " Skipping geometry 6920: Input shapes do not overlap raster.\n",
      " Skipping geometry 6921: Input shapes do not overlap raster.\n",
      " Skipping geometry 6922: Input shapes do not overlap raster.\n",
      " Skipping geometry 9528: Input shapes do not overlap raster.\n",
      " Skipping geometry 14921: Input shapes do not overlap raster.\n",
      " Skipping geometry 14922: Input shapes do not overlap raster.\n",
      " Skipping geometry 14923: Input shapes do not overlap raster.\n"
     ]
    },
    {
     "name": "stderr",
     "output_type": "stream",
     "text": [
      "Computing zonal stats:  82%|████████▏ | 242/295 [5:26:51<1:10:28, 79.79s/it]"
     ]
    },
    {
     "name": "stdout",
     "output_type": "stream",
     "text": [
      " Skipping geometry 6920: Input shapes do not overlap raster.\n",
      " Skipping geometry 6921: Input shapes do not overlap raster.\n",
      " Skipping geometry 6922: Input shapes do not overlap raster.\n",
      " Skipping geometry 9528: Input shapes do not overlap raster.\n",
      " Skipping geometry 14921: Input shapes do not overlap raster.\n",
      " Skipping geometry 14922: Input shapes do not overlap raster.\n",
      " Skipping geometry 14923: Input shapes do not overlap raster.\n"
     ]
    },
    {
     "name": "stderr",
     "output_type": "stream",
     "text": [
      "Computing zonal stats:  82%|████████▏ | 243/295 [5:28:11<1:09:11, 79.83s/it]"
     ]
    },
    {
     "name": "stdout",
     "output_type": "stream",
     "text": [
      " Skipping geometry 6920: Input shapes do not overlap raster.\n",
      " Skipping geometry 6921: Input shapes do not overlap raster.\n",
      " Skipping geometry 6922: Input shapes do not overlap raster.\n",
      " Skipping geometry 9528: Input shapes do not overlap raster.\n",
      " Skipping geometry 14921: Input shapes do not overlap raster.\n",
      " Skipping geometry 14922: Input shapes do not overlap raster.\n",
      " Skipping geometry 14923: Input shapes do not overlap raster.\n"
     ]
    },
    {
     "name": "stderr",
     "output_type": "stream",
     "text": [
      "Computing zonal stats:  83%|████████▎ | 244/295 [5:29:30<1:07:46, 79.74s/it]"
     ]
    },
    {
     "name": "stdout",
     "output_type": "stream",
     "text": [
      " Skipping geometry 6920: Input shapes do not overlap raster.\n",
      " Skipping geometry 6921: Input shapes do not overlap raster.\n",
      " Skipping geometry 6922: Input shapes do not overlap raster.\n",
      " Skipping geometry 9528: Input shapes do not overlap raster.\n",
      " Skipping geometry 14921: Input shapes do not overlap raster.\n",
      " Skipping geometry 14922: Input shapes do not overlap raster.\n",
      " Skipping geometry 14923: Input shapes do not overlap raster.\n"
     ]
    },
    {
     "name": "stderr",
     "output_type": "stream",
     "text": [
      "Computing zonal stats:  83%|████████▎ | 245/295 [5:30:51<1:06:41, 80.04s/it]"
     ]
    },
    {
     "name": "stdout",
     "output_type": "stream",
     "text": [
      " Skipping geometry 6920: Input shapes do not overlap raster.\n",
      " Skipping geometry 6921: Input shapes do not overlap raster.\n",
      " Skipping geometry 6922: Input shapes do not overlap raster.\n",
      " Skipping geometry 9528: Input shapes do not overlap raster.\n",
      " Skipping geometry 14921: Input shapes do not overlap raster.\n",
      " Skipping geometry 14922: Input shapes do not overlap raster.\n",
      " Skipping geometry 14923: Input shapes do not overlap raster.\n"
     ]
    },
    {
     "name": "stderr",
     "output_type": "stream",
     "text": [
      "Computing zonal stats:  83%|████████▎ | 246/295 [5:32:11<1:05:28, 80.17s/it]"
     ]
    },
    {
     "name": "stdout",
     "output_type": "stream",
     "text": [
      " Skipping geometry 6920: Input shapes do not overlap raster.\n",
      " Skipping geometry 6921: Input shapes do not overlap raster.\n",
      " Skipping geometry 6922: Input shapes do not overlap raster.\n",
      " Skipping geometry 9528: Input shapes do not overlap raster.\n",
      " Skipping geometry 14921: Input shapes do not overlap raster.\n",
      " Skipping geometry 14922: Input shapes do not overlap raster.\n",
      " Skipping geometry 14923: Input shapes do not overlap raster.\n"
     ]
    },
    {
     "name": "stderr",
     "output_type": "stream",
     "text": [
      "Computing zonal stats:  84%|████████▎ | 247/295 [5:33:32<1:04:15, 80.32s/it]"
     ]
    },
    {
     "name": "stdout",
     "output_type": "stream",
     "text": [
      " Skipping geometry 6920: Input shapes do not overlap raster.\n",
      " Skipping geometry 6921: Input shapes do not overlap raster.\n",
      " Skipping geometry 6922: Input shapes do not overlap raster.\n",
      " Skipping geometry 9528: Input shapes do not overlap raster.\n",
      " Skipping geometry 14921: Input shapes do not overlap raster.\n",
      " Skipping geometry 14922: Input shapes do not overlap raster.\n",
      " Skipping geometry 14923: Input shapes do not overlap raster.\n"
     ]
    },
    {
     "name": "stderr",
     "output_type": "stream",
     "text": [
      "Computing zonal stats:  84%|████████▍ | 248/295 [5:34:52<1:02:54, 80.31s/it]"
     ]
    },
    {
     "name": "stdout",
     "output_type": "stream",
     "text": [
      " Skipping geometry 6920: Input shapes do not overlap raster.\n",
      " Skipping geometry 6921: Input shapes do not overlap raster.\n",
      " Skipping geometry 6922: Input shapes do not overlap raster.\n",
      " Skipping geometry 9528: Input shapes do not overlap raster.\n",
      " Skipping geometry 14921: Input shapes do not overlap raster.\n",
      " Skipping geometry 14922: Input shapes do not overlap raster.\n",
      " Skipping geometry 14923: Input shapes do not overlap raster.\n"
     ]
    },
    {
     "name": "stderr",
     "output_type": "stream",
     "text": [
      "Computing zonal stats:  84%|████████▍ | 249/295 [5:36:12<1:01:24, 80.11s/it]"
     ]
    },
    {
     "name": "stdout",
     "output_type": "stream",
     "text": [
      " Skipping geometry 6920: Input shapes do not overlap raster.\n",
      " Skipping geometry 6921: Input shapes do not overlap raster.\n",
      " Skipping geometry 6922: Input shapes do not overlap raster.\n",
      " Skipping geometry 9528: Input shapes do not overlap raster.\n",
      " Skipping geometry 14921: Input shapes do not overlap raster.\n",
      " Skipping geometry 14922: Input shapes do not overlap raster.\n",
      " Skipping geometry 14923: Input shapes do not overlap raster.\n"
     ]
    },
    {
     "name": "stderr",
     "output_type": "stream",
     "text": [
      "Computing zonal stats:  85%|████████▍ | 250/295 [5:37:33<1:00:19, 80.44s/it]"
     ]
    },
    {
     "name": "stdout",
     "output_type": "stream",
     "text": [
      " Skipping geometry 6920: Input shapes do not overlap raster.\n",
      " Skipping geometry 6921: Input shapes do not overlap raster.\n",
      " Skipping geometry 6922: Input shapes do not overlap raster.\n",
      " Skipping geometry 9528: Input shapes do not overlap raster.\n",
      " Skipping geometry 14921: Input shapes do not overlap raster.\n",
      " Skipping geometry 14922: Input shapes do not overlap raster.\n",
      " Skipping geometry 14923: Input shapes do not overlap raster.\n"
     ]
    },
    {
     "name": "stderr",
     "output_type": "stream",
     "text": [
      "Computing zonal stats:  85%|████████▌ | 251/295 [5:38:53<58:49, 80.21s/it]  "
     ]
    },
    {
     "name": "stdout",
     "output_type": "stream",
     "text": [
      " Skipping geometry 6920: Input shapes do not overlap raster.\n",
      " Skipping geometry 6921: Input shapes do not overlap raster.\n",
      " Skipping geometry 6922: Input shapes do not overlap raster.\n",
      " Skipping geometry 9528: Input shapes do not overlap raster.\n",
      " Skipping geometry 14921: Input shapes do not overlap raster.\n",
      " Skipping geometry 14922: Input shapes do not overlap raster.\n",
      " Skipping geometry 14923: Input shapes do not overlap raster.\n"
     ]
    },
    {
     "name": "stderr",
     "output_type": "stream",
     "text": [
      "Computing zonal stats:  85%|████████▌ | 252/295 [5:40:13<57:27, 80.18s/it]"
     ]
    },
    {
     "name": "stdout",
     "output_type": "stream",
     "text": [
      " Skipping geometry 6920: Input shapes do not overlap raster.\n",
      " Skipping geometry 6921: Input shapes do not overlap raster.\n",
      " Skipping geometry 6922: Input shapes do not overlap raster.\n",
      " Skipping geometry 9528: Input shapes do not overlap raster.\n",
      " Skipping geometry 14921: Input shapes do not overlap raster.\n",
      " Skipping geometry 14922: Input shapes do not overlap raster.\n",
      " Skipping geometry 14923: Input shapes do not overlap raster.\n"
     ]
    },
    {
     "name": "stderr",
     "output_type": "stream",
     "text": [
      "Computing zonal stats:  86%|████████▌ | 253/295 [5:41:33<56:06, 80.15s/it]"
     ]
    },
    {
     "name": "stdout",
     "output_type": "stream",
     "text": [
      " Skipping geometry 6920: Input shapes do not overlap raster.\n",
      " Skipping geometry 6921: Input shapes do not overlap raster.\n",
      " Skipping geometry 6922: Input shapes do not overlap raster.\n",
      " Skipping geometry 9528: Input shapes do not overlap raster.\n",
      " Skipping geometry 14921: Input shapes do not overlap raster.\n",
      " Skipping geometry 14922: Input shapes do not overlap raster.\n",
      " Skipping geometry 14923: Input shapes do not overlap raster.\n"
     ]
    },
    {
     "name": "stderr",
     "output_type": "stream",
     "text": [
      "Computing zonal stats:  86%|████████▌ | 254/295 [5:42:53<54:41, 80.04s/it]"
     ]
    },
    {
     "name": "stdout",
     "output_type": "stream",
     "text": [
      " Skipping geometry 6920: Input shapes do not overlap raster.\n",
      " Skipping geometry 6921: Input shapes do not overlap raster.\n",
      " Skipping geometry 6922: Input shapes do not overlap raster.\n",
      " Skipping geometry 9528: Input shapes do not overlap raster.\n",
      " Skipping geometry 14921: Input shapes do not overlap raster.\n",
      " Skipping geometry 14922: Input shapes do not overlap raster.\n",
      " Skipping geometry 14923: Input shapes do not overlap raster.\n"
     ]
    },
    {
     "name": "stderr",
     "output_type": "stream",
     "text": [
      "Computing zonal stats:  86%|████████▋ | 255/295 [5:44:13<53:27, 80.18s/it]"
     ]
    },
    {
     "name": "stdout",
     "output_type": "stream",
     "text": [
      " Skipping geometry 6920: Input shapes do not overlap raster.\n",
      " Skipping geometry 6921: Input shapes do not overlap raster.\n",
      " Skipping geometry 6922: Input shapes do not overlap raster.\n",
      " Skipping geometry 9528: Input shapes do not overlap raster.\n",
      " Skipping geometry 14921: Input shapes do not overlap raster.\n",
      " Skipping geometry 14922: Input shapes do not overlap raster.\n",
      " Skipping geometry 14923: Input shapes do not overlap raster.\n"
     ]
    },
    {
     "name": "stderr",
     "output_type": "stream",
     "text": [
      "Computing zonal stats:  87%|████████▋ | 256/295 [5:45:33<52:02, 80.06s/it]"
     ]
    },
    {
     "name": "stdout",
     "output_type": "stream",
     "text": [
      " Skipping geometry 6920: Input shapes do not overlap raster.\n",
      " Skipping geometry 6921: Input shapes do not overlap raster.\n",
      " Skipping geometry 6922: Input shapes do not overlap raster.\n",
      " Skipping geometry 9528: Input shapes do not overlap raster.\n",
      " Skipping geometry 14921: Input shapes do not overlap raster.\n",
      " Skipping geometry 14922: Input shapes do not overlap raster.\n",
      " Skipping geometry 14923: Input shapes do not overlap raster.\n"
     ]
    },
    {
     "name": "stderr",
     "output_type": "stream",
     "text": [
      "Computing zonal stats:  87%|████████▋ | 257/295 [5:46:53<50:38, 79.96s/it]"
     ]
    },
    {
     "name": "stdout",
     "output_type": "stream",
     "text": [
      " Skipping geometry 6920: Input shapes do not overlap raster.\n",
      " Skipping geometry 6921: Input shapes do not overlap raster.\n",
      " Skipping geometry 6922: Input shapes do not overlap raster.\n",
      " Skipping geometry 9528: Input shapes do not overlap raster.\n",
      " Skipping geometry 14921: Input shapes do not overlap raster.\n",
      " Skipping geometry 14922: Input shapes do not overlap raster.\n",
      " Skipping geometry 14923: Input shapes do not overlap raster.\n"
     ]
    },
    {
     "name": "stderr",
     "output_type": "stream",
     "text": [
      "Computing zonal stats:  87%|████████▋ | 258/295 [5:48:13<49:16, 79.90s/it]"
     ]
    },
    {
     "name": "stdout",
     "output_type": "stream",
     "text": [
      " Skipping geometry 6920: Input shapes do not overlap raster.\n",
      " Skipping geometry 6921: Input shapes do not overlap raster.\n",
      " Skipping geometry 6922: Input shapes do not overlap raster.\n",
      " Skipping geometry 9528: Input shapes do not overlap raster.\n",
      " Skipping geometry 14921: Input shapes do not overlap raster.\n",
      " Skipping geometry 14922: Input shapes do not overlap raster.\n",
      " Skipping geometry 14923: Input shapes do not overlap raster.\n"
     ]
    },
    {
     "name": "stderr",
     "output_type": "stream",
     "text": [
      "Computing zonal stats:  88%|████████▊ | 259/295 [5:49:33<47:59, 79.99s/it]"
     ]
    },
    {
     "name": "stdout",
     "output_type": "stream",
     "text": [
      " Skipping geometry 6920: Input shapes do not overlap raster.\n",
      " Skipping geometry 6921: Input shapes do not overlap raster.\n",
      " Skipping geometry 6922: Input shapes do not overlap raster.\n",
      " Skipping geometry 9528: Input shapes do not overlap raster.\n",
      " Skipping geometry 14921: Input shapes do not overlap raster.\n",
      " Skipping geometry 14922: Input shapes do not overlap raster.\n",
      " Skipping geometry 14923: Input shapes do not overlap raster.\n"
     ]
    },
    {
     "name": "stderr",
     "output_type": "stream",
     "text": [
      "Computing zonal stats:  88%|████████▊ | 260/295 [5:50:54<46:47, 80.22s/it]"
     ]
    },
    {
     "name": "stdout",
     "output_type": "stream",
     "text": [
      " Skipping geometry 6920: Input shapes do not overlap raster.\n",
      " Skipping geometry 6921: Input shapes do not overlap raster.\n",
      " Skipping geometry 6922: Input shapes do not overlap raster.\n",
      " Skipping geometry 9528: Input shapes do not overlap raster.\n",
      " Skipping geometry 14921: Input shapes do not overlap raster.\n",
      " Skipping geometry 14922: Input shapes do not overlap raster.\n",
      " Skipping geometry 14923: Input shapes do not overlap raster.\n"
     ]
    },
    {
     "name": "stderr",
     "output_type": "stream",
     "text": [
      "Computing zonal stats:  88%|████████▊ | 261/295 [5:52:14<45:28, 80.24s/it]"
     ]
    },
    {
     "name": "stdout",
     "output_type": "stream",
     "text": [
      " Skipping geometry 6920: Input shapes do not overlap raster.\n",
      " Skipping geometry 6921: Input shapes do not overlap raster.\n",
      " Skipping geometry 6922: Input shapes do not overlap raster.\n",
      " Skipping geometry 9528: Input shapes do not overlap raster.\n",
      " Skipping geometry 14921: Input shapes do not overlap raster.\n",
      " Skipping geometry 14922: Input shapes do not overlap raster.\n",
      " Skipping geometry 14923: Input shapes do not overlap raster.\n"
     ]
    },
    {
     "name": "stderr",
     "output_type": "stream",
     "text": [
      "Computing zonal stats:  89%|████████▉ | 262/295 [5:53:34<44:02, 80.07s/it]"
     ]
    },
    {
     "name": "stdout",
     "output_type": "stream",
     "text": [
      " Skipping geometry 6920: Input shapes do not overlap raster.\n",
      " Skipping geometry 6921: Input shapes do not overlap raster.\n",
      " Skipping geometry 6922: Input shapes do not overlap raster.\n",
      " Skipping geometry 9528: Input shapes do not overlap raster.\n",
      " Skipping geometry 14921: Input shapes do not overlap raster.\n",
      " Skipping geometry 14922: Input shapes do not overlap raster.\n",
      " Skipping geometry 14923: Input shapes do not overlap raster.\n"
     ]
    },
    {
     "name": "stderr",
     "output_type": "stream",
     "text": [
      "Computing zonal stats:  89%|████████▉ | 263/295 [5:54:54<42:48, 80.26s/it]"
     ]
    },
    {
     "name": "stdout",
     "output_type": "stream",
     "text": [
      " Skipping geometry 6920: Input shapes do not overlap raster.\n",
      " Skipping geometry 6921: Input shapes do not overlap raster.\n",
      " Skipping geometry 6922: Input shapes do not overlap raster.\n",
      " Skipping geometry 9528: Input shapes do not overlap raster.\n",
      " Skipping geometry 14921: Input shapes do not overlap raster.\n",
      " Skipping geometry 14922: Input shapes do not overlap raster.\n",
      " Skipping geometry 14923: Input shapes do not overlap raster.\n"
     ]
    },
    {
     "name": "stderr",
     "output_type": "stream",
     "text": [
      "Computing zonal stats:  89%|████████▉ | 264/295 [5:56:14<41:18, 79.96s/it]"
     ]
    },
    {
     "name": "stdout",
     "output_type": "stream",
     "text": [
      " Skipping geometry 6920: Input shapes do not overlap raster.\n",
      " Skipping geometry 6921: Input shapes do not overlap raster.\n",
      " Skipping geometry 6922: Input shapes do not overlap raster.\n",
      " Skipping geometry 9528: Input shapes do not overlap raster.\n",
      " Skipping geometry 14921: Input shapes do not overlap raster.\n",
      " Skipping geometry 14922: Input shapes do not overlap raster.\n",
      " Skipping geometry 14923: Input shapes do not overlap raster.\n"
     ]
    },
    {
     "name": "stderr",
     "output_type": "stream",
     "text": [
      "Computing zonal stats:  90%|████████▉ | 265/295 [5:57:33<39:54, 79.80s/it]"
     ]
    },
    {
     "name": "stdout",
     "output_type": "stream",
     "text": [
      " Skipping geometry 6920: Input shapes do not overlap raster.\n",
      " Skipping geometry 6921: Input shapes do not overlap raster.\n",
      " Skipping geometry 6922: Input shapes do not overlap raster.\n",
      " Skipping geometry 9528: Input shapes do not overlap raster.\n",
      " Skipping geometry 14921: Input shapes do not overlap raster.\n",
      " Skipping geometry 14922: Input shapes do not overlap raster.\n",
      " Skipping geometry 14923: Input shapes do not overlap raster.\n"
     ]
    },
    {
     "name": "stderr",
     "output_type": "stream",
     "text": [
      "Computing zonal stats:  90%|█████████ | 266/295 [5:58:53<38:31, 79.70s/it]"
     ]
    },
    {
     "name": "stdout",
     "output_type": "stream",
     "text": [
      " Skipping geometry 6920: Input shapes do not overlap raster.\n",
      " Skipping geometry 6921: Input shapes do not overlap raster.\n",
      " Skipping geometry 6922: Input shapes do not overlap raster.\n",
      " Skipping geometry 9528: Input shapes do not overlap raster.\n",
      " Skipping geometry 14921: Input shapes do not overlap raster.\n",
      " Skipping geometry 14922: Input shapes do not overlap raster.\n",
      " Skipping geometry 14923: Input shapes do not overlap raster.\n"
     ]
    },
    {
     "name": "stderr",
     "output_type": "stream",
     "text": [
      "Computing zonal stats:  91%|█████████ | 267/295 [6:00:13<37:15, 79.82s/it]"
     ]
    },
    {
     "name": "stdout",
     "output_type": "stream",
     "text": [
      " Skipping geometry 6920: Input shapes do not overlap raster.\n",
      " Skipping geometry 6921: Input shapes do not overlap raster.\n",
      " Skipping geometry 6922: Input shapes do not overlap raster.\n",
      " Skipping geometry 9528: Input shapes do not overlap raster.\n",
      " Skipping geometry 14921: Input shapes do not overlap raster.\n",
      " Skipping geometry 14922: Input shapes do not overlap raster.\n",
      " Skipping geometry 14923: Input shapes do not overlap raster.\n"
     ]
    },
    {
     "name": "stderr",
     "output_type": "stream",
     "text": [
      "Computing zonal stats:  91%|█████████ | 268/295 [6:01:33<35:56, 79.87s/it]"
     ]
    },
    {
     "name": "stdout",
     "output_type": "stream",
     "text": [
      " Skipping geometry 6920: Input shapes do not overlap raster.\n",
      " Skipping geometry 6921: Input shapes do not overlap raster.\n",
      " Skipping geometry 6922: Input shapes do not overlap raster.\n",
      " Skipping geometry 9528: Input shapes do not overlap raster.\n",
      " Skipping geometry 14921: Input shapes do not overlap raster.\n",
      " Skipping geometry 14922: Input shapes do not overlap raster.\n",
      " Skipping geometry 14923: Input shapes do not overlap raster.\n"
     ]
    },
    {
     "name": "stderr",
     "output_type": "stream",
     "text": [
      "Computing zonal stats:  91%|█████████ | 269/295 [6:02:53<34:37, 79.92s/it]"
     ]
    },
    {
     "name": "stdout",
     "output_type": "stream",
     "text": [
      " Skipping geometry 6920: Input shapes do not overlap raster.\n",
      " Skipping geometry 6921: Input shapes do not overlap raster.\n",
      " Skipping geometry 6922: Input shapes do not overlap raster.\n",
      " Skipping geometry 9528: Input shapes do not overlap raster.\n",
      " Skipping geometry 14921: Input shapes do not overlap raster.\n",
      " Skipping geometry 14922: Input shapes do not overlap raster.\n",
      " Skipping geometry 14923: Input shapes do not overlap raster.\n"
     ]
    },
    {
     "name": "stderr",
     "output_type": "stream",
     "text": [
      "Computing zonal stats:  92%|█████████▏| 270/295 [6:04:12<33:13, 79.74s/it]"
     ]
    },
    {
     "name": "stdout",
     "output_type": "stream",
     "text": [
      " Skipping geometry 6920: Input shapes do not overlap raster.\n",
      " Skipping geometry 6921: Input shapes do not overlap raster.\n",
      " Skipping geometry 6922: Input shapes do not overlap raster.\n",
      " Skipping geometry 9528: Input shapes do not overlap raster.\n",
      " Skipping geometry 14921: Input shapes do not overlap raster.\n",
      " Skipping geometry 14922: Input shapes do not overlap raster.\n",
      " Skipping geometry 14923: Input shapes do not overlap raster.\n"
     ]
    },
    {
     "name": "stderr",
     "output_type": "stream",
     "text": [
      "Computing zonal stats:  92%|█████████▏| 271/295 [6:05:31<31:46, 79.45s/it]"
     ]
    },
    {
     "name": "stdout",
     "output_type": "stream",
     "text": [
      " Skipping geometry 6920: Input shapes do not overlap raster.\n",
      " Skipping geometry 6921: Input shapes do not overlap raster.\n",
      " Skipping geometry 6922: Input shapes do not overlap raster.\n",
      " Skipping geometry 9528: Input shapes do not overlap raster.\n",
      " Skipping geometry 14921: Input shapes do not overlap raster.\n",
      " Skipping geometry 14922: Input shapes do not overlap raster.\n",
      " Skipping geometry 14923: Input shapes do not overlap raster.\n"
     ]
    },
    {
     "name": "stderr",
     "output_type": "stream",
     "text": [
      "Computing zonal stats:  92%|█████████▏| 272/295 [6:06:50<30:27, 79.47s/it]"
     ]
    },
    {
     "name": "stdout",
     "output_type": "stream",
     "text": [
      " Skipping geometry 6920: Input shapes do not overlap raster.\n",
      " Skipping geometry 6921: Input shapes do not overlap raster.\n",
      " Skipping geometry 6922: Input shapes do not overlap raster.\n",
      " Skipping geometry 9528: Input shapes do not overlap raster.\n",
      " Skipping geometry 14921: Input shapes do not overlap raster.\n",
      " Skipping geometry 14922: Input shapes do not overlap raster.\n",
      " Skipping geometry 14923: Input shapes do not overlap raster.\n"
     ]
    },
    {
     "name": "stderr",
     "output_type": "stream",
     "text": [
      "Computing zonal stats:  93%|█████████▎| 273/295 [6:08:10<29:07, 79.42s/it]"
     ]
    },
    {
     "name": "stdout",
     "output_type": "stream",
     "text": [
      " Skipping geometry 6920: Input shapes do not overlap raster.\n",
      " Skipping geometry 6921: Input shapes do not overlap raster.\n",
      " Skipping geometry 6922: Input shapes do not overlap raster.\n",
      " Skipping geometry 9528: Input shapes do not overlap raster.\n",
      " Skipping geometry 14921: Input shapes do not overlap raster.\n",
      " Skipping geometry 14922: Input shapes do not overlap raster.\n",
      " Skipping geometry 14923: Input shapes do not overlap raster.\n"
     ]
    },
    {
     "name": "stderr",
     "output_type": "stream",
     "text": [
      "Computing zonal stats:  93%|█████████▎| 274/295 [6:09:29<27:46, 79.37s/it]"
     ]
    },
    {
     "name": "stdout",
     "output_type": "stream",
     "text": [
      " Skipping geometry 6920: Input shapes do not overlap raster.\n",
      " Skipping geometry 6921: Input shapes do not overlap raster.\n",
      " Skipping geometry 6922: Input shapes do not overlap raster.\n",
      " Skipping geometry 9528: Input shapes do not overlap raster.\n",
      " Skipping geometry 14921: Input shapes do not overlap raster.\n",
      " Skipping geometry 14922: Input shapes do not overlap raster.\n",
      " Skipping geometry 14923: Input shapes do not overlap raster.\n"
     ]
    },
    {
     "name": "stderr",
     "output_type": "stream",
     "text": [
      "Computing zonal stats:  93%|█████████▎| 275/295 [6:10:48<26:26, 79.31s/it]"
     ]
    },
    {
     "name": "stdout",
     "output_type": "stream",
     "text": [
      " Skipping geometry 6920: Input shapes do not overlap raster.\n",
      " Skipping geometry 6921: Input shapes do not overlap raster.\n",
      " Skipping geometry 6922: Input shapes do not overlap raster.\n",
      " Skipping geometry 9528: Input shapes do not overlap raster.\n",
      " Skipping geometry 14921: Input shapes do not overlap raster.\n",
      " Skipping geometry 14922: Input shapes do not overlap raster.\n",
      " Skipping geometry 14923: Input shapes do not overlap raster.\n"
     ]
    },
    {
     "name": "stderr",
     "output_type": "stream",
     "text": [
      "Computing zonal stats:  94%|█████████▎| 276/295 [6:12:08<25:09, 79.46s/it]"
     ]
    },
    {
     "name": "stdout",
     "output_type": "stream",
     "text": [
      " Skipping geometry 6920: Input shapes do not overlap raster.\n",
      " Skipping geometry 6921: Input shapes do not overlap raster.\n",
      " Skipping geometry 6922: Input shapes do not overlap raster.\n",
      " Skipping geometry 9528: Input shapes do not overlap raster.\n",
      " Skipping geometry 14921: Input shapes do not overlap raster.\n",
      " Skipping geometry 14922: Input shapes do not overlap raster.\n",
      " Skipping geometry 14923: Input shapes do not overlap raster.\n"
     ]
    },
    {
     "name": "stderr",
     "output_type": "stream",
     "text": [
      "Computing zonal stats:  94%|█████████▍| 277/295 [6:13:29<23:57, 79.88s/it]"
     ]
    },
    {
     "name": "stdout",
     "output_type": "stream",
     "text": [
      " Skipping geometry 6920: Input shapes do not overlap raster.\n",
      " Skipping geometry 6921: Input shapes do not overlap raster.\n",
      " Skipping geometry 6922: Input shapes do not overlap raster.\n",
      " Skipping geometry 9528: Input shapes do not overlap raster.\n",
      " Skipping geometry 14921: Input shapes do not overlap raster.\n",
      " Skipping geometry 14922: Input shapes do not overlap raster.\n",
      " Skipping geometry 14923: Input shapes do not overlap raster.\n"
     ]
    },
    {
     "name": "stderr",
     "output_type": "stream",
     "text": [
      "Computing zonal stats:  94%|█████████▍| 278/295 [6:14:49<22:40, 80.05s/it]"
     ]
    },
    {
     "name": "stdout",
     "output_type": "stream",
     "text": [
      " Skipping geometry 6920: Input shapes do not overlap raster.\n",
      " Skipping geometry 6921: Input shapes do not overlap raster.\n",
      " Skipping geometry 6922: Input shapes do not overlap raster.\n",
      " Skipping geometry 9528: Input shapes do not overlap raster.\n",
      " Skipping geometry 14921: Input shapes do not overlap raster.\n",
      " Skipping geometry 14922: Input shapes do not overlap raster.\n",
      " Skipping geometry 14923: Input shapes do not overlap raster.\n"
     ]
    },
    {
     "name": "stderr",
     "output_type": "stream",
     "text": [
      "Computing zonal stats:  95%|█████████▍| 279/295 [6:16:09<21:21, 80.12s/it]"
     ]
    },
    {
     "name": "stdout",
     "output_type": "stream",
     "text": [
      " Skipping geometry 6920: Input shapes do not overlap raster.\n",
      " Skipping geometry 6921: Input shapes do not overlap raster.\n",
      " Skipping geometry 6922: Input shapes do not overlap raster.\n",
      " Skipping geometry 9528: Input shapes do not overlap raster.\n",
      " Skipping geometry 14921: Input shapes do not overlap raster.\n",
      " Skipping geometry 14922: Input shapes do not overlap raster.\n",
      " Skipping geometry 14923: Input shapes do not overlap raster.\n"
     ]
    },
    {
     "name": "stderr",
     "output_type": "stream",
     "text": [
      "Computing zonal stats:  95%|█████████▍| 280/295 [6:17:30<20:03, 80.21s/it]"
     ]
    },
    {
     "name": "stdout",
     "output_type": "stream",
     "text": [
      " Skipping geometry 6920: Input shapes do not overlap raster.\n",
      " Skipping geometry 6921: Input shapes do not overlap raster.\n",
      " Skipping geometry 6922: Input shapes do not overlap raster.\n",
      " Skipping geometry 9528: Input shapes do not overlap raster.\n",
      " Skipping geometry 14921: Input shapes do not overlap raster.\n",
      " Skipping geometry 14922: Input shapes do not overlap raster.\n",
      " Skipping geometry 14923: Input shapes do not overlap raster.\n"
     ]
    },
    {
     "name": "stderr",
     "output_type": "stream",
     "text": [
      "Computing zonal stats:  95%|█████████▌| 281/295 [6:18:50<18:41, 80.08s/it]"
     ]
    },
    {
     "name": "stdout",
     "output_type": "stream",
     "text": [
      " Skipping geometry 6920: Input shapes do not overlap raster.\n",
      " Skipping geometry 6921: Input shapes do not overlap raster.\n",
      " Skipping geometry 6922: Input shapes do not overlap raster.\n",
      " Skipping geometry 9528: Input shapes do not overlap raster.\n",
      " Skipping geometry 14921: Input shapes do not overlap raster.\n",
      " Skipping geometry 14922: Input shapes do not overlap raster.\n",
      " Skipping geometry 14923: Input shapes do not overlap raster.\n"
     ]
    },
    {
     "name": "stderr",
     "output_type": "stream",
     "text": [
      "Computing zonal stats:  96%|█████████▌| 282/295 [6:20:10<17:23, 80.28s/it]"
     ]
    },
    {
     "name": "stdout",
     "output_type": "stream",
     "text": [
      " Skipping geometry 6920: Input shapes do not overlap raster.\n",
      " Skipping geometry 6921: Input shapes do not overlap raster.\n",
      " Skipping geometry 6922: Input shapes do not overlap raster.\n",
      " Skipping geometry 9528: Input shapes do not overlap raster.\n",
      " Skipping geometry 14921: Input shapes do not overlap raster.\n",
      " Skipping geometry 14922: Input shapes do not overlap raster.\n",
      " Skipping geometry 14923: Input shapes do not overlap raster.\n"
     ]
    },
    {
     "name": "stderr",
     "output_type": "stream",
     "text": [
      "Computing zonal stats:  96%|█████████▌| 283/295 [6:21:31<16:04, 80.38s/it]"
     ]
    },
    {
     "name": "stdout",
     "output_type": "stream",
     "text": [
      " Skipping geometry 6920: Input shapes do not overlap raster.\n",
      " Skipping geometry 6921: Input shapes do not overlap raster.\n",
      " Skipping geometry 6922: Input shapes do not overlap raster.\n",
      " Skipping geometry 9528: Input shapes do not overlap raster.\n",
      " Skipping geometry 14921: Input shapes do not overlap raster.\n",
      " Skipping geometry 14922: Input shapes do not overlap raster.\n",
      " Skipping geometry 14923: Input shapes do not overlap raster.\n"
     ]
    },
    {
     "name": "stderr",
     "output_type": "stream",
     "text": [
      "Computing zonal stats:  96%|█████████▋| 284/295 [6:22:49<14:37, 79.77s/it]"
     ]
    },
    {
     "name": "stdout",
     "output_type": "stream",
     "text": [
      " Skipping geometry 6920: Input shapes do not overlap raster.\n",
      " Skipping geometry 6921: Input shapes do not overlap raster.\n",
      " Skipping geometry 6922: Input shapes do not overlap raster.\n",
      " Skipping geometry 9528: Input shapes do not overlap raster.\n",
      " Skipping geometry 14921: Input shapes do not overlap raster.\n",
      " Skipping geometry 14922: Input shapes do not overlap raster.\n",
      " Skipping geometry 14923: Input shapes do not overlap raster.\n"
     ]
    },
    {
     "name": "stderr",
     "output_type": "stream",
     "text": [
      "Computing zonal stats:  97%|█████████▋| 285/295 [6:24:09<13:16, 79.63s/it]"
     ]
    },
    {
     "name": "stdout",
     "output_type": "stream",
     "text": [
      " Skipping geometry 6920: Input shapes do not overlap raster.\n",
      " Skipping geometry 6921: Input shapes do not overlap raster.\n",
      " Skipping geometry 6922: Input shapes do not overlap raster.\n",
      " Skipping geometry 9528: Input shapes do not overlap raster.\n",
      " Skipping geometry 14921: Input shapes do not overlap raster.\n",
      " Skipping geometry 14922: Input shapes do not overlap raster.\n",
      " Skipping geometry 14923: Input shapes do not overlap raster.\n"
     ]
    },
    {
     "name": "stderr",
     "output_type": "stream",
     "text": [
      "Computing zonal stats:  97%|█████████▋| 286/295 [6:25:28<11:56, 79.64s/it]"
     ]
    },
    {
     "name": "stdout",
     "output_type": "stream",
     "text": [
      " Skipping geometry 6920: Input shapes do not overlap raster.\n",
      " Skipping geometry 6921: Input shapes do not overlap raster.\n",
      " Skipping geometry 6922: Input shapes do not overlap raster.\n",
      " Skipping geometry 9528: Input shapes do not overlap raster.\n",
      " Skipping geometry 14921: Input shapes do not overlap raster.\n",
      " Skipping geometry 14922: Input shapes do not overlap raster.\n",
      " Skipping geometry 14923: Input shapes do not overlap raster.\n"
     ]
    },
    {
     "name": "stderr",
     "output_type": "stream",
     "text": [
      "Computing zonal stats:  97%|█████████▋| 287/295 [6:26:48<10:37, 79.63s/it]"
     ]
    },
    {
     "name": "stdout",
     "output_type": "stream",
     "text": [
      " Skipping geometry 6920: Input shapes do not overlap raster.\n",
      " Skipping geometry 6921: Input shapes do not overlap raster.\n",
      " Skipping geometry 6922: Input shapes do not overlap raster.\n",
      " Skipping geometry 9528: Input shapes do not overlap raster.\n",
      " Skipping geometry 14921: Input shapes do not overlap raster.\n",
      " Skipping geometry 14922: Input shapes do not overlap raster.\n",
      " Skipping geometry 14923: Input shapes do not overlap raster.\n"
     ]
    },
    {
     "name": "stderr",
     "output_type": "stream",
     "text": [
      "Computing zonal stats:  98%|█████████▊| 288/295 [6:28:08<09:18, 79.82s/it]"
     ]
    },
    {
     "name": "stdout",
     "output_type": "stream",
     "text": [
      " Skipping geometry 6920: Input shapes do not overlap raster.\n",
      " Skipping geometry 6921: Input shapes do not overlap raster.\n",
      " Skipping geometry 6922: Input shapes do not overlap raster.\n",
      " Skipping geometry 9528: Input shapes do not overlap raster.\n",
      " Skipping geometry 14921: Input shapes do not overlap raster.\n",
      " Skipping geometry 14922: Input shapes do not overlap raster.\n",
      " Skipping geometry 14923: Input shapes do not overlap raster.\n"
     ]
    },
    {
     "name": "stderr",
     "output_type": "stream",
     "text": [
      "Computing zonal stats:  98%|█████████▊| 289/295 [6:29:27<07:56, 79.44s/it]"
     ]
    },
    {
     "name": "stdout",
     "output_type": "stream",
     "text": [
      " Skipping geometry 6920: Input shapes do not overlap raster.\n",
      " Skipping geometry 6921: Input shapes do not overlap raster.\n",
      " Skipping geometry 6922: Input shapes do not overlap raster.\n",
      " Skipping geometry 9528: Input shapes do not overlap raster.\n",
      " Skipping geometry 14921: Input shapes do not overlap raster.\n",
      " Skipping geometry 14922: Input shapes do not overlap raster.\n",
      " Skipping geometry 14923: Input shapes do not overlap raster.\n"
     ]
    },
    {
     "name": "stderr",
     "output_type": "stream",
     "text": [
      "Computing zonal stats:  98%|█████████▊| 290/295 [6:30:47<06:38, 79.68s/it]"
     ]
    },
    {
     "name": "stdout",
     "output_type": "stream",
     "text": [
      " Skipping geometry 6920: Input shapes do not overlap raster.\n",
      " Skipping geometry 6921: Input shapes do not overlap raster.\n",
      " Skipping geometry 6922: Input shapes do not overlap raster.\n",
      " Skipping geometry 9528: Input shapes do not overlap raster.\n",
      " Skipping geometry 14921: Input shapes do not overlap raster.\n",
      " Skipping geometry 14922: Input shapes do not overlap raster.\n",
      " Skipping geometry 14923: Input shapes do not overlap raster.\n"
     ]
    },
    {
     "name": "stderr",
     "output_type": "stream",
     "text": [
      "Computing zonal stats:  99%|█████████▊| 291/295 [6:32:06<05:18, 79.63s/it]"
     ]
    },
    {
     "name": "stdout",
     "output_type": "stream",
     "text": [
      " Skipping geometry 6920: Input shapes do not overlap raster.\n",
      " Skipping geometry 6921: Input shapes do not overlap raster.\n",
      " Skipping geometry 6922: Input shapes do not overlap raster.\n",
      " Skipping geometry 9528: Input shapes do not overlap raster.\n",
      " Skipping geometry 14921: Input shapes do not overlap raster.\n",
      " Skipping geometry 14922: Input shapes do not overlap raster.\n",
      " Skipping geometry 14923: Input shapes do not overlap raster.\n"
     ]
    },
    {
     "name": "stderr",
     "output_type": "stream",
     "text": [
      "Computing zonal stats:  99%|█████████▉| 292/295 [6:33:27<03:59, 79.77s/it]"
     ]
    },
    {
     "name": "stdout",
     "output_type": "stream",
     "text": [
      " Skipping geometry 6920: Input shapes do not overlap raster.\n",
      " Skipping geometry 6921: Input shapes do not overlap raster.\n",
      " Skipping geometry 6922: Input shapes do not overlap raster.\n",
      " Skipping geometry 9528: Input shapes do not overlap raster.\n",
      " Skipping geometry 14921: Input shapes do not overlap raster.\n",
      " Skipping geometry 14922: Input shapes do not overlap raster.\n",
      " Skipping geometry 14923: Input shapes do not overlap raster.\n"
     ]
    },
    {
     "name": "stderr",
     "output_type": "stream",
     "text": [
      "Computing zonal stats:  99%|█████████▉| 293/295 [6:34:47<02:39, 79.92s/it]"
     ]
    },
    {
     "name": "stdout",
     "output_type": "stream",
     "text": [
      " Skipping geometry 6920: Input shapes do not overlap raster.\n",
      " Skipping geometry 6921: Input shapes do not overlap raster.\n",
      " Skipping geometry 6922: Input shapes do not overlap raster.\n",
      " Skipping geometry 9528: Input shapes do not overlap raster.\n",
      " Skipping geometry 14921: Input shapes do not overlap raster.\n",
      " Skipping geometry 14922: Input shapes do not overlap raster.\n",
      " Skipping geometry 14923: Input shapes do not overlap raster.\n"
     ]
    },
    {
     "name": "stderr",
     "output_type": "stream",
     "text": [
      "Computing zonal stats: 100%|█████████▉| 294/295 [6:36:07<01:19, 79.99s/it]"
     ]
    },
    {
     "name": "stdout",
     "output_type": "stream",
     "text": [
      " Skipping geometry 6920: Input shapes do not overlap raster.\n",
      " Skipping geometry 6921: Input shapes do not overlap raster.\n",
      " Skipping geometry 6922: Input shapes do not overlap raster.\n",
      " Skipping geometry 9528: Input shapes do not overlap raster.\n",
      " Skipping geometry 14921: Input shapes do not overlap raster.\n",
      " Skipping geometry 14922: Input shapes do not overlap raster.\n",
      " Skipping geometry 14923: Input shapes do not overlap raster.\n"
     ]
    },
    {
     "name": "stderr",
     "output_type": "stream",
     "text": [
      "Computing zonal stats: 100%|██████████| 295/295 [6:37:27<00:00, 80.84s/it]\n"
     ]
    },
    {
     "name": "stdout",
     "output_type": "stream",
     "text": [
      "\n",
      "✅ Saved master zonal stats to:\n",
      "C:\\Users\\jbros\\OneDrive\\Documents\\SanDiego_RemoteSensing\\raster_stats\\ECOSTRESS_zonal_all_parcels.csv\n"
     ]
    },
    {
     "data": {
      "text/html": [
       "<div>\n",
       "<style scoped>\n",
       "    .dataframe tbody tr th:only-of-type {\n",
       "        vertical-align: middle;\n",
       "    }\n",
       "\n",
       "    .dataframe tbody tr th {\n",
       "        vertical-align: top;\n",
       "    }\n",
       "\n",
       "    .dataframe thead th {\n",
       "        text-align: right;\n",
       "    }\n",
       "</style>\n",
       "<table border=\"1\" class=\"dataframe\">\n",
       "  <thead>\n",
       "    <tr style=\"text-align: right;\">\n",
       "      <th></th>\n",
       "      <th>site_id</th>\n",
       "      <th>mean_LST</th>\n",
       "      <th>std_LST</th>\n",
       "      <th>datetime</th>\n",
       "    </tr>\n",
       "  </thead>\n",
       "  <tbody>\n",
       "    <tr>\n",
       "      <th>0</th>\n",
       "      <td>AWC001</td>\n",
       "      <td>21.258656</td>\n",
       "      <td>0.471390</td>\n",
       "      <td>2018-07-13 16:43:42</td>\n",
       "    </tr>\n",
       "    <tr>\n",
       "      <th>1</th>\n",
       "      <td>AWC001</td>\n",
       "      <td>21.258656</td>\n",
       "      <td>0.471390</td>\n",
       "      <td>2018-07-13 16:43:42</td>\n",
       "    </tr>\n",
       "    <tr>\n",
       "      <th>2</th>\n",
       "      <td>AWC001</td>\n",
       "      <td>21.258656</td>\n",
       "      <td>0.471390</td>\n",
       "      <td>2018-07-13 16:43:42</td>\n",
       "    </tr>\n",
       "    <tr>\n",
       "      <th>3</th>\n",
       "      <td>AWW023</td>\n",
       "      <td>21.542725</td>\n",
       "      <td>0.484394</td>\n",
       "      <td>2018-07-13 16:43:42</td>\n",
       "    </tr>\n",
       "    <tr>\n",
       "      <th>4</th>\n",
       "      <td>AWW023</td>\n",
       "      <td>21.542725</td>\n",
       "      <td>0.484394</td>\n",
       "      <td>2018-07-13 16:43:42</td>\n",
       "    </tr>\n",
       "  </tbody>\n",
       "</table>\n",
       "</div>"
      ],
      "text/plain": [
       "  site_id   mean_LST   std_LST            datetime\n",
       "0  AWC001  21.258656  0.471390 2018-07-13 16:43:42\n",
       "1  AWC001  21.258656  0.471390 2018-07-13 16:43:42\n",
       "2  AWC001  21.258656  0.471390 2018-07-13 16:43:42\n",
       "3  AWW023  21.542725  0.484394 2018-07-13 16:43:42\n",
       "4  AWW023  21.542725  0.484394 2018-07-13 16:43:42"
      ]
     },
     "metadata": {},
     "output_type": "display_data"
    }
   ],
   "source": [
    "# Create a list to store all per-raster DataFrames\n",
    "all_stats = []\n",
    "\n",
    "# Process all rasters with progress bar\n",
    "for raster_path in tqdm(raster_files, desc=\"Computing zonal stats\"):\n",
    "    try:\n",
    "        df = compute_zonal_stats(raster_path, gdf, output_dir=output_dir)\n",
    "        if not df.empty:\n",
    "            all_stats.append(df)\n",
    "    except Exception as e:\n",
    "        print(f\"⚠️ Failed on {os.path.basename(raster_path)} — {e}\")\n",
    "\n",
    "# Combine all into one master DataFrame\n",
    "if all_stats:\n",
    "    master_df = pd.concat(all_stats, ignore_index=True)\n",
    "    output_csv = os.path.join(output_dir, \"ECOSTRESS_zonal_all_parcels.csv\")\n",
    "    master_df.to_csv(output_csv, index=False)\n",
    "    print(f\"\\n✅ Saved master zonal stats to:\\n{output_csv}\")\n",
    "    display(master_df.head())\n",
    "else:\n",
    "    print(\"❗ No zonal statistics were generated.\")\n"
   ]
  },
  {
   "cell_type": "code",
   "execution_count": 13,
   "id": "a2b10a02-3cba-488b-b7ca-2084dd3ab0d6",
   "metadata": {},
   "outputs": [
    {
     "name": "stdout",
     "output_type": "stream",
     "text": [
      "Filename parse error: combined_zonal_summary.csv\n",
      "Filename parse error: pivoted_LST_stats_wide.csv\n",
      "Saved mean LST CSV to: C:\\Users\\jbros\\OneDrive\\Documents\\SanDiego_RemoteSensing\\raster_stats\\LST_mean_wide.csv\n",
      "Saved std LST CSV to: C:\\Users\\jbros\\OneDrive\\Documents\\SanDiego_RemoteSensing\\raster_stats\\LST_std_wide.csv\n"
     ]
    }
   ],
   "source": [
    "\n",
    "# Cell 2: Set folder path\n",
    "folder_path = r\"C:\\Users\\jbros\\OneDrive\\Documents\\SanDiego_RemoteSensing\\raster_stats\"\n",
    "csv_files = glob(os.path.join(folder_path, \"*.csv\"))\n",
    "\n",
    "# Cell 3: Read and collect all data\n",
    "all_data = []\n",
    "\n",
    "for file in csv_files:\n",
    "    filename = os.path.basename(file)\n",
    "    datetime_str = filename.split(\"_\")[0]  # e.g., 2018.07.13.16.43.42\n",
    "    try:\n",
    "        dt_parts = datetime_str.split(\".\")\n",
    "        full_datetime = f\"{dt_parts[0]}-{dt_parts[1]}-{dt_parts[2]} {dt_parts[3]}:{dt_parts[4]}:{dt_parts[5]}\"\n",
    "    except Exception as e:\n",
    "        print(f\"Filename parse error: {filename}\")\n",
    "        continue\n",
    "\n",
    "    try:\n",
    "        df = pd.read_csv(file)\n",
    "        df['datetime'] = full_datetime\n",
    "        all_data.append(df[['site_id', 'datetime', 'mean_LST', 'std_LST']])\n",
    "    except Exception as e:\n",
    "        print(f\"Read error: {file}: {e}\")\n",
    "\n",
    "# Cell 4: Combine all files\n",
    "combined = pd.concat(all_data, ignore_index=True)\n",
    "\n",
    "# Cell 5: Pivot to wide format (use average in case of duplicates)\n",
    "mean_wide = combined.pivot_table(index='site_id', columns='datetime', values='mean_LST', aggfunc='mean')\n",
    "std_wide  = combined.pivot_table(index='site_id', columns='datetime', values='std_LST', aggfunc='mean')\n",
    "\n",
    "# Optional: Sort columns chronologically\n",
    "mean_wide = mean_wide[sorted(mean_wide.columns)]\n",
    "std_wide = std_wide[sorted(std_wide.columns)]\n",
    "\n",
    "# Cell 6: Save as two separate CSVs\n",
    "mean_csv_path = os.path.join(folder_path, \"LST_mean_wide.csv\")\n",
    "std_csv_path = os.path.join(folder_path, \"LST_std_wide.csv\")\n",
    "\n",
    "mean_wide.to_csv(mean_csv_path)\n",
    "std_wide.to_csv(std_csv_path)\n",
    "\n",
    "print(f\"Saved mean LST CSV to: {mean_csv_path}\")\n",
    "print(f\"Saved std LST CSV to: {std_csv_path}\")\n"
   ]
  }
 ],
 "metadata": {
  "kernelspec": {
   "display_name": "Python 3 (ipykernel)",
   "language": "python",
   "name": "python3"
  },
  "language_info": {
   "codemirror_mode": {
    "name": "ipython",
    "version": 3
   },
   "file_extension": ".py",
   "mimetype": "text/x-python",
   "name": "python",
   "nbconvert_exporter": "python",
   "pygments_lexer": "ipython3",
   "version": "3.12.4"
  }
 },
 "nbformat": 4,
 "nbformat_minor": 5
}
